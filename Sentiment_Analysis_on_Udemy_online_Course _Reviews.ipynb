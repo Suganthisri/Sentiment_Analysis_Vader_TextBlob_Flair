{
 "cells": [
  {
   "cell_type": "markdown",
   "id": "b7dedb01",
   "metadata": {},
   "source": [
    "#     <span style='font-family:Georgia' > Sentiment Analysis on Udemy_online_course_app_review </span>"
   ]
  },
  {
   "cell_type": "markdown",
   "id": "b6a8a4b4",
   "metadata": {},
   "source": [
    "<div class=\"alert alert-info\">\n",
    "Author: Veerasuganthi V<br>\n",
    "Last Modified: 2022/12/5<br>\n",
    "Version: V5.0<br>\n",
    "Email_Id: veerasuganthi.ece@gmail.com<br>\n",
    "</div>"
   ]
  },
  {
   "cell_type": "markdown",
   "id": "a978c5dc",
   "metadata": {},
   "source": [
    "# <span style='color:Purple'>Why sentiment analysis?!</span>"
   ]
  },
  {
   "cell_type": "markdown",
   "id": "e9f57d3d",
   "metadata": {},
   "source": [
    "##### <span style='color:black'> A review on anything(product, movie, person, etc.) is very important these days to get a clear picture of what the end-users think. An enthusiast gives all kinds of reviews on a particular domain or a consumer who has a bad experience provides negative reviews on the product they purchased/used. It’s us who gave “The Shawshank Redemption” a rating of 9.3 and “Student of the Year 2” has a rating of 2.2 on IMDB. Talking about any product’s feedback, We have plenty of user review data if we want to take a look at this particular topic. The sources can be shopping portals like Amazon, Flipkart, Alibaba, Myntra, etc. as well as social media platforms like Twitter, Facebook,etc</span>"
   ]
  },
  {
   "cell_type": "markdown",
   "id": "1038227a",
   "metadata": {},
   "source": [
    "# <img src='https://www.rhythmsystems.com/hs-fs/hubfs/iStock-1028038004.jpg?width=450&name=iStock-1028038004.jpg'/>"
   ]
  },
  {
   "cell_type": "markdown",
   "id": "599018c4",
   "metadata": {},
   "source": [
    "#### Sentiment analysis can be done with or without building a machine learning model. This  will go over the Python implementation of TextBlob, VADER, and Flair for both   model and non-model sentiment analysis."
   ]
  },
  {
   "cell_type": "markdown",
   "id": "0cd83e40",
   "metadata": {},
   "source": [
    "# <div class=\"alert alert-info\">Sentiment Analysis with TextBlob, VADER, and Flair machine Learning model</div> "
   ]
  },
  {
   "cell_type": "markdown",
   "id": "ee555a4e",
   "metadata": {},
   "source": [
    "# <div class=\"alert alert-success\">Data Scrapping</div> "
   ]
  },
  {
   "cell_type": "code",
   "execution_count": 1,
   "id": "98d39ae8",
   "metadata": {
    "scrolled": true
   },
   "outputs": [
    {
     "name": "stdout",
     "output_type": "stream",
     "text": [
      "All the required modules are imported successfully\n"
     ]
    }
   ],
   "source": [
    "#scrappping udamy app review data from googly play\n",
    "!pip install -q google_play_scraper \n",
    "from google_play_scraper  import app , Sort , reviews_all\n",
    "import plotly.express as px\n",
    "\n",
    "import warnings\n",
    "warnings.filterwarnings('ignore')\n",
    "print (\"All the required modules are imported successfully\")"
   ]
  },
  {
   "cell_type": "code",
   "execution_count": 2,
   "id": "84add731",
   "metadata": {},
   "outputs": [
    {
     "name": "stdout",
     "output_type": "stream",
     "text": [
      "All the required modules are imported successfully for vaders and boxplot pretrained\n"
     ]
    },
    {
     "name": "stderr",
     "output_type": "stream",
     "text": [
      "[nltk_data] Downloading package maxent_ne_chunker to\n",
      "[nltk_data]     C:\\Users\\Veerasuganthi\\AppData\\Roaming\\nltk_data...\n",
      "[nltk_data]   Package maxent_ne_chunker is already up-to-date!\n",
      "[nltk_data] Downloading package vader_lexicon to\n",
      "[nltk_data]     C:\\Users\\Veerasuganthi\\AppData\\Roaming\\nltk_data...\n",
      "[nltk_data]   Package vader_lexicon is already up-to-date!\n",
      "[nltk_data] Downloading package words to\n",
      "[nltk_data]     C:\\Users\\Veerasuganthi\\AppData\\Roaming\\nltk_data...\n",
      "[nltk_data]   Package words is already up-to-date!\n"
     ]
    }
   ],
   "source": [
    "import pandas as pd\n",
    "import numpy as np\n",
    "import matplotlib.pyplot as plt\n",
    "import seaborn as sns\n",
    "import re\n",
    "plt.style.use('ggplot')\n",
    "import nltk\n",
    "nltk.download('maxent_ne_chunker')\n",
    "nltk.download('vader_lexicon')\n",
    "nltk.download('words')\n",
    "print (\"All the required modules are imported successfully for vaders and boxplot pretrained\")"
   ]
  },
  {
   "cell_type": "code",
   "execution_count": 3,
   "id": "ad7f9f52",
   "metadata": {},
   "outputs": [],
   "source": [
    "#Data visualization\n",
    "!pip install -q plotly  "
   ]
  },
  {
   "cell_type": "code",
   "execution_count": 4,
   "id": "8b874d32",
   "metadata": {
    "scrolled": true
   },
   "outputs": [],
   "source": [
    "udemy_project =reviews_all('com.udemy.android',sleep_milliseconds=0,lang='en',country='us',sort=Sort.NEWEST)"
   ]
  },
  {
   "cell_type": "code",
   "execution_count": 8,
   "id": "bd86bbef",
   "metadata": {},
   "outputs": [
    {
     "name": "stdout",
     "output_type": "stream",
     "text": [
      "[{'reviewId': 'cc2357ea-f1cd-48ce-815f-f7eda6b900b3', 'userName': 'MD SHAH IMROZ (MASTER IMROZ)', 'userImage': 'https://play-lh.googleusercontent.com/a-/AD5-WCkRHjKLIRxrVGWvFCO0TJGtdMOJlDRZPeml5G8B', 'content': 'Very Good', 'score': 5, 'thumbsUpCount': 0, 'reviewCreatedVersion': None, 'at': datetime.datetime(2022, 12, 11, 21, 10, 28), 'replyContent': None, 'repliedAt': None}, {'reviewId': 'fe0f9ae2-f290-4dcd-b603-e7eea62cace9', 'userName': 'Shankri Subramaniam', 'userImage': 'https://play-lh.googleusercontent.com/a-/AD5-WCnvmsNbEbnO9fm2mcRTVrIuXq0pzc_ox0m5BGJXpQ', 'content': 'Absolutely rubbish & fraudulent. I wanted to buy a course through the app. I did that and the payment was also successful. I did receive an email confirmation. Soon after that when I checked, I could find the course under My learning. I switched between the options to check out for other courses and then came back to My learning where the course was not there anymore. I sent multiple emails to the udemy mail id but no response at all. Also, there is no contact no. seen anywhere on their site.', 'score': 1, 'thumbsUpCount': 0, 'reviewCreatedVersion': '8.9.1', 'at': datetime.datetime(2022, 12, 11, 20, 47, 19), 'replyContent': 'Hi Shankri,\\n\\nThanks for reaching out. Please visit our Help Center (https://support.udemy.com), which has extensive resources to help resolve issues. You can also submit a request to our support team via the Help Center and provide them with more information. Thank you.', 'repliedAt': datetime.datetime(2022, 12, 11, 21, 8, 29)}]\n"
     ]
    }
   ],
   "source": [
    "#Scraped all the udemy reviews from  playstore \n",
    "# Python program to demonstrate\n",
    "# string slicing\n",
    "\n",
    "String = udemy_project\n",
    "# Using indexing sequence\n",
    "print(String[:2])"
   ]
  },
  {
   "cell_type": "code",
   "execution_count": 9,
   "id": "0ff8c1fd",
   "metadata": {},
   "outputs": [],
   "source": [
    "def googleplaystore_scraper(link,milli,lang_code,country_code):\n",
    "    \"\"\"\n",
    "    Function will scrap the reviews from the google playstore for the provided link and return the dataframe\n",
    "    \n",
    "    Arg:\n",
    "    link - provide the google playstore link eg:com.nianticlabs.pokemongo\n",
    "    milli - sleep_milliseconds default to '0'\n",
    "    lang_code - lang eg: 'en'\n",
    "    country_code - country eg: 'us' \n",
    "    \n",
    "    Return: \n",
    "    Dateframe - Dataframe with following features(reviewId,userName,userImage,content,score,thumbsUpCount,reviewCreatedVersion,at,replyContent,repliedAt)\n",
    "    \"\"\"\n",
    "    reviews = reviews_all(link,sleep_milliseconds=milli,lang=lang_code,country=country_code,sort=Sort.NEWEST)\n",
    "    df = pd.DataFrame(np.array(reviews),columns=['content'])\n",
    "    df = df.join(pd.DataFrame(df.pop('content').tolist()))\n",
    "    return df "
   ]
  },
  {
   "cell_type": "code",
   "execution_count": 10,
   "id": "52f287c5",
   "metadata": {},
   "outputs": [
    {
     "name": "stdout",
     "output_type": "stream",
     "text": [
      "CPU times: total: 0 ns\n",
      "Wall time: 397 ms\n"
     ]
    }
   ],
   "source": [
    "%%time\n",
    "df = googleplaystore_scraper('com.recentapps.activities',0,'en','us') #com.google.android.apps.nbu.paisa.user"
   ]
  },
  {
   "cell_type": "code",
   "execution_count": 11,
   "id": "298e063c",
   "metadata": {},
   "outputs": [],
   "source": [
    "reviews_df=pd.DataFrame(udemy_project)"
   ]
  },
  {
   "cell_type": "markdown",
   "id": "0041a4d8",
   "metadata": {},
   "source": [
    "# <div class=\"alert alert-success\">Data Munging/Data Wrangling (aka Data Manipulation)</div> "
   ]
  },
  {
   "cell_type": "code",
   "execution_count": 12,
   "id": "20d4ec88",
   "metadata": {
    "scrolled": false
   },
   "outputs": [],
   "source": [
    "reviews_df=reviews_df.head(90000)"
   ]
  },
  {
   "cell_type": "code",
   "execution_count": 13,
   "id": "ac586040",
   "metadata": {},
   "outputs": [],
   "source": [
    "#Data Backup\n",
    "df1 = reviews_df.copy()"
   ]
  },
  {
   "cell_type": "code",
   "execution_count": 14,
   "id": "77a81b12",
   "metadata": {},
   "outputs": [
    {
     "data": {
      "text/plain": [
       "Index(['reviewId', 'userName', 'userImage', 'content', 'score',\n",
       "       'thumbsUpCount', 'reviewCreatedVersion', 'at', 'replyContent',\n",
       "       'repliedAt'],\n",
       "      dtype='object')"
      ]
     },
     "execution_count": 14,
     "metadata": {},
     "output_type": "execute_result"
    }
   ],
   "source": [
    "reviews_df.columns"
   ]
  },
  {
   "cell_type": "code",
   "execution_count": 15,
   "id": "4e4a0eea",
   "metadata": {},
   "outputs": [],
   "source": [
    "#removing unwanted data columns\n",
    "reviews_df=reviews_df.drop(['reviewId','userName','userImage','thumbsUpCount','reviewCreatedVersion','at','replyContent','repliedAt'],axis=1)"
   ]
  },
  {
   "cell_type": "code",
   "execution_count": 16,
   "id": "2ee39735",
   "metadata": {},
   "outputs": [
    {
     "data": {
      "text/plain": [
       "(72406, 2)"
      ]
     },
     "execution_count": 16,
     "metadata": {},
     "output_type": "execute_result"
    }
   ],
   "source": [
    "reviews_df.shape"
   ]
  },
  {
   "cell_type": "code",
   "execution_count": 17,
   "id": "08e76762",
   "metadata": {},
   "outputs": [],
   "source": [
    "reviews_df.to_csv('Udemy_review_Dataset.csv',index=False)       #Exporting CSV file from the dataframe"
   ]
  },
  {
   "cell_type": "code",
   "execution_count": 18,
   "id": "83c80970",
   "metadata": {},
   "outputs": [],
   "source": [
    "#To read csv file\n",
    "Udemy = pd.read_csv(r'Udemy_review_Dataset.csv',low_memory=False) \n",
    "#If you add index=False, then index row will not appear in your csv file"
   ]
  },
  {
   "cell_type": "code",
   "execution_count": 19,
   "id": "8a02db3a",
   "metadata": {
    "scrolled": false
   },
   "outputs": [
    {
     "name": "stdout",
     "output_type": "stream",
     "text": [
      "<class 'pandas.core.frame.DataFrame'>\n",
      "RangeIndex: 72406 entries, 0 to 72405\n",
      "Data columns (total 2 columns):\n",
      " #   Column   Non-Null Count  Dtype \n",
      "---  ------   --------------  ----- \n",
      " 0   content  72288 non-null  object\n",
      " 1   score    72406 non-null  int64 \n",
      "dtypes: int64(1), object(1)\n",
      "memory usage: 1.1+ MB\n"
     ]
    }
   ],
   "source": [
    "# Data info:\n",
    "reviews_df.info()"
   ]
  },
  {
   "cell_type": "code",
   "execution_count": 20,
   "id": "83a9a103",
   "metadata": {},
   "outputs": [
    {
     "data": {
      "text/html": [
       "<div>\n",
       "<style scoped>\n",
       "    .dataframe tbody tr th:only-of-type {\n",
       "        vertical-align: middle;\n",
       "    }\n",
       "\n",
       "    .dataframe tbody tr th {\n",
       "        vertical-align: top;\n",
       "    }\n",
       "\n",
       "    .dataframe thead th {\n",
       "        text-align: right;\n",
       "    }\n",
       "</style>\n",
       "<table border=\"1\" class=\"dataframe\">\n",
       "  <thead>\n",
       "    <tr style=\"text-align: right;\">\n",
       "      <th></th>\n",
       "      <th>score</th>\n",
       "    </tr>\n",
       "  </thead>\n",
       "  <tbody>\n",
       "    <tr>\n",
       "      <th>count</th>\n",
       "      <td>72406.000000</td>\n",
       "    </tr>\n",
       "    <tr>\n",
       "      <th>mean</th>\n",
       "      <td>3.993191</td>\n",
       "    </tr>\n",
       "    <tr>\n",
       "      <th>std</th>\n",
       "      <td>1.496702</td>\n",
       "    </tr>\n",
       "    <tr>\n",
       "      <th>min</th>\n",
       "      <td>1.000000</td>\n",
       "    </tr>\n",
       "    <tr>\n",
       "      <th>25%</th>\n",
       "      <td>3.000000</td>\n",
       "    </tr>\n",
       "    <tr>\n",
       "      <th>50%</th>\n",
       "      <td>5.000000</td>\n",
       "    </tr>\n",
       "    <tr>\n",
       "      <th>75%</th>\n",
       "      <td>5.000000</td>\n",
       "    </tr>\n",
       "    <tr>\n",
       "      <th>max</th>\n",
       "      <td>5.000000</td>\n",
       "    </tr>\n",
       "  </tbody>\n",
       "</table>\n",
       "</div>"
      ],
      "text/plain": [
       "              score\n",
       "count  72406.000000\n",
       "mean       3.993191\n",
       "std        1.496702\n",
       "min        1.000000\n",
       "25%        3.000000\n",
       "50%        5.000000\n",
       "75%        5.000000\n",
       "max        5.000000"
      ]
     },
     "execution_count": 20,
     "metadata": {},
     "output_type": "execute_result"
    }
   ],
   "source": [
    "reviews_df.describe()"
   ]
  },
  {
   "cell_type": "code",
   "execution_count": 21,
   "id": "f2da8a54",
   "metadata": {
    "scrolled": false
   },
   "outputs": [
    {
     "data": {
      "text/plain": [
       "pandas.core.frame.DataFrame"
      ]
     },
     "execution_count": 21,
     "metadata": {},
     "output_type": "execute_result"
    }
   ],
   "source": [
    "type(reviews_df)                                            #datatype "
   ]
  },
  {
   "cell_type": "code",
   "execution_count": 22,
   "id": "b1fbc715",
   "metadata": {},
   "outputs": [
    {
     "data": {
      "text/plain": [
       "144812"
      ]
     },
     "execution_count": 22,
     "metadata": {},
     "output_type": "execute_result"
    }
   ],
   "source": [
    "reviews_df.size"
   ]
  },
  {
   "cell_type": "code",
   "execution_count": 23,
   "id": "5bfdc657",
   "metadata": {
    "scrolled": true
   },
   "outputs": [
    {
     "data": {
      "text/plain": [
       "Index(['content', 'score'], dtype='object')"
      ]
     },
     "execution_count": 23,
     "metadata": {},
     "output_type": "execute_result"
    }
   ],
   "source": [
    "reviews_df.columns                                       #List the num of columns in the dataset"
   ]
  },
  {
   "cell_type": "code",
   "execution_count": 24,
   "id": "f038a18a",
   "metadata": {
    "scrolled": true
   },
   "outputs": [
    {
     "data": {
      "text/plain": [
       "2"
      ]
     },
     "execution_count": 24,
     "metadata": {},
     "output_type": "execute_result"
    }
   ],
   "source": [
    "reviews_df.columns.value_counts().sum()                  # num of columns in the dataset"
   ]
  },
  {
   "cell_type": "code",
   "execution_count": 25,
   "id": "ec80802a",
   "metadata": {},
   "outputs": [
    {
     "data": {
      "text/plain": [
       "72288"
      ]
     },
     "execution_count": 25,
     "metadata": {},
     "output_type": "execute_result"
    }
   ],
   "source": [
    "reviews_df['content'].value_counts().sum()                 #sum of content counts"
   ]
  },
  {
   "cell_type": "code",
   "execution_count": 26,
   "id": "787b3277",
   "metadata": {},
   "outputs": [
    {
     "data": {
      "text/plain": [
       "72406"
      ]
     },
     "execution_count": 26,
     "metadata": {},
     "output_type": "execute_result"
    }
   ],
   "source": [
    "reviews_df['score'].value_counts().sum()                   #sum of score counts"
   ]
  },
  {
   "cell_type": "markdown",
   "id": "15cc59bc",
   "metadata": {},
   "source": [
    "## <div class=\"alert alert-success\">Handling NaN values</div>     "
   ]
  },
  {
   "cell_type": "code",
   "execution_count": 27,
   "id": "7c2848be",
   "metadata": {},
   "outputs": [
    {
     "data": {
      "text/plain": [
       "118"
      ]
     },
     "execution_count": 27,
     "metadata": {},
     "output_type": "execute_result"
    }
   ],
   "source": [
    "reviews_df.isnull().sum().sum()                               #To check how many total NaN values in the entire dataframe"
   ]
  },
  {
   "cell_type": "code",
   "execution_count": 28,
   "id": "71eab848",
   "metadata": {
    "scrolled": false
   },
   "outputs": [
    {
     "data": {
      "text/plain": [
       "content    118\n",
       "score        0\n",
       "dtype: int64"
      ]
     },
     "execution_count": 28,
     "metadata": {},
     "output_type": "execute_result"
    }
   ],
   "source": [
    "reviews_df.isnull().sum()                                     #To check the NaN values across each features"
   ]
  },
  {
   "cell_type": "code",
   "execution_count": 29,
   "id": "d5129461",
   "metadata": {},
   "outputs": [],
   "source": [
    "reviews_df=reviews_df.dropna(axis=0, how=\"any\", thresh=None, subset='content', inplace=False)  #drop na values in content column"
   ]
  },
  {
   "cell_type": "code",
   "execution_count": 30,
   "id": "5718cd08",
   "metadata": {
    "scrolled": false
   },
   "outputs": [
    {
     "data": {
      "text/plain": [
       "content    0\n",
       "score      0\n",
       "dtype: int64"
      ]
     },
     "execution_count": 30,
     "metadata": {},
     "output_type": "execute_result"
    }
   ],
   "source": [
    "reviews_df.isnull().sum()"
   ]
  },
  {
   "cell_type": "code",
   "execution_count": 31,
   "id": "e3822983",
   "metadata": {},
   "outputs": [],
   "source": [
    "reviews_df1=reviews_df"
   ]
  },
  {
   "cell_type": "markdown",
   "id": "17f97815",
   "metadata": {},
   "source": [
    "# <div class=\"alert alert-success\">Basic NLTK </div>   "
   ]
  },
  {
   "cell_type": "code",
   "execution_count": 32,
   "id": "8da94348",
   "metadata": {
    "scrolled": false
   },
   "outputs": [
    {
     "name": "stdout",
     "output_type": "stream",
     "text": [
      "Very Good\n"
     ]
    }
   ],
   "source": [
    "#Doing basic NLTK  to understand tokkenizing \n",
    "example=reviews_df['content'][0]\n",
    "print(example)"
   ]
  },
  {
   "cell_type": "code",
   "execution_count": 33,
   "id": "6a9af468",
   "metadata": {},
   "outputs": [
    {
     "data": {
      "text/plain": [
       "['Very', 'Good']"
      ]
     },
     "execution_count": 33,
     "metadata": {},
     "output_type": "execute_result"
    }
   ],
   "source": [
    "tokens=nltk.word_tokenize(example)    #Tokenization\n",
    "tokens[:10]                            # taking first 10 single in the sentence"
   ]
  },
  {
   "cell_type": "code",
   "execution_count": 34,
   "id": "ed555163",
   "metadata": {
    "scrolled": true
   },
   "outputs": [
    {
     "data": {
      "text/plain": [
       "[('Very', 'RB'), ('Good', 'JJ')]"
      ]
     },
     "execution_count": 34,
     "metadata": {},
     "output_type": "execute_result"
    }
   ],
   "source": [
    "tagged=nltk.pos_tag(tokens)           #Returns an list of tuples of the form (word, POS tag).\n",
    "tagged[:10]"
   ]
  },
  {
   "cell_type": "code",
   "execution_count": 35,
   "id": "51cf324b",
   "metadata": {
    "scrolled": true
   },
   "outputs": [
    {
     "name": "stdout",
     "output_type": "stream",
     "text": [
      "(S Very/RB Good/JJ)\n"
     ]
    }
   ],
   "source": [
    "entities = nltk.chunk.ne_chunk(tagged)                          #chunk into a sentence \n",
    "entities.pprint()                                                #pprint---pretty print"
   ]
  },
  {
   "cell_type": "markdown",
   "id": "52455d53",
   "metadata": {},
   "source": [
    "### <span style='color:Purple'>Lemmatization</span>"
   ]
  },
  {
   "cell_type": "code",
   "execution_count": 36,
   "id": "ad42f586",
   "metadata": {},
   "outputs": [
    {
     "name": "stdout",
     "output_type": "stream",
     "text": [
      "octopus\n"
     ]
    }
   ],
   "source": [
    "#Lemmatize--Reduce the different forms of a word to one single form,\n",
    "#example---Playing, Played, Plays have common root form Play\n",
    "from textblob import Word\n",
    "w1 = Word('octopi')\n",
    "print(w1.lemmatize())"
   ]
  },
  {
   "cell_type": "code",
   "execution_count": 37,
   "id": "07d04943",
   "metadata": {},
   "outputs": [
    {
     "name": "stdout",
     "output_type": "stream",
     "text": [
      "go\n"
     ]
    }
   ],
   "source": [
    "w2 = Word('went')\n",
    "print(w2.lemmatize('v'))"
   ]
  },
  {
   "cell_type": "code",
   "execution_count": 38,
   "id": "80ded7d9",
   "metadata": {},
   "outputs": [
    {
     "name": "stdout",
     "output_type": "stream",
     "text": [
      "bad\n"
     ]
    }
   ],
   "source": [
    "w3 = Word('worse')\n",
    "print(w3.lemmatize('a'))"
   ]
  },
  {
   "cell_type": "markdown",
   "id": "099dffb1",
   "metadata": {},
   "source": [
    "### <span style='color:Purple'>WordNet--Sysnet</span>"
   ]
  },
  {
   "cell_type": "code",
   "execution_count": 39,
   "id": "10dd494b",
   "metadata": {
    "scrolled": true
   },
   "outputs": [
    {
     "name": "stdout",
     "output_type": "stream",
     "text": [
      "Synset name :   hello.n.01\n",
      "\n",
      "Synset meaning :  an expression of greeting\n",
      "\n",
      "Synset example :  ['every morning they exchanged polite hellos']\n"
     ]
    }
   ],
   "source": [
    "from nltk.corpus import wordnet \n",
    "sys = wordnet.synsets('hello')[0]\n",
    "  \n",
    "print (\"Synset name :  \", sys.name()) \n",
    "# Defining \n",
    "print (\"\\nSynset meaning : \", sys.definition()) \n",
    "# list of phrases that use the word in context \n",
    "print (\"\\nSynset example : \", sys.examples()) "
   ]
  },
  {
   "cell_type": "markdown",
   "id": "ac8151b1",
   "metadata": {},
   "source": [
    "#### <span style='color:Purple'>Spelling Correction</span>"
   ]
  },
  {
   "cell_type": "code",
   "execution_count": 41,
   "id": "c3daae19",
   "metadata": {},
   "outputs": [
    {
     "data": {
      "text/plain": [
       "TextBlob(\"I have good spelling!\")"
      ]
     },
     "execution_count": 41,
     "metadata": {},
     "output_type": "execute_result"
    }
   ],
   "source": [
    "from textblob import TextBlob\n",
    "b = TextBlob(\"I havv goood speling!\")\n",
    "b.correct()"
   ]
  },
  {
   "cell_type": "markdown",
   "id": "820c1057",
   "metadata": {},
   "source": [
    "# <div class=\"alert alert-success\">Sentiment analysis using VADER pretrained model</div>"
   ]
  },
  {
   "cell_type": "markdown",
   "id": "685a8202",
   "metadata": {},
   "source": [
    "  <span style='color:Purple'>We will use NLTK's sentimentIntensityAnalyzer to get the  neg/neu/pos  scores of the text\n",
    "bag of words approach\n",
    "1.Stop words are removed\n",
    "2.Each word is scored and combined  to a total score\n",
    "    VARDER(Valence Aware Dictionary and sEntiment Reasoner) is a pre-trained model that uses rule-based values tuned to sentiments from social media. It evaluates the text of a message and gives you an assessment of not just positive and negative, but the intensity of that emotion as well."
   ]
  },
  {
   "cell_type": "code",
   "execution_count": 42,
   "id": "a0f93b08",
   "metadata": {},
   "outputs": [
    {
     "name": "stdout",
     "output_type": "stream",
     "text": [
      "All the required vader models imported successfully \n"
     ]
    }
   ],
   "source": [
    "from nltk.sentiment import SentimentIntensityAnalyzer\n",
    "from tqdm.notebook import tqdm\n",
    "sia = SentimentIntensityAnalyzer()\n",
    "print('All the required vader models imported successfully ')"
   ]
  },
  {
   "cell_type": "code",
   "execution_count": 43,
   "id": "028a9960",
   "metadata": {},
   "outputs": [],
   "source": [
    "df_vader=reviews_df.head(50000)"
   ]
  },
  {
   "cell_type": "code",
   "execution_count": 47,
   "id": "127d8121",
   "metadata": {
    "scrolled": true
   },
   "outputs": [
    {
     "data": {
      "text/html": [
       "<div>\n",
       "<style scoped>\n",
       "    .dataframe tbody tr th:only-of-type {\n",
       "        vertical-align: middle;\n",
       "    }\n",
       "\n",
       "    .dataframe tbody tr th {\n",
       "        vertical-align: top;\n",
       "    }\n",
       "\n",
       "    .dataframe thead th {\n",
       "        text-align: right;\n",
       "    }\n",
       "</style>\n",
       "<table border=\"1\" class=\"dataframe\">\n",
       "  <thead>\n",
       "    <tr style=\"text-align: right;\">\n",
       "      <th></th>\n",
       "      <th>content</th>\n",
       "      <th>score</th>\n",
       "    </tr>\n",
       "  </thead>\n",
       "  <tbody>\n",
       "    <tr>\n",
       "      <th>0</th>\n",
       "      <td>Very Good</td>\n",
       "      <td>5</td>\n",
       "    </tr>\n",
       "    <tr>\n",
       "      <th>1</th>\n",
       "      <td>Absolutely rubbish &amp; fraudulent. I wanted to b...</td>\n",
       "      <td>1</td>\n",
       "    </tr>\n",
       "    <tr>\n",
       "      <th>2</th>\n",
       "      <td>Good</td>\n",
       "      <td>5</td>\n",
       "    </tr>\n",
       "    <tr>\n",
       "      <th>3</th>\n",
       "      <td>Best</td>\n",
       "      <td>5</td>\n",
       "    </tr>\n",
       "    <tr>\n",
       "      <th>4</th>\n",
       "      <td>After update app become slow, not evn allow to...</td>\n",
       "      <td>1</td>\n",
       "    </tr>\n",
       "  </tbody>\n",
       "</table>\n",
       "</div>"
      ],
      "text/plain": [
       "                                             content  score\n",
       "0                                          Very Good      5\n",
       "1  Absolutely rubbish & fraudulent. I wanted to b...      1\n",
       "2                                               Good      5\n",
       "3                                               Best      5\n",
       "4  After update app become slow, not evn allow to...      1"
      ]
     },
     "execution_count": 47,
     "metadata": {},
     "output_type": "execute_result"
    }
   ],
   "source": [
    "df_vader.head(5)"
   ]
  },
  {
   "cell_type": "code",
   "execution_count": 48,
   "id": "7b500645",
   "metadata": {},
   "outputs": [
    {
     "data": {
      "text/plain": [
       "<nltk.sentiment.vader.SentimentIntensityAnalyzer at 0x28ed2724e80>"
      ]
     },
     "execution_count": 48,
     "metadata": {},
     "output_type": "execute_result"
    }
   ],
   "source": [
    "sia                            #sentimentIntensityAnalyzer object"
   ]
  },
  {
   "cell_type": "code",
   "execution_count": 49,
   "id": "ab132e13",
   "metadata": {
    "scrolled": true
   },
   "outputs": [
    {
     "data": {
      "text/plain": [
       "Index(['content', 'score'], dtype='object')"
      ]
     },
     "execution_count": 49,
     "metadata": {},
     "output_type": "execute_result"
    }
   ],
   "source": [
    "df_vader.columns"
   ]
  },
  {
   "cell_type": "code",
   "execution_count": 50,
   "id": "bd4609d0",
   "metadata": {},
   "outputs": [],
   "source": [
    "df_vader['ID'] = range(1, len(df_vader) + 1)"
   ]
  },
  {
   "cell_type": "code",
   "execution_count": 51,
   "id": "a51834a1",
   "metadata": {
    "scrolled": true
   },
   "outputs": [
    {
     "data": {
      "text/plain": [
       "{'neg': 0.0, 'neu': 0.238, 'pos': 0.762, 'compound': 0.4927}"
      ]
     },
     "execution_count": 51,
     "metadata": {},
     "output_type": "execute_result"
    }
   ],
   "source": [
    " sia.polarity_scores(example)"
   ]
  },
  {
   "cell_type": "code",
   "execution_count": 52,
   "id": "3d4f3cfe",
   "metadata": {},
   "outputs": [
    {
     "data": {
      "application/vnd.jupyter.widget-view+json": {
       "model_id": "dfa48fb78af24d23985e783b9fcb13d1",
       "version_major": 2,
       "version_minor": 0
      },
      "text/plain": [
       "  0%|          | 0/50000 [00:00<?, ?it/s]"
      ]
     },
     "metadata": {},
     "output_type": "display_data"
    }
   ],
   "source": [
    "# Run the polarity score on the entire dataset\n",
    "res={}\n",
    "for i, row in tqdm(df_vader.iterrows(),total=len(df_vader)):\n",
    "    content=row['content']                                     #progress bar addedd\n",
    "    myid=row['ID']\n",
    "    break\n",
    "    "
   ]
  },
  {
   "cell_type": "code",
   "execution_count": 62,
   "id": "32d4fa98",
   "metadata": {},
   "outputs": [
    {
     "data": {
      "application/vnd.jupyter.widget-view+json": {
       "model_id": "c39aea4444af47aba5599c5fb3ccc11a",
       "version_major": 2,
       "version_minor": 0
      },
      "text/plain": [
       "  0%|          | 0/50000 [00:00<?, ?it/s]"
      ]
     },
     "metadata": {},
     "output_type": "display_data"
    }
   ],
   "source": [
    "res={}\n",
    "for i, row in tqdm(df_vader.iterrows(),total=len(df_vader)):\n",
    "    content=row['content']                                     #progress bar addedd\n",
    "    myid=row['ID']\n",
    "    res[myid]=sia.polarity_scores(content)\n",
    "    "
   ]
  },
  {
   "cell_type": "code",
   "execution_count": 64,
   "id": "0674be64",
   "metadata": {},
   "outputs": [
    {
     "data": {
      "text/plain": [
       "{1: {'neg': 0.0, 'neu': 0.238, 'pos': 0.762, 'compound': 0.4927},\n",
       " 2: {'neg': 0.117, 'neu': 0.857, 'pos': 0.026, 'compound': -0.8041},\n",
       " 3: {'neg': 0.0, 'neu': 0.0, 'pos': 1.0, 'compound': 0.4404},\n",
       " 4: {'neg': 0.0, 'neu': 0.0, 'pos': 1.0, 'compound': 0.6369},\n",
       " 5: {'neg': 0.14, 'neu': 0.86, 'pos': 0.0, 'compound': -0.3089},\n",
       " 6: {'neg': 0.0, 'neu': 1.0, 'pos': 0.0, 'compound': 0.0},\n",
       " 7: {'neg': 0.0, 'neu': 1.0, 'pos': 0.0, 'compound': 0.0},\n",
       " 8: {'neg': 0.0, 'neu': 0.0, 'pos': 1.0, 'compound': 0.5859},\n",
       " 9: {'neg': 0.148, 'neu': 0.76, 'pos': 0.091, 'compound': -0.6735},\n",
       " 10: {'neg': 0.0, 'neu': 0.83, 'pos': 0.17, 'compound': 0.8823},\n",
       " 11: {'neg': 0.0, 'neu': 0.849, 'pos': 0.151, 'compound': 0.6119},\n",
       " 12: {'neg': 0.0, 'neu': 0.502, 'pos': 0.498, 'compound': 0.7871},\n",
       " 13: {'neg': 0.0, 'neu': 0.345, 'pos': 0.655, 'compound': 0.5859},\n",
       " 14: {'neg': 0.0, 'neu': 0.826, 'pos': 0.174, 'compound': 0.6369},\n",
       " 15: {'neg': 0.188, 'neu': 0.788, 'pos': 0.024, 'compound': -0.8604},\n",
       " 16: {'neg': 0.0, 'neu': 1.0, 'pos': 0.0, 'compound': 0.0},\n",
       " 17: {'neg': 0.0, 'neu': 1.0, 'pos': 0.0, 'compound': 0.0},\n",
       " 18: {'neg': 0.078, 'neu': 0.793, 'pos': 0.129, 'compound': 0.4409},\n",
       " 19: {'neg': 0.0, 'neu': 0.729, 'pos': 0.271, 'compound': 0.7783},\n",
       " 20: {'neg': 0.0, 'neu': 1.0, 'pos': 0.0, 'compound': 0.0},\n",
       " 21: {'neg': 0.194, 'neu': 0.484, 'pos': 0.323, 'compound': 0.1531},\n",
       " 22: {'neg': 0.053, 'neu': 0.874, 'pos': 0.073, 'compound': 0.2617},\n",
       " 23: {'neg': 0.094, 'neu': 0.906, 'pos': 0.0, 'compound': -0.25},\n",
       " 24: {'neg': 0.154, 'neu': 0.65, 'pos': 0.195, 'compound': 0.128},\n",
       " 25: {'neg': 0.0, 'neu': 0.0, 'pos': 1.0, 'compound': 0.5859},\n",
       " 26: {'neg': 0.0, 'neu': 0.488, 'pos': 0.512, 'compound': 0.6369},\n",
       " 27: {'neg': 0.084, 'neu': 0.763, 'pos': 0.153, 'compound': 0.3612},\n",
       " 28: {'neg': 0.0, 'neu': 0.527, 'pos': 0.473, 'compound': 0.6688},\n",
       " 29: {'neg': 0.0, 'neu': 0.739, 'pos': 0.261, 'compound': 0.8718},\n",
       " 30: {'neg': 0.0, 'neu': 1.0, 'pos': 0.0, 'compound': 0.0},\n",
       " 31: {'neg': 0.0, 'neu': 0.599, 'pos': 0.401, 'compound': 0.8268},\n",
       " 32: {'neg': 0.0, 'neu': 1.0, 'pos': 0.0, 'compound': 0.0},\n",
       " 33: {'neg': 0.0, 'neu': 0.803, 'pos': 0.197, 'compound': 0.4927},\n",
       " 34: {'neg': 0.044, 'neu': 0.683, 'pos': 0.273, 'compound': 0.8555},\n",
       " 35: {'neg': 0.0, 'neu': 0.508, 'pos': 0.492, 'compound': 0.7003},\n",
       " 36: {'neg': 0.0, 'neu': 1.0, 'pos': 0.0, 'compound': 0.0},\n",
       " 37: {'neg': 0.117, 'neu': 0.766, 'pos': 0.117, 'compound': 0.0},\n",
       " 38: {'neg': 0.119, 'neu': 0.8, 'pos': 0.082, 'compound': -0.0397},\n",
       " 39: {'neg': 0.0, 'neu': 0.737, 'pos': 0.263, 'compound': 0.3612},\n",
       " 40: {'neg': 0.0, 'neu': 1.0, 'pos': 0.0, 'compound': 0.0},\n",
       " 41: {'neg': 0.0, 'neu': 0.256, 'pos': 0.744, 'compound': 0.4404},\n",
       " 42: {'neg': 0.0, 'neu': 1.0, 'pos': 0.0, 'compound': 0.0},\n",
       " 43: {'neg': 0.177, 'neu': 0.519, 'pos': 0.304, 'compound': 0.4033},\n",
       " 44: {'neg': 0.0, 'neu': 0.278, 'pos': 0.722, 'compound': 0.3818},\n",
       " 45: {'neg': 0.424, 'neu': 0.576, 'pos': 0.0, 'compound': -0.6324},\n",
       " 46: {'neg': 0.054, 'neu': 0.946, 'pos': 0.0, 'compound': -0.4868},\n",
       " 47: {'neg': 0.333, 'neu': 0.667, 'pos': 0.0, 'compound': -0.5423},\n",
       " 48: {'neg': 0.086, 'neu': 0.724, 'pos': 0.19, 'compound': 0.4588},\n",
       " 49: {'neg': 0.197, 'neu': 0.504, 'pos': 0.299, 'compound': 0.3487},\n",
       " 50: {'neg': 0.0, 'neu': 0.0, 'pos': 1.0, 'compound': 0.5994},\n",
       " 51: {'neg': 0.0, 'neu': 1.0, 'pos': 0.0, 'compound': 0.0},\n",
       " 52: {'neg': 0.0, 'neu': 1.0, 'pos': 0.0, 'compound': 0.0},\n",
       " 53: {'neg': 0.072, 'neu': 0.87, 'pos': 0.059, 'compound': -0.09},\n",
       " 54: {'neg': 0.0, 'neu': 0.0, 'pos': 1.0, 'compound': 0.5719},\n",
       " 55: {'neg': 0.0, 'neu': 0.204, 'pos': 0.796, 'compound': 0.5994},\n",
       " 56: {'neg': 0.0, 'neu': 0.0, 'pos': 1.0, 'compound': 0.4404},\n",
       " 57: {'neg': 0.0, 'neu': 1.0, 'pos': 0.0, 'compound': 0.0},\n",
       " 58: {'neg': 0.139, 'neu': 0.861, 'pos': 0.0, 'compound': -0.5267},\n",
       " 59: {'neg': 0.158, 'neu': 0.842, 'pos': 0.0, 'compound': -0.128},\n",
       " 60: {'neg': 0.0, 'neu': 1.0, 'pos': 0.0, 'compound': 0.0},\n",
       " 61: {'neg': 0.0, 'neu': 0.761, 'pos': 0.239, 'compound': 0.296},\n",
       " 62: {'neg': 0.158, 'neu': 0.735, 'pos': 0.107, 'compound': -0.3182},\n",
       " 63: {'neg': 0.0, 'neu': 1.0, 'pos': 0.0, 'compound': 0.0},\n",
       " 64: {'neg': 0.0, 'neu': 0.588, 'pos': 0.412, 'compound': 0.4939},\n",
       " 65: {'neg': 0.0, 'neu': 1.0, 'pos': 0.0, 'compound': 0.0},\n",
       " 66: {'neg': 0.0, 'neu': 0.524, 'pos': 0.476, 'compound': 0.8399},\n",
       " 67: {'neg': 0.202, 'neu': 0.798, 'pos': 0.0, 'compound': -0.4678},\n",
       " 68: {'neg': 0.208, 'neu': 0.698, 'pos': 0.094, 'compound': -0.7184},\n",
       " 69: {'neg': 0.064, 'neu': 0.839, 'pos': 0.098, 'compound': 0.4915},\n",
       " 70: {'neg': 0.0, 'neu': 0.328, 'pos': 0.672, 'compound': 0.6249},\n",
       " 71: {'neg': 0.0, 'neu': 0.383, 'pos': 0.617, 'compound': 0.8653},\n",
       " 72: {'neg': 0.0, 'neu': 0.0, 'pos': 1.0, 'compound': 0.4588},\n",
       " 73: {'neg': 0.0, 'neu': 1.0, 'pos': 0.0, 'compound': 0.0},\n",
       " 74: {'neg': 0.0, 'neu': 1.0, 'pos': 0.0, 'compound': 0.0},\n",
       " 75: {'neg': 0.105, 'neu': 0.702, 'pos': 0.193, 'compound': 0.8802},\n",
       " 76: {'neg': 0.28, 'neu': 0.72, 'pos': 0.0, 'compound': -0.5423},\n",
       " 77: {'neg': 0.119, 'neu': 0.73, 'pos': 0.151, 'compound': 0.416},\n",
       " 78: {'neg': 0.112, 'neu': 0.659, 'pos': 0.229, 'compound': 0.8207},\n",
       " 79: {'neg': 0.204, 'neu': 0.796, 'pos': 0.0, 'compound': -0.7695},\n",
       " 80: {'neg': 0.175, 'neu': 0.599, 'pos': 0.226, 'compound': -0.3769},\n",
       " 81: {'neg': 0.0, 'neu': 1.0, 'pos': 0.0, 'compound': 0.0},\n",
       " 82: {'neg': 0.0, 'neu': 0.704, 'pos': 0.296, 'compound': 0.6369},\n",
       " 83: {'neg': 0.041, 'neu': 0.886, 'pos': 0.073, 'compound': 0.25},\n",
       " 84: {'neg': 0.0, 'neu': 0.185, 'pos': 0.815, 'compound': 0.6588},\n",
       " 85: {'neg': 0.179, 'neu': 0.821, 'pos': 0.0, 'compound': -0.5719},\n",
       " 86: {'neg': 0.0, 'neu': 0.244, 'pos': 0.756, 'compound': 0.4754},\n",
       " 87: {'neg': 0.096, 'neu': 0.904, 'pos': 0.0, 'compound': -0.1511},\n",
       " 88: {'neg': 0.0, 'neu': 1.0, 'pos': 0.0, 'compound': 0.0},\n",
       " 89: {'neg': 0.125, 'neu': 0.724, 'pos': 0.151, 'compound': 0.1027},\n",
       " 90: {'neg': 0.03, 'neu': 0.734, 'pos': 0.236, 'compound': 0.8963},\n",
       " 91: {'neg': 0.0, 'neu': 0.192, 'pos': 0.808, 'compound': 0.6369},\n",
       " 92: {'neg': 0.0, 'neu': 1.0, 'pos': 0.0, 'compound': 0.0},\n",
       " 93: {'neg': 0.127, 'neu': 0.751, 'pos': 0.122, 'compound': -0.0258},\n",
       " 94: {'neg': 0.0, 'neu': 1.0, 'pos': 0.0, 'compound': 0.0},\n",
       " 95: {'neg': 0.0, 'neu': 1.0, 'pos': 0.0, 'compound': 0.0},\n",
       " 96: {'neg': 0.0, 'neu': 0.196, 'pos': 0.804, 'compound': 0.6249},\n",
       " 97: {'neg': 0.376, 'neu': 0.493, 'pos': 0.131, 'compound': -0.8579},\n",
       " 98: {'neg': 0.0, 'neu': 0.112, 'pos': 0.888, 'compound': 0.836},\n",
       " 99: {'neg': 0.0, 'neu': 0.715, 'pos': 0.285, 'compound': 0.4927},\n",
       " 100: {'neg': 0.077, 'neu': 0.8, 'pos': 0.123, 'compound': 0.4019},\n",
       " 101: {'neg': 0.0, 'neu': 0.564, 'pos': 0.436, 'compound': 0.4754},\n",
       " 102: {'neg': 0.0, 'neu': 0.213, 'pos': 0.787, 'compound': 0.8122},\n",
       " 103: {'neg': 0.0, 'neu': 0.892, 'pos': 0.108, 'compound': 0.6249},\n",
       " 104: {'neg': 0.054, 'neu': 0.946, 'pos': 0.0, 'compound': -0.0516},\n",
       " 105: {'neg': 0.154, 'neu': 0.797, 'pos': 0.048, 'compound': -0.8309},\n",
       " 106: {'neg': 0.048, 'neu': 0.802, 'pos': 0.151, 'compound': 0.8377},\n",
       " 107: {'neg': 0.0, 'neu': 0.196, 'pos': 0.804, 'compound': 0.6249},\n",
       " 108: {'neg': 0.0, 'neu': 0.66, 'pos': 0.34, 'compound': 0.4754},\n",
       " 109: {'neg': 0.777, 'neu': 0.223, 'pos': 0.0, 'compound': -0.5413},\n",
       " 110: {'neg': 0.0, 'neu': 0.112, 'pos': 0.888, 'compound': 0.8357},\n",
       " 111: {'neg': 0.0, 'neu': 0.256, 'pos': 0.744, 'compound': 0.4404},\n",
       " 112: {'neg': 0.0, 'neu': 0.408, 'pos': 0.592, 'compound': 0.4404},\n",
       " 113: {'neg': 0.0, 'neu': 0.227, 'pos': 0.773, 'compound': 0.5267},\n",
       " 114: {'neg': 0.0, 'neu': 1.0, 'pos': 0.0, 'compound': 0.0},\n",
       " 115: {'neg': 0.0, 'neu': 0.622, 'pos': 0.378, 'compound': 0.743},\n",
       " 116: {'neg': 0.0, 'neu': 0.674, 'pos': 0.326, 'compound': 0.9022},\n",
       " 117: {'neg': 0.08, 'neu': 0.785, 'pos': 0.135, 'compound': 0.4588},\n",
       " 118: {'neg': 0.052, 'neu': 0.75, 'pos': 0.198, 'compound': 0.9188},\n",
       " 119: {'neg': 0.185, 'neu': 0.795, 'pos': 0.019, 'compound': -0.9243},\n",
       " 120: {'neg': 0.0, 'neu': 0.903, 'pos': 0.097, 'compound': 0.3535},\n",
       " 121: {'neg': 0.0, 'neu': 0.917, 'pos': 0.083, 'compound': 0.7258},\n",
       " 122: {'neg': 0.0, 'neu': 0.756, 'pos': 0.244, 'compound': 0.4404},\n",
       " 123: {'neg': 0.0, 'neu': 0.808, 'pos': 0.192, 'compound': 0.8074},\n",
       " 124: {'neg': 0.118, 'neu': 0.727, 'pos': 0.155, 'compound': 0.6705},\n",
       " 125: {'neg': 0.0, 'neu': 1.0, 'pos': 0.0, 'compound': 0.0},\n",
       " 126: {'neg': 0.0, 'neu': 0.196, 'pos': 0.804, 'compound': 0.6249},\n",
       " 127: {'neg': 0.0, 'neu': 0.328, 'pos': 0.672, 'compound': 0.6249},\n",
       " 128: {'neg': 0.242, 'neu': 0.44, 'pos': 0.319, 'compound': 0.1779},\n",
       " 129: {'neg': 0.0, 'neu': 1.0, 'pos': 0.0, 'compound': 0.0},\n",
       " 130: {'neg': 0.0, 'neu': 0.263, 'pos': 0.737, 'compound': 0.8555},\n",
       " 131: {'neg': 0.115, 'neu': 0.809, 'pos': 0.076, 'compound': -0.2144},\n",
       " 132: {'neg': 0.0, 'neu': 0.0, 'pos': 1.0, 'compound': 0.6249},\n",
       " 133: {'neg': 0.164, 'neu': 0.727, 'pos': 0.109, 'compound': -0.2263},\n",
       " 134: {'neg': 0.0, 'neu': 0.699, 'pos': 0.301, 'compound': 0.5983},\n",
       " 135: {'neg': 0.281, 'neu': 0.588, 'pos': 0.131, 'compound': -0.5106},\n",
       " 136: {'neg': 0.0, 'neu': 0.775, 'pos': 0.225, 'compound': 0.4404},\n",
       " 137: {'neg': 0.0, 'neu': 0.633, 'pos': 0.367, 'compound': 0.4404},\n",
       " 138: {'neg': 0.0, 'neu': 0.787, 'pos': 0.213, 'compound': 0.4019},\n",
       " 139: {'neg': 0.0, 'neu': 0.667, 'pos': 0.333, 'compound': 0.4588},\n",
       " 140: {'neg': 0.0, 'neu': 0.417, 'pos': 0.583, 'compound': 0.6369},\n",
       " 141: {'neg': 0.14, 'neu': 0.777, 'pos': 0.083, 'compound': -0.4588},\n",
       " 142: {'neg': 0.074, 'neu': 0.926, 'pos': 0.0, 'compound': -0.3244},\n",
       " 143: {'neg': 0.0, 'neu': 0.596, 'pos': 0.404, 'compound': 0.8885},\n",
       " 144: {'neg': 0.0, 'neu': 0.611, 'pos': 0.389, 'compound': 0.624},\n",
       " 145: {'neg': 0.0, 'neu': 0.517, 'pos': 0.483, 'compound': 0.4215},\n",
       " 146: {'neg': 0.221, 'neu': 0.779, 'pos': 0.0, 'compound': -0.7013},\n",
       " 147: {'neg': 0.0, 'neu': 1.0, 'pos': 0.0, 'compound': 0.0},\n",
       " 148: {'neg': 0.255, 'neu': 0.705, 'pos': 0.039, 'compound': -0.7684},\n",
       " 149: {'neg': 0.0, 'neu': 0.922, 'pos': 0.078, 'compound': 0.296},\n",
       " 150: {'neg': 0.0, 'neu': 0.0, 'pos': 1.0, 'compound': 0.5719},\n",
       " 151: {'neg': 0.0, 'neu': 0.204, 'pos': 0.796, 'compound': 0.5994},\n",
       " 152: {'neg': 0.0, 'neu': 0.256, 'pos': 0.744, 'compound': 0.4404},\n",
       " 153: {'neg': 0.117, 'neu': 0.883, 'pos': 0.0, 'compound': -0.6908},\n",
       " 154: {'neg': 0.0, 'neu': 0.323, 'pos': 0.677, 'compound': 0.6369},\n",
       " 155: {'neg': 0.0, 'neu': 1.0, 'pos': 0.0, 'compound': 0.0},\n",
       " 156: {'neg': 0.0, 'neu': 0.664, 'pos': 0.336, 'compound': 0.7964},\n",
       " 157: {'neg': 0.0, 'neu': 0.925, 'pos': 0.075, 'compound': 0.3987},\n",
       " 158: {'neg': 0.0, 'neu': 0.294, 'pos': 0.706, 'compound': 0.5859},\n",
       " 159: {'neg': 0.037, 'neu': 0.661, 'pos': 0.302, 'compound': 0.9246},\n",
       " 160: {'neg': 0.128, 'neu': 0.785, 'pos': 0.087, 'compound': -0.25},\n",
       " 161: {'neg': 0.0, 'neu': 1.0, 'pos': 0.0, 'compound': 0.0},\n",
       " 162: {'neg': 0.226, 'neu': 0.64, 'pos': 0.133, 'compound': -0.715},\n",
       " 163: {'neg': 0.0, 'neu': 1.0, 'pos': 0.0, 'compound': 0.0},\n",
       " 164: {'neg': 0.161, 'neu': 0.759, 'pos': 0.079, 'compound': -0.5218},\n",
       " 165: {'neg': 0.0, 'neu': 0.549, 'pos': 0.451, 'compound': 0.6249},\n",
       " 166: {'neg': 0.0, 'neu': 0.792, 'pos': 0.208, 'compound': 0.2732},\n",
       " 167: {'neg': 0.0, 'neu': 0.816, 'pos': 0.184, 'compound': 0.4877},\n",
       " 168: {'neg': 0.0, 'neu': 0.948, 'pos': 0.052, 'compound': 0.3612},\n",
       " 169: {'neg': 0.0, 'neu': 0.949, 'pos': 0.051, 'compound': 0.2714},\n",
       " 170: {'neg': 0.0, 'neu': 0.755, 'pos': 0.245, 'compound': 0.2382},\n",
       " 171: {'neg': 0.0, 'neu': 0.854, 'pos': 0.146, 'compound': 0.6249},\n",
       " 172: {'neg': 0.0, 'neu': 0.813, 'pos': 0.187, 'compound': 0.3182},\n",
       " 173: {'neg': 0.0, 'neu': 0.192, 'pos': 0.808, 'compound': 0.6369},\n",
       " 174: {'neg': 0.115, 'neu': 0.698, 'pos': 0.187, 'compound': 0.4064},\n",
       " 175: {'neg': 0.0, 'neu': 1.0, 'pos': 0.0, 'compound': 0.0},\n",
       " 176: {'neg': 0.0, 'neu': 0.492, 'pos': 0.508, 'compound': 0.4767},\n",
       " 177: {'neg': 0.0, 'neu': 0.704, 'pos': 0.296, 'compound': 0.8555},\n",
       " 178: {'neg': 0.0, 'neu': 0.464, 'pos': 0.536, 'compound': 0.5367},\n",
       " 179: {'neg': 0.0, 'neu': 0.516, 'pos': 0.484, 'compound': 0.6892},\n",
       " 180: {'neg': 0.0, 'neu': 0.857, 'pos': 0.143, 'compound': 0.7906},\n",
       " 181: {'neg': 0.05, 'neu': 0.907, 'pos': 0.043, 'compound': -0.1027},\n",
       " 182: {'neg': 0.0, 'neu': 1.0, 'pos': 0.0, 'compound': 0.0},\n",
       " 183: {'neg': 0.0, 'neu': 0.929, 'pos': 0.071, 'compound': 0.3922},\n",
       " 184: {'neg': 0.0, 'neu': 0.0, 'pos': 1.0, 'compound': 0.4404},\n",
       " 185: {'neg': 0.0, 'neu': 1.0, 'pos': 0.0, 'compound': 0.0},\n",
       " 186: {'neg': 0.216, 'neu': 0.784, 'pos': 0.0, 'compound': -0.296},\n",
       " 187: {'neg': 0.14, 'neu': 0.8, 'pos': 0.06, 'compound': -0.6322},\n",
       " 188: {'neg': 0.0, 'neu': 0.845, 'pos': 0.155, 'compound': 0.5826},\n",
       " 189: {'neg': 0.0, 'neu': 1.0, 'pos': 0.0, 'compound': 0.0},\n",
       " 190: {'neg': 0.0, 'neu': 0.164, 'pos': 0.836, 'compound': 0.6249},\n",
       " 191: {'neg': 0.097, 'neu': 0.688, 'pos': 0.215, 'compound': 0.4393},\n",
       " 192: {'neg': 0.0, 'neu': 1.0, 'pos': 0.0, 'compound': 0.0},\n",
       " 193: {'neg': 0.0, 'neu': 0.0, 'pos': 1.0, 'compound': 0.6369},\n",
       " 194: {'neg': 0.0, 'neu': 1.0, 'pos': 0.0, 'compound': 0.0},\n",
       " 195: {'neg': 0.0, 'neu': 0.792, 'pos': 0.208, 'compound': 0.1477},\n",
       " 196: {'neg': 0.0, 'neu': 0.297, 'pos': 0.703, 'compound': 0.7964},\n",
       " 197: {'neg': 0.0, 'neu': 0.741, 'pos': 0.259, 'compound': 0.6801},\n",
       " 198: {'neg': 0.0, 'neu': 0.0, 'pos': 1.0, 'compound': 0.5859},\n",
       " 199: {'neg': 0.0, 'neu': 0.328, 'pos': 0.672, 'compound': 0.6249},\n",
       " 200: {'neg': 0.0, 'neu': 0.192, 'pos': 0.808, 'compound': 0.6369},\n",
       " 201: {'neg': 0.0, 'neu': 0.398, 'pos': 0.602, 'compound': 0.8908},\n",
       " 202: {'neg': 0.229, 'neu': 0.713, 'pos': 0.058, 'compound': -0.7402},\n",
       " 203: {'neg': 0.0, 'neu': 0.0, 'pos': 1.0, 'compound': 0.4404},\n",
       " 204: {'neg': 0.09, 'neu': 0.702, 'pos': 0.209, 'compound': 0.9242},\n",
       " 205: {'neg': 0.344, 'neu': 0.656, 'pos': 0.0, 'compound': -0.2732},\n",
       " 206: {'neg': 0.0, 'neu': 0.367, 'pos': 0.633, 'compound': 0.9762},\n",
       " 207: {'neg': 0.081, 'neu': 0.758, 'pos': 0.161, 'compound': 0.7678},\n",
       " 208: {'neg': 0.115, 'neu': 0.708, 'pos': 0.177, 'compound': 0.7749},\n",
       " 209: {'neg': 0.0, 'neu': 0.134, 'pos': 0.866, 'compound': 0.7553},\n",
       " 210: {'neg': 0.0, 'neu': 0.364, 'pos': 0.636, 'compound': 0.7906},\n",
       " 211: {'neg': 0.0, 'neu': 0.615, 'pos': 0.385, 'compound': 0.3612},\n",
       " 212: {'neg': 0.0, 'neu': 0.792, 'pos': 0.208, 'compound': 0.743},\n",
       " 213: {'neg': 0.408, 'neu': 0.417, 'pos': 0.175, 'compound': -0.4215},\n",
       " 214: {'neg': 0.122, 'neu': 0.658, 'pos': 0.22, 'compound': 0.128},\n",
       " 215: {'neg': 0.0, 'neu': 0.196, 'pos': 0.804, 'compound': 0.6249},\n",
       " 216: {'neg': 0.0, 'neu': 0.828, 'pos': 0.172, 'compound': 0.5848},\n",
       " 217: {'neg': 0.219, 'neu': 0.738, 'pos': 0.043, 'compound': -0.9147},\n",
       " 218: {'neg': 0.0, 'neu': 0.256, 'pos': 0.744, 'compound': 0.4404},\n",
       " 219: {'neg': 0.25, 'neu': 0.75, 'pos': 0.0, 'compound': -0.25},\n",
       " 220: {'neg': 0.042, 'neu': 0.943, 'pos': 0.015, 'compound': -0.4588},\n",
       " 221: {'neg': 0.128, 'neu': 0.872, 'pos': 0.0, 'compound': -0.7218},\n",
       " 222: {'neg': 0.262, 'neu': 0.467, 'pos': 0.271, 'compound': 0.0258},\n",
       " 223: {'neg': 0.0, 'neu': 0.625, 'pos': 0.375, 'compound': 0.6369},\n",
       " 224: {'neg': 0.0, 'neu': 0.828, 'pos': 0.172, 'compound': 0.9348},\n",
       " 225: {'neg': 0.0, 'neu': 0.828, 'pos': 0.172, 'compound': 0.4404},\n",
       " 226: {'neg': 0.0, 'neu': 1.0, 'pos': 0.0, 'compound': 0.0},\n",
       " 227: {'neg': 0.0, 'neu': 0.749, 'pos': 0.251, 'compound': 0.9606},\n",
       " 228: {'neg': 0.0, 'neu': 1.0, 'pos': 0.0, 'compound': 0.0},\n",
       " 229: {'neg': 0.235, 'neu': 0.455, 'pos': 0.311, 'compound': 0.25},\n",
       " 230: {'neg': 0.0, 'neu': 0.0, 'pos': 1.0, 'compound': 0.6249},\n",
       " 231: {'neg': 0.072, 'neu': 0.761, 'pos': 0.167, 'compound': 0.5795},\n",
       " 232: {'neg': 0.416, 'neu': 0.584, 'pos': 0.0, 'compound': -0.8658},\n",
       " 233: {'neg': 0.0, 'neu': 0.475, 'pos': 0.525, 'compound': 0.8331},\n",
       " 234: {'neg': 0.0, 'neu': 0.476, 'pos': 0.524, 'compound': 0.5106},\n",
       " 235: {'neg': 0.277, 'neu': 0.723, 'pos': 0.0, 'compound': -0.4963},\n",
       " 236: {'neg': 0.0, 'neu': 0.289, 'pos': 0.711, 'compound': 0.8122},\n",
       " 237: {'neg': 0.053, 'neu': 0.823, 'pos': 0.123, 'compound': 0.705},\n",
       " 238: {'neg': 0.15, 'neu': 0.85, 'pos': 0.0, 'compound': -0.7096},\n",
       " 239: {'neg': 0.0, 'neu': 0.93, 'pos': 0.07, 'compound': 0.2382},\n",
       " 240: {'neg': 0.0, 'neu': 0.786, 'pos': 0.214, 'compound': 0.3116},\n",
       " 241: {'neg': 0.101, 'neu': 0.825, 'pos': 0.074, 'compound': -0.2382},\n",
       " 242: {'neg': 0.0, 'neu': 0.633, 'pos': 0.367, 'compound': 0.4404},\n",
       " 243: {'neg': 0.0, 'neu': 1.0, 'pos': 0.0, 'compound': 0.0},\n",
       " 244: {'neg': 0.0, 'neu': 0.556, 'pos': 0.444, 'compound': 0.8402},\n",
       " 245: {'neg': 0.0, 'neu': 0.863, 'pos': 0.137, 'compound': 0.3612},\n",
       " 246: {'neg': 0.0, 'neu': 0.37, 'pos': 0.63, 'compound': 0.8176},\n",
       " 247: {'neg': 0.0, 'neu': 0.732, 'pos': 0.268, 'compound': 0.5106},\n",
       " 248: {'neg': 0.0, 'neu': 1.0, 'pos': 0.0, 'compound': 0.0},\n",
       " 249: {'neg': 0.0, 'neu': 0.628, 'pos': 0.372, 'compound': 0.836},\n",
       " 250: {'neg': 0.28, 'neu': 0.508, 'pos': 0.212, 'compound': -0.426},\n",
       " 251: {'neg': 0.0, 'neu': 0.36, 'pos': 0.64, 'compound': 0.7964},\n",
       " 252: {'neg': 0.0, 'neu': 0.238, 'pos': 0.762, 'compound': 0.4927},\n",
       " 253: {'neg': 0.144, 'neu': 0.856, 'pos': 0.0, 'compound': -0.7351},\n",
       " 254: {'neg': 0.328, 'neu': 0.672, 'pos': 0.0, 'compound': -0.921},\n",
       " 255: {'neg': 0.0, 'neu': 1.0, 'pos': 0.0, 'compound': 0.0},\n",
       " 256: {'neg': 0.0, 'neu': 0.492, 'pos': 0.508, 'compound': 0.4754},\n",
       " 257: {'neg': 0.0, 'neu': 1.0, 'pos': 0.0, 'compound': 0.0},\n",
       " 258: {'neg': 0.167, 'neu': 0.833, 'pos': 0.0, 'compound': -0.1531},\n",
       " 259: {'neg': 0.0, 'neu': 0.797, 'pos': 0.203, 'compound': 0.3716},\n",
       " 260: {'neg': 0.0, 'neu': 0.572, 'pos': 0.428, 'compound': 0.7178},\n",
       " 261: {'neg': 0.147, 'neu': 0.853, 'pos': 0.0, 'compound': -0.5647},\n",
       " 262: {'neg': 0.054, 'neu': 0.664, 'pos': 0.282, 'compound': 0.9061},\n",
       " 263: {'neg': 0.0, 'neu': 1.0, 'pos': 0.0, 'compound': 0.0},\n",
       " 264: {'neg': 0.0, 'neu': 1.0, 'pos': 0.0, 'compound': 0.0},\n",
       " 265: {'neg': 0.0, 'neu': 0.0, 'pos': 1.0, 'compound': 0.5994},\n",
       " 266: {'neg': 0.137, 'neu': 0.754, 'pos': 0.109, 'compound': -0.5352},\n",
       " 267: {'neg': 0.076, 'neu': 0.781, 'pos': 0.143, 'compound': 0.3818},\n",
       " 268: {'neg': 0.0, 'neu': 1.0, 'pos': 0.0, 'compound': 0.0},\n",
       " 269: {'neg': 0.0, 'neu': 1.0, 'pos': 0.0, 'compound': 0.0},\n",
       " 270: {'neg': 0.0, 'neu': 0.687, 'pos': 0.313, 'compound': 0.4927},\n",
       " 271: {'neg': 0.0, 'neu': 0.385, 'pos': 0.615, 'compound': 0.4927},\n",
       " 272: {'neg': 0.0, 'neu': 0.348, 'pos': 0.652, 'compound': 0.92},\n",
       " 273: {'neg': 0.0, 'neu': 0.238, 'pos': 0.762, 'compound': 0.4927},\n",
       " 274: {'neg': 0.082, 'neu': 0.86, 'pos': 0.059, 'compound': -0.075},\n",
       " 275: {'neg': 0.0, 'neu': 1.0, 'pos': 0.0, 'compound': 0.0},\n",
       " 276: {'neg': 0.0, 'neu': 0.37, 'pos': 0.63, 'compound': 0.5267},\n",
       " 277: {'neg': 0.0, 'neu': 0.417, 'pos': 0.583, 'compound': 0.6369},\n",
       " 278: {'neg': 0.071, 'neu': 0.721, 'pos': 0.208, 'compound': 0.7137},\n",
       " 279: {'neg': 0.177, 'neu': 0.704, 'pos': 0.119, 'compound': -0.4048},\n",
       " 280: {'neg': 0.148, 'neu': 0.742, 'pos': 0.11, 'compound': -0.5413},\n",
       " 281: {'neg': 0.538, 'neu': 0.462, 'pos': 0.0, 'compound': -0.5423},\n",
       " 282: {'neg': 0.0, 'neu': 0.4, 'pos': 0.6, 'compound': 0.6697},\n",
       " 283: {'neg': 0.0, 'neu': 0.708, 'pos': 0.292, 'compound': 0.5106},\n",
       " 284: {'neg': 0.0, 'neu': 0.58, 'pos': 0.42, 'compound': 0.4404},\n",
       " 285: {'neg': 0.0, 'neu': 0.0, 'pos': 1.0, 'compound': 0.4404},\n",
       " 286: {'neg': 0.0, 'neu': 0.0, 'pos': 1.0, 'compound': 0.3612},\n",
       " 287: {'neg': 0.031, 'neu': 0.815, 'pos': 0.154, 'compound': 0.7778},\n",
       " 288: {'neg': 0.182, 'neu': 0.579, 'pos': 0.24, 'compound': 0.1779},\n",
       " 289: {'neg': 0.0, 'neu': 0.575, 'pos': 0.425, 'compound': 0.5719},\n",
       " 290: {'neg': 0.0, 'neu': 1.0, 'pos': 0.0, 'compound': 0.0},\n",
       " 291: {'neg': 0.756, 'neu': 0.244, 'pos': 0.0, 'compound': -0.4767},\n",
       " 292: {'neg': 0.0, 'neu': 0.907, 'pos': 0.093, 'compound': 0.1655},\n",
       " 293: {'neg': 0.0, 'neu': 0.562, 'pos': 0.438, 'compound': 0.8979},\n",
       " 294: {'neg': 0.0, 'neu': 0.675, 'pos': 0.325, 'compound': 0.6486},\n",
       " 295: {'neg': 0.095, 'neu': 0.905, 'pos': 0.0, 'compound': -0.4215},\n",
       " 296: {'neg': 0.0, 'neu': 0.196, 'pos': 0.804, 'compound': 0.6249},\n",
       " 297: {'neg': 0.193, 'neu': 0.807, 'pos': 0.0, 'compound': -0.4767},\n",
       " 298: {'neg': 0.0, 'neu': 0.665, 'pos': 0.335, 'compound': 0.7928},\n",
       " 299: {'neg': 0.31, 'neu': 0.69, 'pos': 0.0, 'compound': -0.4019},\n",
       " 300: {'neg': 0.316, 'neu': 0.684, 'pos': 0.0, 'compound': -0.5719},\n",
       " 301: {'neg': 0.0, 'neu': 0.597, 'pos': 0.403, 'compound': 0.4019},\n",
       " 302: {'neg': 0.0, 'neu': 0.608, 'pos': 0.392, 'compound': 0.7003},\n",
       " 303: {'neg': 0.0, 'neu': 0.816, 'pos': 0.184, 'compound': 0.5423},\n",
       " 304: {'neg': 0.0, 'neu': 0.341, 'pos': 0.659, 'compound': 0.7003},\n",
       " 305: {'neg': 0.0, 'neu': 0.639, 'pos': 0.361, 'compound': 0.3382},\n",
       " 306: {'neg': 0.139, 'neu': 0.775, 'pos': 0.086, 'compound': -0.4767},\n",
       " 307: {'neg': 0.067, 'neu': 0.888, 'pos': 0.044, 'compound': -0.2567},\n",
       " 308: {'neg': 0.072, 'neu': 0.837, 'pos': 0.091, 'compound': -0.0258},\n",
       " 309: {'neg': 0.1, 'neu': 0.816, 'pos': 0.084, 'compound': -0.1529},\n",
       " 310: {'neg': 0.0, 'neu': 0.388, 'pos': 0.612, 'compound': 0.8573},\n",
       " 311: {'neg': 0.506, 'neu': 0.494, 'pos': 0.0, 'compound': -0.6249},\n",
       " 312: {'neg': 0.091, 'neu': 0.909, 'pos': 0.0, 'compound': -0.1531},\n",
       " 313: {'neg': 0.0, 'neu': 0.323, 'pos': 0.677, 'compound': 0.6369},\n",
       " 314: {'neg': 0.325, 'neu': 0.467, 'pos': 0.208, 'compound': -0.7184},\n",
       " 315: {'neg': 0.0, 'neu': 0.294, 'pos': 0.706, 'compound': 0.802},\n",
       " 316: {'neg': 0.0, 'neu': 0.964, 'pos': 0.036, 'compound': 0.1406},\n",
       " 317: {'neg': 0.0, 'neu': 1.0, 'pos': 0.0, 'compound': 0.0},\n",
       " 318: {'neg': 0.0, 'neu': 0.351, 'pos': 0.649, 'compound': 0.5719},\n",
       " 319: {'neg': 0.0, 'neu': 0.525, 'pos': 0.475, 'compound': 0.926},\n",
       " 320: {'neg': 0.0, 'neu': 0.711, 'pos': 0.289, 'compound': 0.743},\n",
       " 321: {'neg': 0.178, 'neu': 0.647, 'pos': 0.175, 'compound': -0.016},\n",
       " 322: {'neg': 0.0, 'neu': 0.687, 'pos': 0.313, 'compound': 0.4927},\n",
       " 323: {'neg': 0.0, 'neu': 0.238, 'pos': 0.762, 'compound': 0.4927},\n",
       " 324: {'neg': 0.0, 'neu': 0.677, 'pos': 0.323, 'compound': 0.5106},\n",
       " 325: {'neg': 0.0, 'neu': 0.328, 'pos': 0.672, 'compound': 0.6249},\n",
       " 326: {'neg': 0.0, 'neu': 1.0, 'pos': 0.0, 'compound': 0.0},\n",
       " 327: {'neg': 0.0, 'neu': 0.83, 'pos': 0.17, 'compound': 0.5994},\n",
       " 328: {'neg': 0.0, 'neu': 0.167, 'pos': 0.833, 'compound': 0.6124},\n",
       " 329: {'neg': 0.0, 'neu': 0.448, 'pos': 0.552, 'compound': 0.5719},\n",
       " 330: {'neg': 0.0, 'neu': 0.425, 'pos': 0.575, 'compound': 0.9217},\n",
       " 331: {'neg': 0.0, 'neu': 0.0, 'pos': 1.0, 'compound': 0.5719},\n",
       " 332: {'neg': 0.0, 'neu': 0.233, 'pos': 0.767, 'compound': 0.765},\n",
       " 333: {'neg': 0.293, 'neu': 0.707, 'pos': 0.0, 'compound': -0.6597},\n",
       " 334: {'neg': 0.0, 'neu': 1.0, 'pos': 0.0, 'compound': 0.0},\n",
       " 335: {'neg': 0.0, 'neu': 1.0, 'pos': 0.0, 'compound': 0.0},\n",
       " 336: {'neg': 0.109, 'neu': 0.815, 'pos': 0.075, 'compound': -0.4939},\n",
       " 337: {'neg': 0.0, 'neu': 1.0, 'pos': 0.0, 'compound': 0.0},\n",
       " 338: {'neg': 0.0, 'neu': 0.816, 'pos': 0.184, 'compound': 0.2023},\n",
       " 339: {'neg': 0.0, 'neu': 0.864, 'pos': 0.136, 'compound': 0.6187},\n",
       " 340: {'neg': 0.0, 'neu': 0.244, 'pos': 0.756, 'compound': 0.4754},\n",
       " 341: {'neg': 0.0, 'neu': 0.787, 'pos': 0.213, 'compound': 0.2247},\n",
       " 342: {'neg': 0.0, 'neu': 1.0, 'pos': 0.0, 'compound': 0.0},\n",
       " 343: {'neg': 0.0, 'neu': 0.0, 'pos': 1.0, 'compound': 0.4215},\n",
       " 344: {'neg': 0.252, 'neu': 0.748, 'pos': 0.0, 'compound': -0.4019},\n",
       " 345: {'neg': 0.071, 'neu': 0.929, 'pos': 0.0, 'compound': -0.296},\n",
       " 346: {'neg': 0.0, 'neu': 0.897, 'pos': 0.103, 'compound': 0.2382},\n",
       " 347: {'neg': 0.232, 'neu': 0.421, 'pos': 0.347, 'compound': 0.2732},\n",
       " 348: {'neg': 0.0, 'neu': 1.0, 'pos': 0.0, 'compound': 0.0},\n",
       " 349: {'neg': 0.0, 'neu': 1.0, 'pos': 0.0, 'compound': 0.0},\n",
       " 350: {'neg': 0.203, 'neu': 0.797, 'pos': 0.0, 'compound': -0.7094},\n",
       " 351: {'neg': 0.0, 'neu': 1.0, 'pos': 0.0, 'compound': 0.0},\n",
       " 352: {'neg': 0.184, 'neu': 0.736, 'pos': 0.08, 'compound': -0.4019},\n",
       " 353: {'neg': 0.0, 'neu': 1.0, 'pos': 0.0, 'compound': 0.0},\n",
       " 354: {'neg': 0.236, 'neu': 0.764, 'pos': 0.0, 'compound': -0.5129},\n",
       " 355: {'neg': 0.0, 'neu': 0.286, 'pos': 0.714, 'compound': 0.3612},\n",
       " 356: {'neg': 0.0, 'neu': 0.675, 'pos': 0.325, 'compound': 0.8268},\n",
       " 357: {'neg': 0.092, 'neu': 0.708, 'pos': 0.2, 'compound': 0.8882},\n",
       " 358: {'neg': 0.225, 'neu': 0.67, 'pos': 0.105, 'compound': -0.8699},\n",
       " 359: {'neg': 0.0, 'neu': 1.0, 'pos': 0.0, 'compound': 0.0},\n",
       " 360: {'neg': 0.0, 'neu': 0.685, 'pos': 0.315, 'compound': 0.7783},\n",
       " 361: {'neg': 0.0, 'neu': 0.786, 'pos': 0.214, 'compound': 0.5209},\n",
       " 362: {'neg': 0.0, 'neu': 0.874, 'pos': 0.126, 'compound': 0.0772},\n",
       " 363: {'neg': 0.0, 'neu': 0.378, 'pos': 0.622, 'compound': 0.8718},\n",
       " 364: {'neg': 0.187, 'neu': 0.638, 'pos': 0.175, 'compound': -0.2023},\n",
       " 365: {'neg': 0.0, 'neu': 0.69, 'pos': 0.31, 'compound': 0.7424},\n",
       " 366: {'neg': 0.0, 'neu': 0.787, 'pos': 0.213, 'compound': 0.5859},\n",
       " 367: {'neg': 0.0, 'neu': 0.667, 'pos': 0.333, 'compound': 0.875},\n",
       " 368: {'neg': 0.177, 'neu': 0.685, 'pos': 0.138, 'compound': 0.0085},\n",
       " 369: {'neg': 0.0, 'neu': 0.218, 'pos': 0.782, 'compound': 0.5562},\n",
       " 370: {'neg': 0.0, 'neu': 1.0, 'pos': 0.0, 'compound': 0.0},\n",
       " 371: {'neg': 0.079, 'neu': 0.866, 'pos': 0.055, 'compound': -0.1531},\n",
       " 372: {'neg': 0.0, 'neu': 0.844, 'pos': 0.156, 'compound': 0.4497},\n",
       " 373: {'neg': 0.418, 'neu': 0.44, 'pos': 0.143, 'compound': -0.5423},\n",
       " 374: {'neg': 0.0, 'neu': 1.0, 'pos': 0.0, 'compound': 0.0},\n",
       " 375: {'neg': 0.0, 'neu': 0.0, 'pos': 1.0, 'compound': 0.6249},\n",
       " 376: {'neg': 0.33, 'neu': 0.48, 'pos': 0.19, 'compound': -0.5423},\n",
       " 377: {'neg': 0.0, 'neu': 0.517, 'pos': 0.483, 'compound': 0.4215},\n",
       " 378: {'neg': 0.506, 'neu': 0.494, 'pos': 0.0, 'compound': -0.6249},\n",
       " 379: {'neg': 0.0, 'neu': 0.213, 'pos': 0.787, 'compound': 0.5719},\n",
       " 380: {'neg': 0.0, 'neu': 1.0, 'pos': 0.0, 'compound': 0.0},\n",
       " 381: {'neg': 0.0, 'neu': 0.527, 'pos': 0.473, 'compound': 0.6696},\n",
       " 382: {'neg': 0.082, 'neu': 0.62, 'pos': 0.298, 'compound': 0.5854},\n",
       " 383: {'neg': 0.054, 'neu': 0.862, 'pos': 0.083, 'compound': 0.2263},\n",
       " 384: {'neg': 0.0, 'neu': 0.653, 'pos': 0.347, 'compound': 0.4927},\n",
       " 385: {'neg': 0.15, 'neu': 0.619, 'pos': 0.231, 'compound': 0.3461},\n",
       " 386: {'neg': 0.0, 'neu': 1.0, 'pos': 0.0, 'compound': 0.0},\n",
       " 387: {'neg': 0.0, 'neu': 0.47, 'pos': 0.53, 'compound': 0.7755},\n",
       " 388: {'neg': 0.0, 'neu': 0.426, 'pos': 0.574, 'compound': 0.4019},\n",
       " 389: {'neg': 0.0, 'neu': 0.815, 'pos': 0.185, 'compound': 0.3612},\n",
       " 390: {'neg': 0.0, 'neu': 1.0, 'pos': 0.0, 'compound': 0.0},\n",
       " 391: {'neg': 0.371, 'neu': 0.629, 'pos': 0.0, 'compound': -0.3687},\n",
       " 392: {'neg': 0.076, 'neu': 0.924, 'pos': 0.0, 'compound': -0.4019},\n",
       " 393: {'neg': 0.156, 'neu': 0.772, 'pos': 0.072, 'compound': -0.6187},\n",
       " 394: {'neg': 0.133, 'neu': 0.867, 'pos': 0.0, 'compound': -0.25},\n",
       " 395: {'neg': 0.068, 'neu': 0.779, 'pos': 0.153, 'compound': 0.3599},\n",
       " 396: {'neg': 0.0, 'neu': 0.238, 'pos': 0.762, 'compound': 0.4927},\n",
       " 397: {'neg': 0.0, 'neu': 1.0, 'pos': 0.0, 'compound': 0.0},\n",
       " 398: {'neg': 0.0, 'neu': 0.847, 'pos': 0.153, 'compound': 0.4404},\n",
       " 399: {'neg': 0.0, 'neu': 0.781, 'pos': 0.219, 'compound': 0.4215},\n",
       " 400: {'neg': 0.0, 'neu': 0.514, 'pos': 0.486, 'compound': 0.8858},\n",
       " 401: {'neg': 0.0, 'neu': 0.693, 'pos': 0.307, 'compound': 0.4767},\n",
       " 402: {'neg': 0.0, 'neu': 0.393, 'pos': 0.607, 'compound': 0.4754},\n",
       " 403: {'neg': 0.082, 'neu': 0.842, 'pos': 0.076, 'compound': -0.1027},\n",
       " 404: {'neg': 0.0, 'neu': 0.352, 'pos': 0.648, 'compound': 0.5684},\n",
       " 405: {'neg': 0.0, 'neu': 0.508, 'pos': 0.492, 'compound': 0.4404},\n",
       " 406: {'neg': 0.0, 'neu': 0.196, 'pos': 0.804, 'compound': 0.6249},\n",
       " 407: {'neg': 0.0, 'neu': 1.0, 'pos': 0.0, 'compound': 0.0},\n",
       " 408: {'neg': 0.0, 'neu': 1.0, 'pos': 0.0, 'compound': 0.0},\n",
       " 409: {'neg': 0.0, 'neu': 1.0, 'pos': 0.0, 'compound': 0.0},\n",
       " 410: {'neg': 0.218, 'neu': 0.782, 'pos': 0.0, 'compound': -0.5764},\n",
       " 411: {'neg': 0.07, 'neu': 0.792, 'pos': 0.137, 'compound': 0.6666},\n",
       " 412: {'neg': 0.0, 'neu': 0.0, 'pos': 1.0, 'compound': 0.4404},\n",
       " 413: {'neg': 0.503, 'neu': 0.497, 'pos': 0.0, 'compound': -0.796},\n",
       " 414: {'neg': 0.0, 'neu': 0.0, 'pos': 1.0, 'compound': 0.5719},\n",
       " 415: {'neg': 0.0, 'neu': 0.58, 'pos': 0.42, 'compound': 0.4404},\n",
       " 416: {'neg': 0.201, 'neu': 0.686, 'pos': 0.113, 'compound': -0.4215},\n",
       " 417: {'neg': 0.0, 'neu': 0.0, 'pos': 1.0, 'compound': 0.5719},\n",
       " 418: {'neg': 0.044, 'neu': 0.657, 'pos': 0.299, 'compound': 0.9501},\n",
       " 419: {'neg': 0.0, 'neu': 0.659, 'pos': 0.341, 'compound': 0.9081},\n",
       " 420: {'neg': 0.0, 'neu': 1.0, 'pos': 0.0, 'compound': 0.0},\n",
       " 421: {'neg': 0.423, 'neu': 0.429, 'pos': 0.147, 'compound': -0.6705},\n",
       " 422: {'neg': 0.0, 'neu': 0.927, 'pos': 0.073, 'compound': 0.128},\n",
       " 423: {'neg': 0.0, 'neu': 0.674, 'pos': 0.326, 'compound': 0.4404},\n",
       " 424: {'neg': 0.386, 'neu': 0.614, 'pos': 0.0, 'compound': -0.5255},\n",
       " 425: {'neg': 0.0, 'neu': 0.654, 'pos': 0.346, 'compound': 0.5719},\n",
       " 426: {'neg': 0.0, 'neu': 0.323, 'pos': 0.677, 'compound': 0.6369},\n",
       " 427: {'neg': 0.0, 'neu': 0.192, 'pos': 0.808, 'compound': 0.6369},\n",
       " 428: {'neg': 0.0, 'neu': 1.0, 'pos': 0.0, 'compound': 0.0},\n",
       " 429: {'neg': 0.0, 'neu': 0.423, 'pos': 0.577, 'compound': 0.6249},\n",
       " 430: {'neg': 0.122, 'neu': 0.718, 'pos': 0.16, 'compound': 0.5277},\n",
       " 431: {'neg': 0.0, 'neu': 0.211, 'pos': 0.789, 'compound': 0.8162},\n",
       " 432: {'neg': 0.0, 'neu': 0.0, 'pos': 1.0, 'compound': 0.6249},\n",
       " 433: {'neg': 0.0, 'neu': 0.0, 'pos': 1.0, 'compound': 0.4404},\n",
       " 434: {'neg': 0.0, 'neu': 0.389, 'pos': 0.611, 'compound': 0.742},\n",
       " 435: {'neg': 0.0, 'neu': 1.0, 'pos': 0.0, 'compound': 0.0},\n",
       " 436: {'neg': 0.0, 'neu': 0.694, 'pos': 0.306, 'compound': 0.9651},\n",
       " 437: {'neg': 0.205, 'neu': 0.74, 'pos': 0.054, 'compound': -0.9062},\n",
       " 438: {'neg': 0.194, 'neu': 0.806, 'pos': 0.0, 'compound': -0.3412},\n",
       " 439: {'neg': 0.0, 'neu': 0.704, 'pos': 0.296, 'compound': 0.6369},\n",
       " 440: {'neg': 0.0, 'neu': 0.61, 'pos': 0.39, 'compound': 0.4927},\n",
       " 441: {'neg': 0.161, 'neu': 0.754, 'pos': 0.085, 'compound': -0.6072},\n",
       " 442: {'neg': 0.0, 'neu': 0.469, 'pos': 0.531, 'compound': 0.7778},\n",
       " 443: {'neg': 0.0, 'neu': 0.469, 'pos': 0.531, 'compound': 0.9651},\n",
       " 444: {'neg': 0.0, 'neu': 1.0, 'pos': 0.0, 'compound': 0.0},\n",
       " 445: {'neg': 0.0, 'neu': 0.408, 'pos': 0.592, 'compound': 0.4404},\n",
       " 446: {'neg': 0.0, 'neu': 0.0, 'pos': 1.0, 'compound': 0.5719},\n",
       " 447: {'neg': 0.079, 'neu': 0.921, 'pos': 0.0, 'compound': -0.4767},\n",
       " 448: {'neg': 0.134, 'neu': 0.828, 'pos': 0.038, 'compound': -0.497},\n",
       " 449: {'neg': 0.0, 'neu': 1.0, 'pos': 0.0, 'compound': 0.0},\n",
       " 450: {'neg': 0.0, 'neu': 0.448, 'pos': 0.552, 'compound': 0.5719},\n",
       " 451: {'neg': 0.245, 'neu': 0.704, 'pos': 0.051, 'compound': -0.784},\n",
       " 452: {'neg': 0.0, 'neu': 1.0, 'pos': 0.0, 'compound': 0.0},\n",
       " 453: {'neg': 0.057, 'neu': 0.713, 'pos': 0.231, 'compound': 0.7951},\n",
       " 454: {'neg': 0.0, 'neu': 0.897, 'pos': 0.103, 'compound': 0.3182},\n",
       " 455: {'neg': 0.054, 'neu': 0.88, 'pos': 0.066, 'compound': 0.09},\n",
       " 456: {'neg': 0.0, 'neu': 0.601, 'pos': 0.399, 'compound': 0.743},\n",
       " 457: {'neg': 0.0, 'neu': 0.932, 'pos': 0.068, 'compound': 0.6249},\n",
       " 458: {'neg': 0.152, 'neu': 0.673, 'pos': 0.175, 'compound': 0.088},\n",
       " 459: {'neg': 0.0, 'neu': 0.408, 'pos': 0.592, 'compound': 0.4404},\n",
       " 460: {'neg': 0.0, 'neu': 0.152, 'pos': 0.848, 'compound': 0.6808},\n",
       " 461: {'neg': 0.0, 'neu': 0.639, 'pos': 0.361, 'compound': 0.9808},\n",
       " 462: {'neg': 0.0, 'neu': 0.423, 'pos': 0.577, 'compound': 0.6249},\n",
       " 463: {'neg': 0.259, 'neu': 0.705, 'pos': 0.035, 'compound': -0.8868},\n",
       " 464: {'neg': 0.0, 'neu': 0.244, 'pos': 0.756, 'compound': 0.4754},\n",
       " 465: {'neg': 0.091, 'neu': 0.609, 'pos': 0.3, 'compound': 0.6997},\n",
       " 466: {'neg': 0.351, 'neu': 0.649, 'pos': 0.0, 'compound': -0.4019},\n",
       " 467: {'neg': 0.0, 'neu': 0.633, 'pos': 0.367, 'compound': 0.4404},\n",
       " 468: {'neg': 0.0, 'neu': 0.874, 'pos': 0.126, 'compound': 0.6369},\n",
       " 469: {'neg': 0.0, 'neu': 0.371, 'pos': 0.629, 'compound': 0.7764},\n",
       " 470: {'neg': 0.0, 'neu': 0.864, 'pos': 0.136, 'compound': 0.7184},\n",
       " 471: {'neg': 0.0, 'neu': 0.69, 'pos': 0.31, 'compound': 0.6597},\n",
       " 472: {'neg': 0.0, 'neu': 0.641, 'pos': 0.359, 'compound': 0.8383},\n",
       " 473: {'neg': 0.0, 'neu': 0.196, 'pos': 0.804, 'compound': 0.6249},\n",
       " 474: {'neg': 0.073, 'neu': 0.875, 'pos': 0.052, 'compound': -0.1779},\n",
       " 475: {'neg': 0.0, 'neu': 0.543, 'pos': 0.457, 'compound': 0.6369},\n",
       " 476: {'neg': 0.201, 'neu': 0.799, 'pos': 0.0, 'compound': -0.7927},\n",
       " 477: {'neg': 0.0, 'neu': 0.813, 'pos': 0.187, 'compound': 0.4404},\n",
       " 478: {'neg': 0.063, 'neu': 0.882, 'pos': 0.054, 'compound': -0.0891},\n",
       " 479: {'neg': 0.125, 'neu': 0.717, 'pos': 0.158, 'compound': 0.1154},\n",
       " 480: {'neg': 0.21, 'neu': 0.79, 'pos': 0.0, 'compound': -0.1511},\n",
       " 481: {'neg': 0.0, 'neu': 1.0, 'pos': 0.0, 'compound': 0.0},\n",
       " 482: {'neg': 0.0, 'neu': 0.0, 'pos': 1.0, 'compound': 0.6249},\n",
       " 483: {'neg': 0.0, 'neu': 1.0, 'pos': 0.0, 'compound': 0.0},\n",
       " 484: {'neg': 0.0, 'neu': 0.0, 'pos': 1.0, 'compound': 0.4404},\n",
       " 485: {'neg': 0.135, 'neu': 0.831, 'pos': 0.035, 'compound': -0.6997},\n",
       " 486: {'neg': 0.166, 'neu': 0.834, 'pos': 0.0, 'compound': -0.6361},\n",
       " 487: {'neg': 0.0, 'neu': 0.328, 'pos': 0.672, 'compound': 0.6249},\n",
       " 488: {'neg': 0.0, 'neu': 0.549, 'pos': 0.451, 'compound': 0.6249},\n",
       " 489: {'neg': 0.0, 'neu': 1.0, 'pos': 0.0, 'compound': 0.0},\n",
       " 490: {'neg': 0.0, 'neu': 1.0, 'pos': 0.0, 'compound': 0.0},\n",
       " 491: {'neg': 0.051, 'neu': 0.949, 'pos': 0.0, 'compound': -0.128},\n",
       " 492: {'neg': 0.057, 'neu': 0.817, 'pos': 0.126, 'compound': 0.5106},\n",
       " 493: {'neg': 0.0, 'neu': 0.0, 'pos': 1.0, 'compound': 0.5719},\n",
       " 494: {'neg': 0.166, 'neu': 0.834, 'pos': 0.0, 'compound': -0.2924},\n",
       " 495: {'neg': 0.07, 'neu': 0.828, 'pos': 0.102, 'compound': -0.1901},\n",
       " 496: {'neg': 0.0, 'neu': 0.0, 'pos': 1.0, 'compound': 0.5719},\n",
       " 497: {'neg': 0.0, 'neu': 0.661, 'pos': 0.339, 'compound': 0.6249},\n",
       " 498: {'neg': 0.247, 'neu': 0.606, 'pos': 0.146, 'compound': -0.25},\n",
       " 499: {'neg': 0.0, 'neu': 0.111, 'pos': 0.889, 'compound': 0.8402},\n",
       " 500: {'neg': 0.0, 'neu': 0.601, 'pos': 0.399, 'compound': 0.9358},\n",
       " 501: {'neg': 0.0, 'neu': 1.0, 'pos': 0.0, 'compound': 0.0},\n",
       " 502: {'neg': 0.18, 'neu': 0.727, 'pos': 0.093, 'compound': -0.2878},\n",
       " 503: {'neg': 0.0, 'neu': 0.711, 'pos': 0.289, 'compound': 0.9246},\n",
       " 504: {'neg': 0.0, 'neu': 1.0, 'pos': 0.0, 'compound': 0.0},\n",
       " 505: {'neg': 0.134, 'neu': 0.758, 'pos': 0.108, 'compound': -0.2944},\n",
       " 506: {'neg': 0.0, 'neu': 0.85, 'pos': 0.15, 'compound': 0.3182},\n",
       " 507: {'neg': 0.0, 'neu': 1.0, 'pos': 0.0, 'compound': 0.0},\n",
       " 508: {'neg': 0.0, 'neu': 1.0, 'pos': 0.0, 'compound': 0.0},\n",
       " 509: {'neg': 0.615, 'neu': 0.385, 'pos': 0.0, 'compound': -0.8225},\n",
       " 510: {'neg': 0.0, 'neu': 0.263, 'pos': 0.737, 'compound': 0.4215},\n",
       " 511: {'neg': 0.0, 'neu': 0.196, 'pos': 0.804, 'compound': 0.6249},\n",
       " 512: {'neg': 0.0, 'neu': 0.0, 'pos': 1.0, 'compound': 0.4215},\n",
       " 513: {'neg': 0.0, 'neu': 0.714, 'pos': 0.286, 'compound': 0.6808},\n",
       " 514: {'neg': 0.0, 'neu': 0.286, 'pos': 0.714, 'compound': 0.3612},\n",
       " 515: {'neg': 0.0, 'neu': 0.735, 'pos': 0.265, 'compound': 0.7227},\n",
       " 516: {'neg': 0.0, 'neu': 0.263, 'pos': 0.737, 'compound': 0.4215},\n",
       " 517: {'neg': 0.0, 'neu': 0.589, 'pos': 0.411, 'compound': 0.636},\n",
       " 518: {'neg': 0.125, 'neu': 0.777, 'pos': 0.098, 'compound': -0.378},\n",
       " 519: {'neg': 0.0, 'neu': 0.802, 'pos': 0.198, 'compound': 0.8783},\n",
       " 520: {'neg': 0.0, 'neu': 0.721, 'pos': 0.279, 'compound': 0.6998},\n",
       " 521: {'neg': 0.019, 'neu': 0.774, 'pos': 0.207, 'compound': 0.9082},\n",
       " 522: {'neg': 0.35, 'neu': 0.65, 'pos': 0.0, 'compound': -0.5129},\n",
       " 523: {'neg': 0.0, 'neu': 1.0, 'pos': 0.0, 'compound': 0.0},\n",
       " 524: {'neg': 0.0, 'neu': 0.223, 'pos': 0.777, 'compound': 0.5399},\n",
       " 525: {'neg': 0.111, 'neu': 0.889, 'pos': 0.0, 'compound': -0.25},\n",
       " 526: {'neg': 0.0, 'neu': 0.692, 'pos': 0.308, 'compound': 0.868},\n",
       " 527: {'neg': 0.0, 'neu': 0.299, 'pos': 0.701, 'compound': 0.9136},\n",
       " 528: {'neg': 0.153, 'neu': 0.847, 'pos': 0.0, 'compound': -0.7269},\n",
       " 529: {'neg': 0.242, 'neu': 0.417, 'pos': 0.342, 'compound': 0.296},\n",
       " 530: {'neg': 0.0, 'neu': 0.477, 'pos': 0.523, 'compound': 0.6588},\n",
       " 531: {'neg': 0.0, 'neu': 0.423, 'pos': 0.577, 'compound': 0.6249},\n",
       " 532: {'neg': 0.186, 'neu': 0.531, 'pos': 0.283, 'compound': 0.2716},\n",
       " 533: {'neg': 0.0, 'neu': 0.328, 'pos': 0.672, 'compound': 0.6249},\n",
       " 534: {'neg': 0.06, 'neu': 0.562, 'pos': 0.379, 'compound': 0.8436},\n",
       " 535: {'neg': 0.0, 'neu': 0.747, 'pos': 0.253, 'compound': 0.659},\n",
       " 536: {'neg': 0.091, 'neu': 0.661, 'pos': 0.249, 'compound': 0.9241},\n",
       " 537: {'neg': 0.0, 'neu': 1.0, 'pos': 0.0, 'compound': 0.0},\n",
       " 538: {'neg': 0.163, 'neu': 0.797, 'pos': 0.041, 'compound': -0.7579},\n",
       " 539: {'neg': 0.252, 'neu': 0.748, 'pos': 0.0, 'compound': -0.4019},\n",
       " 540: {'neg': 0.076, 'neu': 0.831, 'pos': 0.093, 'compound': -0.0783},\n",
       " 541: {'neg': 0.0, 'neu': 1.0, 'pos': 0.0, 'compound': 0.0},\n",
       " 542: {'neg': 0.0, 'neu': 0.519, 'pos': 0.481, 'compound': 0.8126},\n",
       " 543: {'neg': 0.105, 'neu': 0.802, 'pos': 0.092, 'compound': -0.1154},\n",
       " 544: {'neg': 0.083, 'neu': 0.917, 'pos': 0.0, 'compound': -0.2924},\n",
       " 545: {'neg': 0.0, 'neu': 1.0, 'pos': 0.0, 'compound': 0.0},\n",
       " 546: {'neg': 0.0, 'neu': 0.849, 'pos': 0.151, 'compound': 0.4927},\n",
       " 547: {'neg': 0.068, 'neu': 0.884, 'pos': 0.047, 'compound': -0.2881},\n",
       " 548: {'neg': 0.214, 'neu': 0.749, 'pos': 0.037, 'compound': -0.9485},\n",
       " 549: {'neg': 0.0, 'neu': 1.0, 'pos': 0.0, 'compound': 0.0},\n",
       " 550: {'neg': 0.0, 'neu': 0.0, 'pos': 1.0, 'compound': 0.6249},\n",
       " 551: {'neg': 0.143, 'neu': 0.804, 'pos': 0.053, 'compound': -0.7556},\n",
       " 552: {'neg': 0.0, 'neu': 1.0, 'pos': 0.0, 'compound': 0.0},\n",
       " 553: {'neg': 0.105, 'neu': 0.833, 'pos': 0.062, 'compound': -0.624},\n",
       " 554: {'neg': 0.154, 'neu': 0.798, 'pos': 0.048, 'compound': -0.8592},\n",
       " 555: {'neg': 0.0, 'neu': 0.694, 'pos': 0.306, 'compound': 0.4754},\n",
       " 556: {'neg': 0.0, 'neu': 0.829, 'pos': 0.171, 'compound': 0.4019},\n",
       " 557: {'neg': 0.0, 'neu': 1.0, 'pos': 0.0, 'compound': 0.0},\n",
       " 558: {'neg': 0.0, 'neu': 0.769, 'pos': 0.231, 'compound': 0.34},\n",
       " 559: {'neg': 0.0, 'neu': 0.515, 'pos': 0.485, 'compound': 0.765},\n",
       " 560: {'neg': 0.0, 'neu': 1.0, 'pos': 0.0, 'compound': 0.0},\n",
       " 561: {'neg': 0.0, 'neu': 0.376, 'pos': 0.624, 'compound': 0.8519},\n",
       " 562: {'neg': 0.0, 'neu': 0.729, 'pos': 0.271, 'compound': 0.3818},\n",
       " 563: {'neg': 0.0, 'neu': 1.0, 'pos': 0.0, 'compound': 0.0},\n",
       " 564: {'neg': 0.0, 'neu': 0.408, 'pos': 0.592, 'compound': 0.4404},\n",
       " 565: {'neg': 0.256, 'neu': 0.744, 'pos': 0.0, 'compound': -0.3412},\n",
       " 566: {'neg': 0.0, 'neu': 0.742, 'pos': 0.258, 'compound': 0.5386},\n",
       " 567: {'neg': 0.0, 'neu': 1.0, 'pos': 0.0, 'compound': 0.0},\n",
       " 568: {'neg': 0.0, 'neu': 0.0, 'pos': 1.0, 'compound': 0.5719},\n",
       " 569: {'neg': 0.187, 'neu': 0.744, 'pos': 0.069, 'compound': -0.6779},\n",
       " 570: {'neg': 0.263, 'neu': 0.737, 'pos': 0.0, 'compound': -0.5647},\n",
       " 571: {'neg': 0.0, 'neu': 0.833, 'pos': 0.167, 'compound': 0.4215},\n",
       " 572: {'neg': 0.139, 'neu': 0.712, 'pos': 0.149, 'compound': -0.1779},\n",
       " 573: {'neg': 0.0, 'neu': 0.263, 'pos': 0.737, 'compound': 0.4215},\n",
       " 574: {'neg': 0.0, 'neu': 0.715, 'pos': 0.285, 'compound': 0.4927},\n",
       " 575: {'neg': 0.0, 'neu': 0.0, 'pos': 1.0, 'compound': 0.5574},\n",
       " 576: {'neg': 0.0, 'neu': 0.278, 'pos': 0.722, 'compound': 0.6369},\n",
       " 577: {'neg': 0.179, 'neu': 0.781, 'pos': 0.04, 'compound': -0.7351},\n",
       " 578: {'neg': 0.0, 'neu': 0.0, 'pos': 1.0, 'compound': 0.4215},\n",
       " 579: {'neg': 0.0, 'neu': 0.455, 'pos': 0.545, 'compound': 0.5574},\n",
       " 580: {'neg': 0.07, 'neu': 0.867, 'pos': 0.063, 'compound': -0.0572},\n",
       " 581: {'neg': 0.0, 'neu': 0.541, 'pos': 0.459, 'compound': 0.7783},\n",
       " 582: {'neg': 0.2, 'neu': 0.8, 'pos': 0.0, 'compound': -0.128},\n",
       " 583: {'neg': 0.05, 'neu': 0.73, 'pos': 0.22, 'compound': 0.7612},\n",
       " 584: {'neg': 0.0, 'neu': 0.825, 'pos': 0.175, 'compound': 0.4137},\n",
       " 585: {'neg': 0.064, 'neu': 0.87, 'pos': 0.067, 'compound': 0.0258},\n",
       " 586: {'neg': 0.232, 'neu': 0.69, 'pos': 0.077, 'compound': -0.8185},\n",
       " 587: {'neg': 0.0, 'neu': 0.0, 'pos': 1.0, 'compound': 0.6249},\n",
       " 588: {'neg': 0.285, 'neu': 0.715, 'pos': 0.0, 'compound': -0.7776},\n",
       " 589: {'neg': 0.0, 'neu': 0.0, 'pos': 1.0, 'compound': 0.4404},\n",
       " 590: {'neg': 0.0, 'neu': 0.417, 'pos': 0.583, 'compound': 0.4215},\n",
       " 591: {'neg': 0.0, 'neu': 1.0, 'pos': 0.0, 'compound': 0.0},\n",
       " 592: {'neg': 0.227, 'neu': 0.773, 'pos': 0.0, 'compound': -0.6249},\n",
       " 593: {'neg': 0.0, 'neu': 0.556, 'pos': 0.444, 'compound': 0.4927},\n",
       " 594: {'neg': 0.291, 'neu': 0.709, 'pos': 0.0, 'compound': -0.6249},\n",
       " 595: {'neg': 0.0, 'neu': 0.0, 'pos': 1.0, 'compound': 0.4404},\n",
       " 596: {'neg': 0.154, 'neu': 0.788, 'pos': 0.059, 'compound': -0.6361},\n",
       " 597: {'neg': 0.129, 'neu': 0.75, 'pos': 0.12, 'compound': 0.1808},\n",
       " 598: {'neg': 0.0, 'neu': 1.0, 'pos': 0.0, 'compound': 0.0},\n",
       " 599: {'neg': 0.0, 'neu': 1.0, 'pos': 0.0, 'compound': 0.0},\n",
       " 600: {'neg': 0.215, 'neu': 0.726, 'pos': 0.059, 'compound': -0.7717},\n",
       " 601: {'neg': 0.0, 'neu': 0.812, 'pos': 0.188, 'compound': 0.8313},\n",
       " 602: {'neg': 0.359, 'neu': 0.641, 'pos': 0.0, 'compound': -0.4215},\n",
       " 603: {'neg': 0.0, 'neu': 0.916, 'pos': 0.084, 'compound': 0.5789},\n",
       " 604: {'neg': 0.268, 'neu': 0.732, 'pos': 0.0, 'compound': -0.296},\n",
       " 605: {'neg': 0.042, 'neu': 0.849, 'pos': 0.109, 'compound': 0.5349},\n",
       " 606: {'neg': 0.0, 'neu': 0.367, 'pos': 0.633, 'compound': 0.7845},\n",
       " 607: {'neg': 0.125, 'neu': 0.815, 'pos': 0.06, 'compound': -0.6256},\n",
       " 608: {'neg': 0.0, 'neu': 1.0, 'pos': 0.0, 'compound': 0.0},\n",
       " 609: {'neg': 0.0, 'neu': 1.0, 'pos': 0.0, 'compound': 0.0},\n",
       " 610: {'neg': 0.0, 'neu': 0.885, 'pos': 0.115, 'compound': 0.3818},\n",
       " 611: {'neg': 0.142, 'neu': 0.791, 'pos': 0.066, 'compound': -0.7128},\n",
       " 612: {'neg': 0.0, 'neu': 0.37, 'pos': 0.63, 'compound': 0.1779},\n",
       " 613: {'neg': 0.322, 'neu': 0.678, 'pos': 0.0, 'compound': -0.5849},\n",
       " 614: {'neg': 0.0, 'neu': 0.263, 'pos': 0.737, 'compound': 0.4215},\n",
       " 615: {'neg': 0.0, 'neu': 0.393, 'pos': 0.607, 'compound': 0.4754},\n",
       " 616: {'neg': 0.0, 'neu': 0.208, 'pos': 0.792, 'compound': 0.5859},\n",
       " 617: {'neg': 0.0, 'neu': 0.0, 'pos': 1.0, 'compound': 0.4215},\n",
       " 618: {'neg': 0.0, 'neu': 0.93, 'pos': 0.07, 'compound': 0.5905},\n",
       " 619: {'neg': 0.0, 'neu': 0.588, 'pos': 0.412, 'compound': 0.6369},\n",
       " 620: {'neg': 0.277, 'neu': 0.723, 'pos': 0.0, 'compound': -0.3182},\n",
       " 621: {'neg': 0.0, 'neu': 0.393, 'pos': 0.607, 'compound': 0.4754},\n",
       " 622: {'neg': 0.0, 'neu': 1.0, 'pos': 0.0, 'compound': 0.0},\n",
       " 623: {'neg': 0.0, 'neu': 0.844, 'pos': 0.156, 'compound': 0.2124},\n",
       " 624: {'neg': 0.688, 'neu': 0.312, 'pos': 0.0, 'compound': -0.296},\n",
       " 625: {'neg': 0.095, 'neu': 0.848, 'pos': 0.057, 'compound': -0.0813},\n",
       " 626: {'neg': 0.0, 'neu': 0.0, 'pos': 1.0, 'compound': 0.4404},\n",
       " 627: {'neg': 0.0, 'neu': 1.0, 'pos': 0.0, 'compound': 0.0},\n",
       " 628: {'neg': 0.0, 'neu': 0.263, 'pos': 0.737, 'compound': 0.4215},\n",
       " 629: {'neg': 0.0, 'neu': 0.0, 'pos': 1.0, 'compound': 0.6249},\n",
       " 630: {'neg': 0.0, 'neu': 0.385, 'pos': 0.615, 'compound': 0.4927},\n",
       " 631: {'neg': 0.0, 'neu': 0.545, 'pos': 0.455, 'compound': 0.3612},\n",
       " 632: {'neg': 0.0, 'neu': 0.948, 'pos': 0.052, 'compound': 0.2724},\n",
       " 633: {'neg': 0.0, 'neu': 1.0, 'pos': 0.0, 'compound': 0.0},\n",
       " 634: {'neg': 0.162, 'neu': 0.763, 'pos': 0.074, 'compound': -0.2679},\n",
       " 635: {'neg': 0.0, 'neu': 0.748, 'pos': 0.252, 'compound': 0.75},\n",
       " 636: {'neg': 0.113, 'neu': 0.7, 'pos': 0.186, 'compound': 0.734},\n",
       " 637: {'neg': 0.0, 'neu': 1.0, 'pos': 0.0, 'compound': 0.0},\n",
       " 638: {'neg': 0.168, 'neu': 0.736, 'pos': 0.096, 'compound': -0.7302},\n",
       " 639: {'neg': 0.0, 'neu': 0.213, 'pos': 0.787, 'compound': 0.5719},\n",
       " 640: {'neg': 0.0, 'neu': 0.127, 'pos': 0.873, 'compound': 0.7845},\n",
       " 641: {'neg': 0.115, 'neu': 0.87, 'pos': 0.015, 'compound': -0.8422},\n",
       " 642: {'neg': 0.0, 'neu': 1.0, 'pos': 0.0, 'compound': 0.0},\n",
       " 643: {'neg': 0.0, 'neu': 1.0, 'pos': 0.0, 'compound': 0.0},\n",
       " 644: {'neg': 0.0, 'neu': 1.0, 'pos': 0.0, 'compound': 0.0},\n",
       " 645: {'neg': 0.0, 'neu': 0.488, 'pos': 0.512, 'compound': 0.6369},\n",
       " 646: {'neg': 0.0, 'neu': 1.0, 'pos': 0.0, 'compound': 0.0},\n",
       " 647: {'neg': 0.0, 'neu': 0.0, 'pos': 1.0, 'compound': 0.4404},\n",
       " 648: {'neg': 0.0, 'neu': 1.0, 'pos': 0.0, 'compound': 0.0},\n",
       " 649: {'neg': 0.0, 'neu': 0.488, 'pos': 0.512, 'compound': 0.6369},\n",
       " 650: {'neg': 0.0, 'neu': 0.862, 'pos': 0.138, 'compound': 0.1139},\n",
       " 651: {'neg': 0.0, 'neu': 0.196, 'pos': 0.804, 'compound': 0.8481},\n",
       " 652: {'neg': 0.0, 'neu': 1.0, 'pos': 0.0, 'compound': 0.0},\n",
       " 653: {'neg': 0.081, 'neu': 0.919, 'pos': 0.0, 'compound': -0.296},\n",
       " 654: {'neg': 0.154, 'neu': 0.846, 'pos': 0.0, 'compound': -0.2498},\n",
       " 655: {'neg': 0.091, 'neu': 0.888, 'pos': 0.021, 'compound': -0.8264},\n",
       " 656: {'neg': 0.126, 'neu': 0.874, 'pos': 0.0, 'compound': -0.0772},\n",
       " 657: {'neg': 0.317, 'neu': 0.481, 'pos': 0.202, 'compound': -0.34},\n",
       " 658: {'neg': 0.0, 'neu': 0.53, 'pos': 0.47, 'compound': 0.7351},\n",
       " 659: {'neg': 0.056, 'neu': 0.891, 'pos': 0.053, 'compound': -0.3043},\n",
       " 660: {'neg': 0.233, 'neu': 0.612, 'pos': 0.155, 'compound': -0.1635},\n",
       " 661: {'neg': 0.0, 'neu': 0.323, 'pos': 0.677, 'compound': 0.6369},\n",
       " 662: {'neg': 0.307, 'neu': 0.614, 'pos': 0.079, 'compound': -0.636},\n",
       " 663: {'neg': 0.0, 'neu': 0.0, 'pos': 1.0, 'compound': 0.6249},\n",
       " 664: {'neg': 0.0, 'neu': 1.0, 'pos': 0.0, 'compound': 0.0},\n",
       " 665: {'neg': 0.111, 'neu': 0.694, 'pos': 0.194, 'compound': 0.296},\n",
       " 666: {'neg': 0.0, 'neu': 1.0, 'pos': 0.0, 'compound': 0.0},\n",
       " 667: {'neg': 0.0, 'neu': 1.0, 'pos': 0.0, 'compound': 0.0},\n",
       " 668: {'neg': 0.0, 'neu': 0.334, 'pos': 0.666, 'compound': 0.7177},\n",
       " 669: {'neg': 0.124, 'neu': 0.876, 'pos': 0.0, 'compound': -0.3716},\n",
       " 670: {'neg': 0.0, 'neu': 0.0, 'pos': 1.0, 'compound': 0.4215},\n",
       " 671: {'neg': 0.0, 'neu': 0.528, 'pos': 0.472, 'compound': 0.9517},\n",
       " 672: {'neg': 0.0, 'neu': 0.915, 'pos': 0.085, 'compound': 0.3612},\n",
       " 673: {'neg': 0.0, 'neu': 1.0, 'pos': 0.0, 'compound': 0.0},\n",
       " 674: {'neg': 0.047, 'neu': 0.953, 'pos': 0.0, 'compound': -0.2057},\n",
       " 675: {'neg': 0.0, 'neu': 0.508, 'pos': 0.492, 'compound': 0.4404},\n",
       " 676: {'neg': 0.186, 'neu': 0.814, 'pos': 0.0, 'compound': -0.6249},\n",
       " 677: {'neg': 0.0, 'neu': 0.492, 'pos': 0.508, 'compound': 0.7351},\n",
       " 678: {'neg': 0.088, 'neu': 0.854, 'pos': 0.059, 'compound': -0.0516},\n",
       " 679: {'neg': 0.0, 'neu': 1.0, 'pos': 0.0, 'compound': 0.0},\n",
       " 680: {'neg': 0.44, 'neu': 0.504, 'pos': 0.056, 'compound': -0.9615},\n",
       " 681: {'neg': 0.577, 'neu': 0.423, 'pos': 0.0, 'compound': -0.6249},\n",
       " 682: {'neg': 0.053, 'neu': 0.758, 'pos': 0.189, 'compound': 0.7992},\n",
       " 683: {'neg': 0.0, 'neu': 1.0, 'pos': 0.0, 'compound': 0.0},\n",
       " 684: {'neg': 0.0, 'neu': 0.631, 'pos': 0.369, 'compound': 0.6249},\n",
       " 685: {'neg': 0.0, 'neu': 1.0, 'pos': 0.0, 'compound': 0.0},\n",
       " 686: {'neg': 0.072, 'neu': 0.928, 'pos': 0.0, 'compound': -0.1027},\n",
       " 687: {'neg': 0.224, 'neu': 0.776, 'pos': 0.0, 'compound': -0.6369},\n",
       " 688: {'neg': 0.0, 'neu': 0.385, 'pos': 0.615, 'compound': 0.4927},\n",
       " 689: {'neg': 0.269, 'neu': 0.605, 'pos': 0.126, 'compound': -0.3786},\n",
       " 690: {'neg': 0.0, 'neu': 0.902, 'pos': 0.098, 'compound': 0.34},\n",
       " 691: {'neg': 0.173, 'neu': 0.652, 'pos': 0.175, 'compound': 0.4789},\n",
       " 692: {'neg': 0.577, 'neu': 0.423, 'pos': 0.0, 'compound': -0.6249},\n",
       " 693: {'neg': 0.0, 'neu': 0.837, 'pos': 0.163, 'compound': 0.9267},\n",
       " 694: {'neg': 0.0, 'neu': 1.0, 'pos': 0.0, 'compound': 0.0},\n",
       " 695: {'neg': 0.0, 'neu': 0.26, 'pos': 0.74, 'compound': 0.6908},\n",
       " 696: {'neg': 0.0, 'neu': 0.633, 'pos': 0.367, 'compound': 0.4404},\n",
       " 697: {'neg': 0.063, 'neu': 0.862, 'pos': 0.075, 'compound': 0.1027},\n",
       " 698: {'neg': 0.249, 'neu': 0.751, 'pos': 0.0, 'compound': -0.7684},\n",
       " 699: {'neg': 0.0, 'neu': 1.0, 'pos': 0.0, 'compound': 0.0},\n",
       " 700: {'neg': 0.0, 'neu': 0.806, 'pos': 0.194, 'compound': 0.6486},\n",
       " 701: {'neg': 0.095, 'neu': 0.75, 'pos': 0.154, 'compound': 0.3089},\n",
       " 702: {'neg': 0.0, 'neu': 0.526, 'pos': 0.474, 'compound': 0.4019},\n",
       " 703: {'neg': 0.0, 'neu': 0.256, 'pos': 0.744, 'compound': 0.4404},\n",
       " 704: {'neg': 0.0, 'neu': 0.461, 'pos': 0.539, 'compound': 0.8481},\n",
       " 705: {'neg': 0.153, 'neu': 0.748, 'pos': 0.1, 'compound': -0.1779},\n",
       " 706: {'neg': 0.097, 'neu': 0.609, 'pos': 0.294, 'compound': 0.6705},\n",
       " 707: {'neg': 0.0, 'neu': 0.828, 'pos': 0.172, 'compound': 0.8402},\n",
       " 708: {'neg': 0.0, 'neu': 1.0, 'pos': 0.0, 'compound': 0.0},\n",
       " 709: {'neg': 0.187, 'neu': 0.813, 'pos': 0.0, 'compound': -0.6467},\n",
       " 710: {'neg': 0.0, 'neu': 0.777, 'pos': 0.223, 'compound': 0.765},\n",
       " 711: {'neg': 0.0, 'neu': 0.791, 'pos': 0.209, 'compound': 0.4404},\n",
       " 712: {'neg': 0.127, 'neu': 0.797, 'pos': 0.076, 'compound': -0.34},\n",
       " 713: {'neg': 0.0, 'neu': 0.897, 'pos': 0.103, 'compound': 0.2382},\n",
       " 714: {'neg': 0.039, 'neu': 0.803, 'pos': 0.158, 'compound': 0.7089},\n",
       " 715: {'neg': 0.134, 'neu': 0.768, 'pos': 0.098, 'compound': -0.3182},\n",
       " 716: {'neg': 0.0, 'neu': 1.0, 'pos': 0.0, 'compound': 0.0},\n",
       " 717: {'neg': 0.0, 'neu': 0.65, 'pos': 0.35, 'compound': 0.7902},\n",
       " 718: {'neg': 0.0, 'neu': 0.861, 'pos': 0.139, 'compound': 0.4404},\n",
       " 719: {'neg': 0.107, 'neu': 0.755, 'pos': 0.138, 'compound': 0.5859},\n",
       " 720: {'neg': 0.0, 'neu': 0.817, 'pos': 0.183, 'compound': 0.6688},\n",
       " 721: {'neg': 0.0, 'neu': 0.488, 'pos': 0.512, 'compound': 0.6369},\n",
       " 722: {'neg': 0.067, 'neu': 0.799, 'pos': 0.135, 'compound': 0.1864},\n",
       " 723: {'neg': 0.0, 'neu': 0.769, 'pos': 0.231, 'compound': 0.5859},\n",
       " 724: {'neg': 0.072, 'neu': 0.823, 'pos': 0.105, 'compound': 0.0431},\n",
       " 725: {'neg': 0.0, 'neu': 0.732, 'pos': 0.268, 'compound': 0.9328},\n",
       " 726: {'neg': 0.183, 'neu': 0.458, 'pos': 0.359, 'compound': 0.2846},\n",
       " 727: {'neg': 0.0, 'neu': 0.0, 'pos': 1.0, 'compound': 0.4404},\n",
       " 728: {'neg': 0.0, 'neu': 0.0, 'pos': 1.0, 'compound': 0.5859},\n",
       " 729: {'neg': 0.0, 'neu': 0.698, 'pos': 0.302, 'compound': 0.3818},\n",
       " 730: {'neg': 0.0, 'neu': 0.494, 'pos': 0.506, 'compound': 0.6249},\n",
       " 731: {'neg': 0.0, 'neu': 1.0, 'pos': 0.0, 'compound': 0.0},\n",
       " 732: {'neg': 0.0, 'neu': 1.0, 'pos': 0.0, 'compound': 0.0},\n",
       " 733: {'neg': 0.0, 'neu': 0.543, 'pos': 0.457, 'compound': 0.6369},\n",
       " 734: {'neg': 0.055, 'neu': 0.799, 'pos': 0.146, 'compound': 0.7034},\n",
       " 735: {'neg': 0.0, 'neu': 0.247, 'pos': 0.753, 'compound': 0.7269},\n",
       " 736: {'neg': 0.0, 'neu': 0.89, 'pos': 0.11, 'compound': 0.4767},\n",
       " 737: {'neg': 0.0, 'neu': 0.213, 'pos': 0.787, 'compound': 0.5719},\n",
       " 738: {'neg': 0.0, 'neu': 0.61, 'pos': 0.39, 'compound': 0.4927},\n",
       " 739: {'neg': 0.163, 'neu': 0.602, 'pos': 0.235, 'compound': 0.296},\n",
       " 740: {'neg': 0.0, 'neu': 0.385, 'pos': 0.615, 'compound': 0.4927},\n",
       " 741: {'neg': 0.0, 'neu': 0.408, 'pos': 0.592, 'compound': 0.4404},\n",
       " 742: {'neg': 0.483, 'neu': 0.517, 'pos': 0.0, 'compound': -0.4215},\n",
       " 743: {'neg': 0.0, 'neu': 0.659, 'pos': 0.341, 'compound': 0.886},\n",
       " 744: {'neg': 0.321, 'neu': 0.679, 'pos': 0.0, 'compound': -0.636},\n",
       " 745: {'neg': 0.0, 'neu': 0.613, 'pos': 0.387, 'compound': 0.743},\n",
       " 746: {'neg': 0.0, 'neu': 0.584, 'pos': 0.416, 'compound': 0.6115},\n",
       " 747: {'neg': 0.0, 'neu': 0.43, 'pos': 0.57, 'compound': 0.6486},\n",
       " 748: {'neg': 0.124, 'neu': 0.64, 'pos': 0.236, 'compound': 0.4215},\n",
       " 749: {'neg': 0.124, 'neu': 0.718, 'pos': 0.157, 'compound': 0.296},\n",
       " 750: {'neg': 0.0, 'neu': 0.477, 'pos': 0.523, 'compound': 0.6588},\n",
       " 751: {'neg': 0.0, 'neu': 0.622, 'pos': 0.378, 'compound': 0.807},\n",
       " 752: {'neg': 0.0, 'neu': 0.213, 'pos': 0.787, 'compound': 0.5719},\n",
       " 753: {'neg': 0.0, 'neu': 0.0, 'pos': 1.0, 'compound': 0.5859},\n",
       " 754: {'neg': 0.0, 'neu': 1.0, 'pos': 0.0, 'compound': 0.0},\n",
       " 755: {'neg': 0.126, 'neu': 0.811, 'pos': 0.063, 'compound': -0.4421},\n",
       " 756: {'neg': 0.0, 'neu': 1.0, 'pos': 0.0, 'compound': 0.0},\n",
       " 757: {'neg': 0.1, 'neu': 0.808, 'pos': 0.092, 'compound': -0.1475},\n",
       " 758: {'neg': 0.0, 'neu': 0.517, 'pos': 0.483, 'compound': 0.9423},\n",
       " 759: {'neg': 0.0, 'neu': 0.744, 'pos': 0.256, 'compound': 0.908},\n",
       " 760: {'neg': 0.0, 'neu': 1.0, 'pos': 0.0, 'compound': 0.0},\n",
       " 761: {'neg': 0.0, 'neu': 0.623, 'pos': 0.377, 'compound': 0.6177},\n",
       " 762: {'neg': 0.0, 'neu': 1.0, 'pos': 0.0, 'compound': 0.0},\n",
       " 763: {'neg': 0.0, 'neu': 0.256, 'pos': 0.744, 'compound': 0.4404},\n",
       " 764: {'neg': 0.0, 'neu': 0.366, 'pos': 0.634, 'compound': 0.5379},\n",
       " 765: {'neg': 0.0, 'neu': 0.769, 'pos': 0.231, 'compound': 0.5859},\n",
       " 766: {'neg': 0.0, 'neu': 1.0, 'pos': 0.0, 'compound': 0.0},\n",
       " 767: {'neg': 0.672, 'neu': 0.328, 'pos': 0.0, 'compound': -0.6249},\n",
       " 768: {'neg': 0.0, 'neu': 0.614, 'pos': 0.386, 'compound': 0.7684},\n",
       " 769: {'neg': 0.0, 'neu': 0.825, 'pos': 0.175, 'compound': 0.3716},\n",
       " 770: {'neg': 0.0, 'neu': 0.0, 'pos': 1.0, 'compound': 0.4404},\n",
       " 771: {'neg': 0.217, 'neu': 0.558, 'pos': 0.226, 'compound': 0.3156},\n",
       " 772: {'neg': 0.0, 'neu': 0.587, 'pos': 0.413, 'compound': 0.9686},\n",
       " 773: {'neg': 0.0, 'neu': 0.0, 'pos': 1.0, 'compound': 0.2263},\n",
       " 774: {'neg': 0.15, 'neu': 0.85, 'pos': 0.0, 'compound': -0.587},\n",
       " 775: {'neg': 0.0, 'neu': 0.326, 'pos': 0.674, 'compound': 0.7351},\n",
       " 776: {'neg': 0.0, 'neu': 1.0, 'pos': 0.0, 'compound': 0.0},\n",
       " 777: {'neg': 0.0, 'neu': 0.417, 'pos': 0.583, 'compound': 0.7906},\n",
       " 778: {'neg': 0.293, 'neu': 0.707, 'pos': 0.0, 'compound': -0.4404},\n",
       " 779: {'neg': 0.0, 'neu': 0.238, 'pos': 0.762, 'compound': 0.4939},\n",
       " 780: {'neg': 0.0, 'neu': 0.119, 'pos': 0.881, 'compound': 0.8122},\n",
       " 781: {'neg': 0.167, 'neu': 0.81, 'pos': 0.023, 'compound': -0.8476},\n",
       " 782: {'neg': 0.079, 'neu': 0.828, 'pos': 0.093, 'compound': 0.3051},\n",
       " 783: {'neg': 0.0, 'neu': 0.0, 'pos': 1.0, 'compound': 0.5719},\n",
       " 784: {'neg': 0.0, 'neu': 0.323, 'pos': 0.677, 'compound': 0.6369},\n",
       " 785: {'neg': 0.0, 'neu': 1.0, 'pos': 0.0, 'compound': 0.0},\n",
       " 786: {'neg': 0.167, 'neu': 0.807, 'pos': 0.026, 'compound': -0.9113},\n",
       " 787: {'neg': 0.208, 'neu': 0.706, 'pos': 0.086, 'compound': -0.4576},\n",
       " 788: {'neg': 0.31, 'neu': 0.69, 'pos': 0.0, 'compound': -0.4019},\n",
       " 789: {'neg': 0.06, 'neu': 0.881, 'pos': 0.06, 'compound': 0.0},\n",
       " 790: {'neg': 0.0, 'neu': 1.0, 'pos': 0.0, 'compound': 0.0},\n",
       " 791: {'neg': 0.0, 'neu': 0.602, 'pos': 0.398, 'compound': 0.6478},\n",
       " 792: {'neg': 0.0, 'neu': 0.365, 'pos': 0.635, 'compound': 0.5399},\n",
       " 793: {'neg': 0.0, 'neu': 0.542, 'pos': 0.458, 'compound': 0.8516},\n",
       " 794: {'neg': 0.125, 'neu': 0.716, 'pos': 0.159, 'compound': 0.1531},\n",
       " 795: {'neg': 0.089, 'neu': 0.651, 'pos': 0.26, 'compound': 0.4389},\n",
       " 796: {'neg': 0.0, 'neu': 0.239, 'pos': 0.761, 'compound': 0.4926},\n",
       " 797: {'neg': 0.0, 'neu': 1.0, 'pos': 0.0, 'compound': 0.0},\n",
       " 798: {'neg': 0.0, 'neu': 0.351, 'pos': 0.649, 'compound': 0.5719},\n",
       " 799: {'neg': 0.0, 'neu': 1.0, 'pos': 0.0, 'compound': 0.0},\n",
       " 800: {'neg': 0.0, 'neu': 0.663, 'pos': 0.337, 'compound': 0.7264},\n",
       " 801: {'neg': 0.0, 'neu': 1.0, 'pos': 0.0, 'compound': 0.0},\n",
       " 802: {'neg': 0.0, 'neu': 1.0, 'pos': 0.0, 'compound': 0.0},\n",
       " 803: {'neg': 0.154, 'neu': 0.846, 'pos': 0.0, 'compound': -0.7841},\n",
       " 804: {'neg': 0.0, 'neu': 0.408, 'pos': 0.592, 'compound': 0.4404},\n",
       " 805: {'neg': 0.0, 'neu': 0.0, 'pos': 1.0, 'compound': 0.4404},\n",
       " 806: {'neg': 0.0, 'neu': 0.762, 'pos': 0.238, 'compound': 0.9251},\n",
       " 807: {'neg': 0.0, 'neu': 0.395, 'pos': 0.605, 'compound': 0.8934},\n",
       " 808: {'neg': 0.0, 'neu': 0.94, 'pos': 0.06, 'compound': 0.4767},\n",
       " 809: {'neg': 0.327, 'neu': 0.472, 'pos': 0.201, 'compound': -0.3818},\n",
       " 810: {'neg': 0.0, 'neu': 0.217, 'pos': 0.783, 'compound': 0.5574},\n",
       " 811: {'neg': 0.179, 'neu': 0.629, 'pos': 0.191, 'compound': 0.3612},\n",
       " 812: {'neg': 0.091, 'neu': 0.909, 'pos': 0.0, 'compound': -0.296},\n",
       " 813: {'neg': 0.0, 'neu': 0.335, 'pos': 0.665, 'compound': 0.7146},\n",
       " 814: {'neg': 0.0, 'neu': 0.56, 'pos': 0.44, 'compound': 0.8999},\n",
       " 815: {'neg': 0.0, 'neu': 0.667, 'pos': 0.333, 'compound': 0.6696},\n",
       " 816: {'neg': 0.046, 'neu': 0.954, 'pos': 0.0, 'compound': -0.1027},\n",
       " 817: {'neg': 0.421, 'neu': 0.579, 'pos': 0.0, 'compound': -0.624},\n",
       " 818: {'neg': 0.583, 'neu': 0.417, 'pos': 0.0, 'compound': -0.4215},\n",
       " 819: {'neg': 0.12, 'neu': 0.707, 'pos': 0.172, 'compound': 0.2746},\n",
       " 820: {'neg': 0.0, 'neu': 0.612, 'pos': 0.388, 'compound': 0.8354},\n",
       " 821: {'neg': 0.0, 'neu': 0.753, 'pos': 0.247, 'compound': 0.3818},\n",
       " 822: {'neg': 0.058, 'neu': 0.885, 'pos': 0.057, 'compound': -0.2823},\n",
       " 823: {'neg': 0.095, 'neu': 0.905, 'pos': 0.0, 'compound': -0.2484},\n",
       " 824: {'neg': 0.176, 'neu': 0.775, 'pos': 0.049, 'compound': -0.6428},\n",
       " 825: {'neg': 0.574, 'neu': 0.426, 'pos': 0.0, 'compound': -0.4019},\n",
       " 826: {'neg': 0.0, 'neu': 1.0, 'pos': 0.0, 'compound': 0.0},\n",
       " 827: {'neg': 0.0, 'neu': 0.488, 'pos': 0.512, 'compound': 0.6369},\n",
       " 828: {'neg': 0.0, 'neu': 0.61, 'pos': 0.39, 'compound': 0.4927},\n",
       " 829: {'neg': 0.0, 'neu': 1.0, 'pos': 0.0, 'compound': 0.0},\n",
       " 830: {'neg': 0.0, 'neu': 0.345, 'pos': 0.655, 'compound': 0.6901},\n",
       " 831: {'neg': 0.082, 'neu': 0.918, 'pos': 0.0, 'compound': -0.5994},\n",
       " 832: {'neg': 0.061, 'neu': 0.758, 'pos': 0.181, 'compound': 0.5726},\n",
       " 833: {'neg': 0.349, 'neu': 0.651, 'pos': 0.0, 'compound': -0.5095},\n",
       " 834: {'neg': 0.0, 'neu': 0.286, 'pos': 0.714, 'compound': 0.3612},\n",
       " 835: {'neg': 0.0, 'neu': 0.496, 'pos': 0.504, 'compound': 0.7264},\n",
       " 836: {'neg': 0.0, 'neu': 0.667, 'pos': 0.333, 'compound': 0.4588},\n",
       " 837: {'neg': 0.209, 'neu': 0.791, 'pos': 0.0, 'compound': -0.7351},\n",
       " 838: {'neg': 0.0, 'neu': 0.517, 'pos': 0.483, 'compound': 0.8555},\n",
       " 839: {'neg': 0.219, 'neu': 0.781, 'pos': 0.0, 'compound': -0.1027},\n",
       " 840: {'neg': 0.0, 'neu': 0.451, 'pos': 0.549, 'compound': 0.8074},\n",
       " 841: {'neg': 0.0, 'neu': 1.0, 'pos': 0.0, 'compound': 0.0},\n",
       " 842: {'neg': 0.133, 'neu': 0.867, 'pos': 0.0, 'compound': -0.7425},\n",
       " 843: {'neg': 0.0, 'neu': 0.664, 'pos': 0.336, 'compound': 0.7964},\n",
       " 844: {'neg': 0.0, 'neu': 0.896, 'pos': 0.104, 'compound': 0.296},\n",
       " 845: {'neg': 0.0, 'neu': 0.0, 'pos': 1.0, 'compound': 0.6249},\n",
       " 846: {'neg': 0.0, 'neu': 1.0, 'pos': 0.0, 'compound': 0.0},\n",
       " 847: {'neg': 0.2, 'neu': 0.8, 'pos': 0.0, 'compound': -0.4574},\n",
       " 848: {'neg': 0.0, 'neu': 0.886, 'pos': 0.114, 'compound': 0.2023},\n",
       " 849: {'neg': 0.0, 'neu': 0.714, 'pos': 0.286, 'compound': 0.34},\n",
       " 850: {'neg': 0.13, 'neu': 0.87, 'pos': 0.0, 'compound': -0.743},\n",
       " 851: {'neg': 0.0, 'neu': 0.328, 'pos': 0.672, 'compound': 0.6249},\n",
       " 852: {'neg': 0.0, 'neu': 0.824, 'pos': 0.176, 'compound': 0.4939},\n",
       " 853: {'neg': 0.0, 'neu': 0.615, 'pos': 0.385, 'compound': 0.6124},\n",
       " 854: {'neg': 0.0, 'neu': 0.506, 'pos': 0.494, 'compound': 0.5994},\n",
       " 855: {'neg': 0.0, 'neu': 0.556, 'pos': 0.444, 'compound': 0.4939},\n",
       " 856: {'neg': 0.0, 'neu': 0.0, 'pos': 1.0, 'compound': 0.5719},\n",
       " 857: {'neg': 0.111, 'neu': 0.819, 'pos': 0.07, 'compound': -0.4769},\n",
       " 858: {'neg': 0.229, 'neu': 0.748, 'pos': 0.023, 'compound': -0.8856},\n",
       " 859: {'neg': 0.0, 'neu': 0.0, 'pos': 1.0, 'compound': 0.6249},\n",
       " 860: {'neg': 0.0, 'neu': 0.676, 'pos': 0.324, 'compound': 0.7964},\n",
       " 861: {'neg': 0.236, 'neu': 0.337, 'pos': 0.427, 'compound': 0.4019},\n",
       " 862: {'neg': 0.252, 'neu': 0.722, 'pos': 0.026, 'compound': -0.971},\n",
       " 863: {'neg': 0.284, 'neu': 0.633, 'pos': 0.082, 'compound': -0.6359},\n",
       " 864: {'neg': 0.155, 'neu': 0.73, 'pos': 0.116, 'compound': 0.0258},\n",
       " 865: {'neg': 0.0, 'neu': 1.0, 'pos': 0.0, 'compound': 0.0},\n",
       " 866: {'neg': 0.0, 'neu': 0.423, 'pos': 0.577, 'compound': 0.6249},\n",
       " 867: {'neg': 0.0, 'neu': 0.594, 'pos': 0.406, 'compound': 0.8481},\n",
       " 868: {'neg': 0.0, 'neu': 1.0, 'pos': 0.0, 'compound': 0.0},\n",
       " 869: {'neg': 0.2, 'neu': 0.731, 'pos': 0.068, 'compound': -0.7645},\n",
       " 870: {'neg': 0.0, 'neu': 0.213, 'pos': 0.787, 'compound': 0.5719},\n",
       " 871: {'neg': 0.323, 'neu': 0.677, 'pos': 0.0, 'compound': -0.9231},\n",
       " 872: {'neg': 0.366, 'neu': 0.634, 'pos': 0.0, 'compound': -0.4389},\n",
       " 873: {'neg': 0.0, 'neu': 0.636, 'pos': 0.364, 'compound': 0.743},\n",
       " 874: {'neg': 0.0, 'neu': 1.0, 'pos': 0.0, 'compound': 0.0},\n",
       " 875: {'neg': 0.0, 'neu': 0.256, 'pos': 0.744, 'compound': 0.4404},\n",
       " 876: {'neg': 0.0, 'neu': 0.0, 'pos': 1.0, 'compound': 0.4215},\n",
       " 877: {'neg': 0.0, 'neu': 0.494, 'pos': 0.506, 'compound': 0.6249},\n",
       " 878: {'neg': 0.0, 'neu': 0.0, 'pos': 1.0, 'compound': 0.6249},\n",
       " 879: {'neg': 0.0, 'neu': 1.0, 'pos': 0.0, 'compound': 0.0},\n",
       " 880: {'neg': 0.0, 'neu': 0.816, 'pos': 0.184, 'compound': 0.2023},\n",
       " 881: {'neg': 0.0, 'neu': 0.44, 'pos': 0.56, 'compound': 0.8807},\n",
       " 882: {'neg': 0.0, 'neu': 0.328, 'pos': 0.672, 'compound': 0.6249},\n",
       " 883: {'neg': 0.0, 'neu': 0.588, 'pos': 0.412, 'compound': 0.6369},\n",
       " 884: {'neg': 0.0, 'neu': 0.323, 'pos': 0.677, 'compound': 0.6369},\n",
       " 885: {'neg': 0.057, 'neu': 0.943, 'pos': 0.0, 'compound': -0.128},\n",
       " 886: {'neg': 0.0, 'neu': 0.0, 'pos': 1.0, 'compound': 0.6249},\n",
       " 887: {'neg': 0.0, 'neu': 0.508, 'pos': 0.492, 'compound': 0.4404},\n",
       " 888: {'neg': 0.214, 'neu': 0.73, 'pos': 0.056, 'compound': -0.6014},\n",
       " 889: {'neg': 0.066, 'neu': 0.876, 'pos': 0.057, 'compound': 0.1406},\n",
       " 890: {'neg': 0.0, 'neu': 0.742, 'pos': 0.258, 'compound': 0.932},\n",
       " 891: {'neg': 0.0, 'neu': 1.0, 'pos': 0.0, 'compound': 0.0},\n",
       " 892: {'neg': 0.0, 'neu': 0.724, 'pos': 0.276, 'compound': 0.7269},\n",
       " 893: {'neg': 0.0, 'neu': 0.588, 'pos': 0.412, 'compound': 0.6369},\n",
       " 894: {'neg': 0.176, 'neu': 0.789, 'pos': 0.035, 'compound': -0.7458},\n",
       " 895: {'neg': 0.0, 'neu': 1.0, 'pos': 0.0, 'compound': 0.0},\n",
       " 896: {'neg': 0.0, 'neu': 0.491, 'pos': 0.509, 'compound': 0.8519},\n",
       " 897: {'neg': 0.051, 'neu': 0.949, 'pos': 0.0, 'compound': -0.128},\n",
       " 898: {'neg': 0.0, 'neu': 0.0, 'pos': 1.0, 'compound': 0.4404},\n",
       " 899: {'neg': 0.0, 'neu': 0.594, 'pos': 0.406, 'compound': 0.6249},\n",
       " 900: {'neg': 0.168, 'neu': 0.832, 'pos': 0.0, 'compound': -0.8904},\n",
       " 901: {'neg': 0.0, 'neu': 0.515, 'pos': 0.485, 'compound': 0.765},\n",
       " 902: {'neg': 0.0, 'neu': 0.637, 'pos': 0.363, 'compound': 0.8126},\n",
       " 903: {'neg': 0.455, 'neu': 0.545, 'pos': 0.0, 'compound': -0.3612},\n",
       " 904: {'neg': 0.0, 'neu': 0.0, 'pos': 1.0, 'compound': 0.6249},\n",
       " 905: {'neg': 0.0, 'neu': 0.423, 'pos': 0.577, 'compound': 0.6249},\n",
       " 906: {'neg': 0.0, 'neu': 0.602, 'pos': 0.398, 'compound': 0.9701},\n",
       " 907: {'neg': 0.431, 'neu': 0.569, 'pos': 0.0, 'compound': -0.5849},\n",
       " 908: {'neg': 0.149, 'neu': 0.851, 'pos': 0.0, 'compound': -0.5859},\n",
       " 909: {'neg': 0.0, 'neu': 1.0, 'pos': 0.0, 'compound': 0.0},\n",
       " 910: {'neg': 0.0, 'neu': 1.0, 'pos': 0.0, 'compound': 0.0},\n",
       " 911: {'neg': 0.0, 'neu': 1.0, 'pos': 0.0, 'compound': 0.0},\n",
       " 912: {'neg': 0.1, 'neu': 0.776, 'pos': 0.124, 'compound': 0.1027},\n",
       " 913: {'neg': 0.0, 'neu': 0.0, 'pos': 1.0, 'compound': 0.6249},\n",
       " 914: {'neg': 0.278, 'neu': 0.556, 'pos': 0.167, 'compound': -0.34},\n",
       " 915: {'neg': 0.184, 'neu': 0.816, 'pos': 0.0, 'compound': -0.8555},\n",
       " 916: {'neg': 0.0, 'neu': 0.881, 'pos': 0.119, 'compound': 0.3182},\n",
       " 917: {'neg': 0.0, 'neu': 0.893, 'pos': 0.107, 'compound': 0.34},\n",
       " 918: {'neg': 0.0, 'neu': 1.0, 'pos': 0.0, 'compound': 0.0},\n",
       " 919: {'neg': 0.0, 'neu': 0.408, 'pos': 0.592, 'compound': 0.4404},\n",
       " 920: {'neg': 0.0, 'neu': 1.0, 'pos': 0.0, 'compound': 0.0},\n",
       " 921: {'neg': 0.0, 'neu': 0.784, 'pos': 0.216, 'compound': 0.357},\n",
       " 922: {'neg': 0.155, 'neu': 0.845, 'pos': 0.0, 'compound': -0.296},\n",
       " 923: {'neg': 0.147, 'neu': 0.853, 'pos': 0.0, 'compound': -0.4767},\n",
       " 924: {'neg': 0.0, 'neu': 0.791, 'pos': 0.209, 'compound': 0.4404},\n",
       " 925: {'neg': 0.0, 'neu': 1.0, 'pos': 0.0, 'compound': 0.0},\n",
       " 926: {'neg': 0.0, 'neu': 0.238, 'pos': 0.762, 'compound': 0.4927},\n",
       " 927: {'neg': 0.0, 'neu': 0.706, 'pos': 0.294, 'compound': 0.7389},\n",
       " 928: {'neg': 0.091, 'neu': 0.909, 'pos': 0.0, 'compound': -0.4019},\n",
       " 929: {'neg': 0.144, 'neu': 0.856, 'pos': 0.0, 'compound': -0.4019},\n",
       " 930: {'neg': 0.361, 'neu': 0.639, 'pos': 0.0, 'compound': -0.5256},\n",
       " 931: {'neg': 0.227, 'neu': 0.773, 'pos': 0.0, 'compound': -0.6249},\n",
       " 932: {'neg': 0.0, 'neu': 0.423, 'pos': 0.577, 'compound': 0.6249},\n",
       " 933: {'neg': 0.0, 'neu': 0.192, 'pos': 0.808, 'compound': 0.6369},\n",
       " 934: {'neg': 0.176, 'neu': 0.824, 'pos': 0.0, 'compound': -0.9287},\n",
       " 935: {'neg': 0.0, 'neu': 0.876, 'pos': 0.124, 'compound': 0.7351},\n",
       " 936: {'neg': 0.039, 'neu': 0.812, 'pos': 0.148, 'compound': 0.7783},\n",
       " 937: {'neg': 0.059, 'neu': 0.748, 'pos': 0.194, 'compound': 0.8481},\n",
       " 938: {'neg': 0.0, 'neu': 1.0, 'pos': 0.0, 'compound': 0.0},\n",
       " 939: {'neg': 0.0, 'neu': 1.0, 'pos': 0.0, 'compound': 0.0},\n",
       " 940: {'neg': 0.159, 'neu': 0.678, 'pos': 0.162, 'compound': 0.2732},\n",
       " 941: {'neg': 0.0, 'neu': 0.208, 'pos': 0.792, 'compound': 0.5859},\n",
       " 942: {'neg': 0.0, 'neu': 1.0, 'pos': 0.0, 'compound': 0.0},\n",
       " 943: {'neg': 0.065, 'neu': 0.823, 'pos': 0.112, 'compound': 0.5372},\n",
       " 944: {'neg': 0.0, 'neu': 1.0, 'pos': 0.0, 'compound': 0.0},\n",
       " 945: {'neg': 0.167, 'neu': 0.833, 'pos': 0.0, 'compound': -0.34},\n",
       " 946: {'neg': 0.076, 'neu': 0.875, 'pos': 0.049, 'compound': -0.3898},\n",
       " 947: {'neg': 0.25, 'neu': 0.75, 'pos': 0.0, 'compound': -0.4588},\n",
       " 948: {'neg': 0.0, 'neu': 1.0, 'pos': 0.0, 'compound': 0.0},\n",
       " 949: {'neg': 0.0, 'neu': 1.0, 'pos': 0.0, 'compound': 0.0},\n",
       " 950: {'neg': 0.299, 'neu': 0.701, 'pos': 0.0, 'compound': -0.8775},\n",
       " 951: {'neg': 0.0, 'neu': 0.448, 'pos': 0.552, 'compound': 0.5719},\n",
       " 952: {'neg': 0.0, 'neu': 1.0, 'pos': 0.0, 'compound': 0.0},\n",
       " 953: {'neg': 0.0, 'neu': 0.423, 'pos': 0.577, 'compound': 0.6249},\n",
       " 954: {'neg': 0.197, 'neu': 0.756, 'pos': 0.047, 'compound': -0.879},\n",
       " 955: {'neg': 0.227, 'neu': 0.773, 'pos': 0.0, 'compound': -0.8481},\n",
       " 956: {'neg': 0.0, 'neu': 0.256, 'pos': 0.744, 'compound': 0.4404},\n",
       " 957: {'neg': 0.097, 'neu': 0.81, 'pos': 0.093, 'compound': -0.0777},\n",
       " 958: {'neg': 0.0, 'neu': 0.256, 'pos': 0.744, 'compound': 0.4404},\n",
       " 959: {'neg': 0.0, 'neu': 0.508, 'pos': 0.492, 'compound': 0.4404},\n",
       " 960: {'neg': 0.0, 'neu': 0.508, 'pos': 0.492, 'compound': 0.4404},\n",
       " 961: {'neg': 0.0, 'neu': 0.549, 'pos': 0.451, 'compound': 0.8119},\n",
       " 962: {'neg': 0.0, 'neu': 0.614, 'pos': 0.386, 'compound': 0.2235},\n",
       " 963: {'neg': 0.285, 'neu': 0.715, 'pos': 0.0, 'compound': -0.7174},\n",
       " 964: {'neg': 0.0, 'neu': 0.407, 'pos': 0.593, 'compound': 0.8059},\n",
       " 965: {'neg': 0.0, 'neu': 0.902, 'pos': 0.098, 'compound': 0.504},\n",
       " 966: {'neg': 0.44, 'neu': 0.56, 'pos': 0.0, 'compound': -0.6705},\n",
       " 967: {'neg': 0.404, 'neu': 0.596, 'pos': 0.0, 'compound': -0.5256},\n",
       " 968: {'neg': 0.106, 'neu': 0.749, 'pos': 0.145, 'compound': 0.128},\n",
       " 969: {'neg': 0.0, 'neu': 0.508, 'pos': 0.492, 'compound': 0.4404},\n",
       " 970: {'neg': 0.572, 'neu': 0.428, 'pos': 0.0, 'compound': -0.69},\n",
       " 971: {'neg': 0.0, 'neu': 0.299, 'pos': 0.701, 'compound': 0.6892},\n",
       " 972: {'neg': 0.0, 'neu': 1.0, 'pos': 0.0, 'compound': 0.0},\n",
       " 973: {'neg': 0.0, 'neu': 0.311, 'pos': 0.689, 'compound': 0.9022},\n",
       " 974: {'neg': 0.0, 'neu': 0.448, 'pos': 0.552, 'compound': 0.5709},\n",
       " 975: {'neg': 0.0, 'neu': 0.61, 'pos': 0.39, 'compound': 0.4927},\n",
       " 976: {'neg': 0.155, 'neu': 0.726, 'pos': 0.119, 'compound': -0.3069},\n",
       " 977: {'neg': 0.23, 'neu': 0.657, 'pos': 0.113, 'compound': -0.3612},\n",
       " 978: {'neg': 0.0, 'neu': 1.0, 'pos': 0.0, 'compound': 0.0},\n",
       " 979: {'neg': 0.0, 'neu': 0.909, 'pos': 0.091, 'compound': 0.34},\n",
       " 980: {'neg': 0.135, 'neu': 0.784, 'pos': 0.081, 'compound': -0.5175},\n",
       " 981: {'neg': 0.0, 'neu': 0.0, 'pos': 1.0, 'compound': 0.4404},\n",
       " 982: {'neg': 0.0, 'neu': 0.692, 'pos': 0.308, 'compound': 0.9169},\n",
       " 983: {'neg': 0.078, 'neu': 0.922, 'pos': 0.0, 'compound': -0.0705},\n",
       " 984: {'neg': 0.0, 'neu': 0.408, 'pos': 0.592, 'compound': 0.4404},\n",
       " 985: {'neg': 0.0, 'neu': 0.595, 'pos': 0.405, 'compound': 0.5267},\n",
       " 986: {'neg': 0.0, 'neu': 1.0, 'pos': 0.0, 'compound': 0.0},\n",
       " 987: {'neg': 0.0, 'neu': 0.847, 'pos': 0.153, 'compound': 0.4404},\n",
       " 988: {'neg': 0.0, 'neu': 0.501, 'pos': 0.499, 'compound': 0.7171},\n",
       " 989: {'neg': 0.0, 'neu': 0.543, 'pos': 0.457, 'compound': 0.6369},\n",
       " 990: {'neg': 0.0, 'neu': 0.485, 'pos': 0.515, 'compound': 0.8607},\n",
       " 991: {'neg': 0.0, 'neu': 1.0, 'pos': 0.0, 'compound': 0.0},\n",
       " 992: {'neg': 0.0, 'neu': 0.192, 'pos': 0.808, 'compound': 0.6369},\n",
       " 993: {'neg': 0.0, 'neu': 1.0, 'pos': 0.0, 'compound': 0.0},\n",
       " 994: {'neg': 0.0, 'neu': 0.0, 'pos': 1.0, 'compound': 0.4215},\n",
       " 995: {'neg': 0.0, 'neu': 0.82, 'pos': 0.18, 'compound': 0.296},\n",
       " 996: {'neg': 0.133, 'neu': 0.709, 'pos': 0.159, 'compound': 0.0351},\n",
       " 997: {'neg': 0.257, 'neu': 0.631, 'pos': 0.112, 'compound': -0.4599},\n",
       " 998: {'neg': 0.0, 'neu': 0.694, 'pos': 0.306, 'compound': 0.4754},\n",
       " 999: {'neg': 0.0, 'neu': 0.238, 'pos': 0.762, 'compound': 0.4927},\n",
       " 1000: {'neg': 0.0, 'neu': 0.547, 'pos': 0.453, 'compound': 0.9118},\n",
       " ...}"
      ]
     },
     "execution_count": 64,
     "metadata": {},
     "output_type": "execute_result"
    }
   ],
   "source": [
    "res"
   ]
  },
  {
   "cell_type": "code",
   "execution_count": 65,
   "id": "ea05bf38",
   "metadata": {
    "scrolled": true
   },
   "outputs": [],
   "source": [
    "df_vader=pd.DataFrame(res).T                        # T--flip evrything in the dataframe horizontly "
   ]
  },
  {
   "cell_type": "code",
   "execution_count": 66,
   "id": "d64a0189",
   "metadata": {
    "scrolled": false
   },
   "outputs": [
    {
     "data": {
      "text/html": [
       "<div>\n",
       "<style scoped>\n",
       "    .dataframe tbody tr th:only-of-type {\n",
       "        vertical-align: middle;\n",
       "    }\n",
       "\n",
       "    .dataframe tbody tr th {\n",
       "        vertical-align: top;\n",
       "    }\n",
       "\n",
       "    .dataframe thead th {\n",
       "        text-align: right;\n",
       "    }\n",
       "</style>\n",
       "<table border=\"1\" class=\"dataframe\">\n",
       "  <thead>\n",
       "    <tr style=\"text-align: right;\">\n",
       "      <th></th>\n",
       "      <th>neg</th>\n",
       "      <th>neu</th>\n",
       "      <th>pos</th>\n",
       "      <th>compound</th>\n",
       "    </tr>\n",
       "  </thead>\n",
       "  <tbody>\n",
       "    <tr>\n",
       "      <th>1</th>\n",
       "      <td>0.000</td>\n",
       "      <td>0.238</td>\n",
       "      <td>0.762</td>\n",
       "      <td>0.4927</td>\n",
       "    </tr>\n",
       "    <tr>\n",
       "      <th>2</th>\n",
       "      <td>0.117</td>\n",
       "      <td>0.857</td>\n",
       "      <td>0.026</td>\n",
       "      <td>-0.8041</td>\n",
       "    </tr>\n",
       "    <tr>\n",
       "      <th>3</th>\n",
       "      <td>0.000</td>\n",
       "      <td>0.000</td>\n",
       "      <td>1.000</td>\n",
       "      <td>0.4404</td>\n",
       "    </tr>\n",
       "    <tr>\n",
       "      <th>4</th>\n",
       "      <td>0.000</td>\n",
       "      <td>0.000</td>\n",
       "      <td>1.000</td>\n",
       "      <td>0.6369</td>\n",
       "    </tr>\n",
       "    <tr>\n",
       "      <th>5</th>\n",
       "      <td>0.140</td>\n",
       "      <td>0.860</td>\n",
       "      <td>0.000</td>\n",
       "      <td>-0.3089</td>\n",
       "    </tr>\n",
       "    <tr>\n",
       "      <th>...</th>\n",
       "      <td>...</td>\n",
       "      <td>...</td>\n",
       "      <td>...</td>\n",
       "      <td>...</td>\n",
       "    </tr>\n",
       "    <tr>\n",
       "      <th>49996</th>\n",
       "      <td>0.000</td>\n",
       "      <td>0.000</td>\n",
       "      <td>1.000</td>\n",
       "      <td>0.5719</td>\n",
       "    </tr>\n",
       "    <tr>\n",
       "      <th>49997</th>\n",
       "      <td>0.000</td>\n",
       "      <td>1.000</td>\n",
       "      <td>0.000</td>\n",
       "      <td>0.0000</td>\n",
       "    </tr>\n",
       "    <tr>\n",
       "      <th>49998</th>\n",
       "      <td>0.045</td>\n",
       "      <td>0.558</td>\n",
       "      <td>0.397</td>\n",
       "      <td>0.9585</td>\n",
       "    </tr>\n",
       "    <tr>\n",
       "      <th>49999</th>\n",
       "      <td>0.000</td>\n",
       "      <td>0.543</td>\n",
       "      <td>0.457</td>\n",
       "      <td>0.6369</td>\n",
       "    </tr>\n",
       "    <tr>\n",
       "      <th>50000</th>\n",
       "      <td>0.000</td>\n",
       "      <td>0.351</td>\n",
       "      <td>0.649</td>\n",
       "      <td>0.8122</td>\n",
       "    </tr>\n",
       "  </tbody>\n",
       "</table>\n",
       "<p>50000 rows × 4 columns</p>\n",
       "</div>"
      ],
      "text/plain": [
       "         neg    neu    pos  compound\n",
       "1      0.000  0.238  0.762    0.4927\n",
       "2      0.117  0.857  0.026   -0.8041\n",
       "3      0.000  0.000  1.000    0.4404\n",
       "4      0.000  0.000  1.000    0.6369\n",
       "5      0.140  0.860  0.000   -0.3089\n",
       "...      ...    ...    ...       ...\n",
       "49996  0.000  0.000  1.000    0.5719\n",
       "49997  0.000  1.000  0.000    0.0000\n",
       "49998  0.045  0.558  0.397    0.9585\n",
       "49999  0.000  0.543  0.457    0.6369\n",
       "50000  0.000  0.351  0.649    0.8122\n",
       "\n",
       "[50000 rows x 4 columns]"
      ]
     },
     "execution_count": 66,
     "metadata": {},
     "output_type": "execute_result"
    }
   ],
   "source": [
    "df_vader"
   ]
  },
  {
   "cell_type": "code",
   "execution_count": 67,
   "id": "cb34b6d7",
   "metadata": {
    "scrolled": false
   },
   "outputs": [],
   "source": [
    "df_vader=df_vader[['neg','neu','pos']]"
   ]
  },
  {
   "cell_type": "code",
   "execution_count": 68,
   "id": "9eaf8c55",
   "metadata": {
    "scrolled": true
   },
   "outputs": [
    {
     "data": {
      "text/html": [
       "<div>\n",
       "<style scoped>\n",
       "    .dataframe tbody tr th:only-of-type {\n",
       "        vertical-align: middle;\n",
       "    }\n",
       "\n",
       "    .dataframe tbody tr th {\n",
       "        vertical-align: top;\n",
       "    }\n",
       "\n",
       "    .dataframe thead th {\n",
       "        text-align: right;\n",
       "    }\n",
       "</style>\n",
       "<table border=\"1\" class=\"dataframe\">\n",
       "  <thead>\n",
       "    <tr style=\"text-align: right;\">\n",
       "      <th></th>\n",
       "      <th>neg</th>\n",
       "      <th>neu</th>\n",
       "      <th>pos</th>\n",
       "    </tr>\n",
       "  </thead>\n",
       "  <tbody>\n",
       "    <tr>\n",
       "      <th>1</th>\n",
       "      <td>0.000</td>\n",
       "      <td>0.238</td>\n",
       "      <td>0.762</td>\n",
       "    </tr>\n",
       "    <tr>\n",
       "      <th>2</th>\n",
       "      <td>0.117</td>\n",
       "      <td>0.857</td>\n",
       "      <td>0.026</td>\n",
       "    </tr>\n",
       "    <tr>\n",
       "      <th>3</th>\n",
       "      <td>0.000</td>\n",
       "      <td>0.000</td>\n",
       "      <td>1.000</td>\n",
       "    </tr>\n",
       "    <tr>\n",
       "      <th>4</th>\n",
       "      <td>0.000</td>\n",
       "      <td>0.000</td>\n",
       "      <td>1.000</td>\n",
       "    </tr>\n",
       "    <tr>\n",
       "      <th>5</th>\n",
       "      <td>0.140</td>\n",
       "      <td>0.860</td>\n",
       "      <td>0.000</td>\n",
       "    </tr>\n",
       "    <tr>\n",
       "      <th>...</th>\n",
       "      <td>...</td>\n",
       "      <td>...</td>\n",
       "      <td>...</td>\n",
       "    </tr>\n",
       "    <tr>\n",
       "      <th>49996</th>\n",
       "      <td>0.000</td>\n",
       "      <td>0.000</td>\n",
       "      <td>1.000</td>\n",
       "    </tr>\n",
       "    <tr>\n",
       "      <th>49997</th>\n",
       "      <td>0.000</td>\n",
       "      <td>1.000</td>\n",
       "      <td>0.000</td>\n",
       "    </tr>\n",
       "    <tr>\n",
       "      <th>49998</th>\n",
       "      <td>0.045</td>\n",
       "      <td>0.558</td>\n",
       "      <td>0.397</td>\n",
       "    </tr>\n",
       "    <tr>\n",
       "      <th>49999</th>\n",
       "      <td>0.000</td>\n",
       "      <td>0.543</td>\n",
       "      <td>0.457</td>\n",
       "    </tr>\n",
       "    <tr>\n",
       "      <th>50000</th>\n",
       "      <td>0.000</td>\n",
       "      <td>0.351</td>\n",
       "      <td>0.649</td>\n",
       "    </tr>\n",
       "  </tbody>\n",
       "</table>\n",
       "<p>50000 rows × 3 columns</p>\n",
       "</div>"
      ],
      "text/plain": [
       "         neg    neu    pos\n",
       "1      0.000  0.238  0.762\n",
       "2      0.117  0.857  0.026\n",
       "3      0.000  0.000  1.000\n",
       "4      0.000  0.000  1.000\n",
       "5      0.140  0.860  0.000\n",
       "...      ...    ...    ...\n",
       "49996  0.000  0.000  1.000\n",
       "49997  0.000  1.000  0.000\n",
       "49998  0.045  0.558  0.397\n",
       "49999  0.000  0.543  0.457\n",
       "50000  0.000  0.351  0.649\n",
       "\n",
       "[50000 rows x 3 columns]"
      ]
     },
     "execution_count": 68,
     "metadata": {},
     "output_type": "execute_result"
    }
   ],
   "source": [
    "df_vader"
   ]
  },
  {
   "cell_type": "code",
   "execution_count": 69,
   "id": "d5833161",
   "metadata": {
    "scrolled": true
   },
   "outputs": [],
   "source": [
    "df_vader[['neg','neu','pos']] = df_vader[['neg','neu','pos']].round(decimals = 1) #Rounding off to the single df2"
   ]
  },
  {
   "cell_type": "code",
   "execution_count": 70,
   "id": "64b7ef86",
   "metadata": {
    "scrolled": true
   },
   "outputs": [
    {
     "data": {
      "text/html": [
       "<div>\n",
       "<style scoped>\n",
       "    .dataframe tbody tr th:only-of-type {\n",
       "        vertical-align: middle;\n",
       "    }\n",
       "\n",
       "    .dataframe tbody tr th {\n",
       "        vertical-align: top;\n",
       "    }\n",
       "\n",
       "    .dataframe thead th {\n",
       "        text-align: right;\n",
       "    }\n",
       "</style>\n",
       "<table border=\"1\" class=\"dataframe\">\n",
       "  <thead>\n",
       "    <tr style=\"text-align: right;\">\n",
       "      <th></th>\n",
       "      <th>neg</th>\n",
       "      <th>neu</th>\n",
       "      <th>pos</th>\n",
       "    </tr>\n",
       "  </thead>\n",
       "  <tbody>\n",
       "    <tr>\n",
       "      <th>1</th>\n",
       "      <td>0.0</td>\n",
       "      <td>0.2</td>\n",
       "      <td>0.8</td>\n",
       "    </tr>\n",
       "    <tr>\n",
       "      <th>2</th>\n",
       "      <td>0.1</td>\n",
       "      <td>0.9</td>\n",
       "      <td>0.0</td>\n",
       "    </tr>\n",
       "    <tr>\n",
       "      <th>3</th>\n",
       "      <td>0.0</td>\n",
       "      <td>0.0</td>\n",
       "      <td>1.0</td>\n",
       "    </tr>\n",
       "    <tr>\n",
       "      <th>4</th>\n",
       "      <td>0.0</td>\n",
       "      <td>0.0</td>\n",
       "      <td>1.0</td>\n",
       "    </tr>\n",
       "    <tr>\n",
       "      <th>5</th>\n",
       "      <td>0.1</td>\n",
       "      <td>0.9</td>\n",
       "      <td>0.0</td>\n",
       "    </tr>\n",
       "    <tr>\n",
       "      <th>...</th>\n",
       "      <td>...</td>\n",
       "      <td>...</td>\n",
       "      <td>...</td>\n",
       "    </tr>\n",
       "    <tr>\n",
       "      <th>49996</th>\n",
       "      <td>0.0</td>\n",
       "      <td>0.0</td>\n",
       "      <td>1.0</td>\n",
       "    </tr>\n",
       "    <tr>\n",
       "      <th>49997</th>\n",
       "      <td>0.0</td>\n",
       "      <td>1.0</td>\n",
       "      <td>0.0</td>\n",
       "    </tr>\n",
       "    <tr>\n",
       "      <th>49998</th>\n",
       "      <td>0.0</td>\n",
       "      <td>0.6</td>\n",
       "      <td>0.4</td>\n",
       "    </tr>\n",
       "    <tr>\n",
       "      <th>49999</th>\n",
       "      <td>0.0</td>\n",
       "      <td>0.5</td>\n",
       "      <td>0.5</td>\n",
       "    </tr>\n",
       "    <tr>\n",
       "      <th>50000</th>\n",
       "      <td>0.0</td>\n",
       "      <td>0.4</td>\n",
       "      <td>0.6</td>\n",
       "    </tr>\n",
       "  </tbody>\n",
       "</table>\n",
       "<p>50000 rows × 3 columns</p>\n",
       "</div>"
      ],
      "text/plain": [
       "       neg  neu  pos\n",
       "1      0.0  0.2  0.8\n",
       "2      0.1  0.9  0.0\n",
       "3      0.0  0.0  1.0\n",
       "4      0.0  0.0  1.0\n",
       "5      0.1  0.9  0.0\n",
       "...    ...  ...  ...\n",
       "49996  0.0  0.0  1.0\n",
       "49997  0.0  1.0  0.0\n",
       "49998  0.0  0.6  0.4\n",
       "49999  0.0  0.5  0.5\n",
       "50000  0.0  0.4  0.6\n",
       "\n",
       "[50000 rows x 3 columns]"
      ]
     },
     "execution_count": 70,
     "metadata": {},
     "output_type": "execute_result"
    }
   ],
   "source": [
    "df_vader"
   ]
  },
  {
   "cell_type": "code",
   "execution_count": 71,
   "id": "5366c63c",
   "metadata": {
    "scrolled": false
   },
   "outputs": [
    {
     "data": {
      "text/html": [
       "<div>\n",
       "<style scoped>\n",
       "    .dataframe tbody tr th:only-of-type {\n",
       "        vertical-align: middle;\n",
       "    }\n",
       "\n",
       "    .dataframe tbody tr th {\n",
       "        vertical-align: top;\n",
       "    }\n",
       "\n",
       "    .dataframe thead th {\n",
       "        text-align: right;\n",
       "    }\n",
       "</style>\n",
       "<table border=\"1\" class=\"dataframe\">\n",
       "  <thead>\n",
       "    <tr style=\"text-align: right;\">\n",
       "      <th></th>\n",
       "      <th>neg</th>\n",
       "      <th>neu</th>\n",
       "      <th>pos</th>\n",
       "      <th>Vader_sentiment_Score</th>\n",
       "    </tr>\n",
       "  </thead>\n",
       "  <tbody>\n",
       "    <tr>\n",
       "      <th>1</th>\n",
       "      <td>0.0</td>\n",
       "      <td>0.2</td>\n",
       "      <td>0.8</td>\n",
       "      <td>pos</td>\n",
       "    </tr>\n",
       "    <tr>\n",
       "      <th>2</th>\n",
       "      <td>0.1</td>\n",
       "      <td>0.9</td>\n",
       "      <td>0.0</td>\n",
       "      <td>neu</td>\n",
       "    </tr>\n",
       "    <tr>\n",
       "      <th>3</th>\n",
       "      <td>0.0</td>\n",
       "      <td>0.0</td>\n",
       "      <td>1.0</td>\n",
       "      <td>pos</td>\n",
       "    </tr>\n",
       "    <tr>\n",
       "      <th>4</th>\n",
       "      <td>0.0</td>\n",
       "      <td>0.0</td>\n",
       "      <td>1.0</td>\n",
       "      <td>pos</td>\n",
       "    </tr>\n",
       "    <tr>\n",
       "      <th>5</th>\n",
       "      <td>0.1</td>\n",
       "      <td>0.9</td>\n",
       "      <td>0.0</td>\n",
       "      <td>neu</td>\n",
       "    </tr>\n",
       "    <tr>\n",
       "      <th>...</th>\n",
       "      <td>...</td>\n",
       "      <td>...</td>\n",
       "      <td>...</td>\n",
       "      <td>...</td>\n",
       "    </tr>\n",
       "    <tr>\n",
       "      <th>49996</th>\n",
       "      <td>0.0</td>\n",
       "      <td>0.0</td>\n",
       "      <td>1.0</td>\n",
       "      <td>pos</td>\n",
       "    </tr>\n",
       "    <tr>\n",
       "      <th>49997</th>\n",
       "      <td>0.0</td>\n",
       "      <td>1.0</td>\n",
       "      <td>0.0</td>\n",
       "      <td>neu</td>\n",
       "    </tr>\n",
       "    <tr>\n",
       "      <th>49998</th>\n",
       "      <td>0.0</td>\n",
       "      <td>0.6</td>\n",
       "      <td>0.4</td>\n",
       "      <td>neu</td>\n",
       "    </tr>\n",
       "    <tr>\n",
       "      <th>49999</th>\n",
       "      <td>0.0</td>\n",
       "      <td>0.5</td>\n",
       "      <td>0.5</td>\n",
       "      <td>neu</td>\n",
       "    </tr>\n",
       "    <tr>\n",
       "      <th>50000</th>\n",
       "      <td>0.0</td>\n",
       "      <td>0.4</td>\n",
       "      <td>0.6</td>\n",
       "      <td>pos</td>\n",
       "    </tr>\n",
       "  </tbody>\n",
       "</table>\n",
       "<p>50000 rows × 4 columns</p>\n",
       "</div>"
      ],
      "text/plain": [
       "       neg  neu  pos Vader_sentiment_Score\n",
       "1      0.0  0.2  0.8                   pos\n",
       "2      0.1  0.9  0.0                   neu\n",
       "3      0.0  0.0  1.0                   pos\n",
       "4      0.0  0.0  1.0                   pos\n",
       "5      0.1  0.9  0.0                   neu\n",
       "...    ...  ...  ...                   ...\n",
       "49996  0.0  0.0  1.0                   pos\n",
       "49997  0.0  1.0  0.0                   neu\n",
       "49998  0.0  0.6  0.4                   neu\n",
       "49999  0.0  0.5  0.5                   neu\n",
       "50000  0.0  0.4  0.6                   pos\n",
       "\n",
       "[50000 rows x 4 columns]"
      ]
     },
     "execution_count": 71,
     "metadata": {},
     "output_type": "execute_result"
    }
   ],
   "source": [
    "df_vader['Vader_sentiment_Score']=df_vader.idxmax(1)\n",
    "df_vader"
   ]
  },
  {
   "cell_type": "code",
   "execution_count": 72,
   "id": "c09518b6",
   "metadata": {},
   "outputs": [],
   "source": [
    "df_vader['ID'] = range(1, len(df_vader) + 1)"
   ]
  },
  {
   "cell_type": "code",
   "execution_count": 73,
   "id": "cb6cb65f",
   "metadata": {},
   "outputs": [],
   "source": [
    "reviews_df['ID'] = range(1, len(reviews_df) + 1)"
   ]
  },
  {
   "cell_type": "code",
   "execution_count": 74,
   "id": "bbfbd4dd",
   "metadata": {},
   "outputs": [],
   "source": [
    "reviews_df=df_vader.merge(reviews_df,how='right')         #merging with the existing  meta data"
   ]
  },
  {
   "cell_type": "code",
   "execution_count": 75,
   "id": "5078cc83",
   "metadata": {},
   "outputs": [],
   "source": [
    "reviews_df=reviews_df.drop(['neg','neu','pos'],axis=1)"
   ]
  },
  {
   "cell_type": "code",
   "execution_count": 76,
   "id": "1ac4c973",
   "metadata": {
    "scrolled": false
   },
   "outputs": [
    {
     "data": {
      "text/plain": [
       "Vader_sentiment_Score    22288\n",
       "ID                           0\n",
       "content                      0\n",
       "score                        0\n",
       "dtype: int64"
      ]
     },
     "execution_count": 76,
     "metadata": {},
     "output_type": "execute_result"
    }
   ],
   "source": [
    "reviews_df.isnull().sum()        "
   ]
  },
  {
   "cell_type": "code",
   "execution_count": 77,
   "id": "36799047",
   "metadata": {
    "scrolled": true
   },
   "outputs": [
    {
     "data": {
      "text/html": [
       "<div>\n",
       "<style scoped>\n",
       "    .dataframe tbody tr th:only-of-type {\n",
       "        vertical-align: middle;\n",
       "    }\n",
       "\n",
       "    .dataframe tbody tr th {\n",
       "        vertical-align: top;\n",
       "    }\n",
       "\n",
       "    .dataframe thead th {\n",
       "        text-align: right;\n",
       "    }\n",
       "</style>\n",
       "<table border=\"1\" class=\"dataframe\">\n",
       "  <thead>\n",
       "    <tr style=\"text-align: right;\">\n",
       "      <th></th>\n",
       "      <th>Vader_sentiment_Score</th>\n",
       "      <th>ID</th>\n",
       "      <th>content</th>\n",
       "      <th>score</th>\n",
       "    </tr>\n",
       "  </thead>\n",
       "  <tbody>\n",
       "    <tr>\n",
       "      <th>0</th>\n",
       "      <td>pos</td>\n",
       "      <td>1</td>\n",
       "      <td>Very Good</td>\n",
       "      <td>5</td>\n",
       "    </tr>\n",
       "    <tr>\n",
       "      <th>1</th>\n",
       "      <td>neu</td>\n",
       "      <td>2</td>\n",
       "      <td>Absolutely rubbish &amp; fraudulent. I wanted to b...</td>\n",
       "      <td>1</td>\n",
       "    </tr>\n",
       "    <tr>\n",
       "      <th>2</th>\n",
       "      <td>pos</td>\n",
       "      <td>3</td>\n",
       "      <td>Good</td>\n",
       "      <td>5</td>\n",
       "    </tr>\n",
       "    <tr>\n",
       "      <th>3</th>\n",
       "      <td>pos</td>\n",
       "      <td>4</td>\n",
       "      <td>Best</td>\n",
       "      <td>5</td>\n",
       "    </tr>\n",
       "    <tr>\n",
       "      <th>4</th>\n",
       "      <td>neu</td>\n",
       "      <td>5</td>\n",
       "      <td>After update app become slow, not evn allow to...</td>\n",
       "      <td>1</td>\n",
       "    </tr>\n",
       "    <tr>\n",
       "      <th>...</th>\n",
       "      <td>...</td>\n",
       "      <td>...</td>\n",
       "      <td>...</td>\n",
       "      <td>...</td>\n",
       "    </tr>\n",
       "    <tr>\n",
       "      <th>72283</th>\n",
       "      <td>NaN</td>\n",
       "      <td>72284</td>\n",
       "      <td>Exactly what I was hoping for. Love the offlin...</td>\n",
       "      <td>4</td>\n",
       "    </tr>\n",
       "    <tr>\n",
       "      <th>72284</th>\n",
       "      <td>NaN</td>\n",
       "      <td>72285</td>\n",
       "      <td>Thanks for this great application Udemy</td>\n",
       "      <td>5</td>\n",
       "    </tr>\n",
       "    <tr>\n",
       "      <th>72285</th>\n",
       "      <td>NaN</td>\n",
       "      <td>72286</td>\n",
       "      <td>I have been using the iOS version for quite so...</td>\n",
       "      <td>5</td>\n",
       "    </tr>\n",
       "    <tr>\n",
       "      <th>72286</th>\n",
       "      <td>NaN</td>\n",
       "      <td>72287</td>\n",
       "      <td>Great application!</td>\n",
       "      <td>5</td>\n",
       "    </tr>\n",
       "    <tr>\n",
       "      <th>72287</th>\n",
       "      <td>NaN</td>\n",
       "      <td>72288</td>\n",
       "      <td>Much awaited for Android devices!! Thanks Udemy</td>\n",
       "      <td>5</td>\n",
       "    </tr>\n",
       "  </tbody>\n",
       "</table>\n",
       "<p>72288 rows × 4 columns</p>\n",
       "</div>"
      ],
      "text/plain": [
       "      Vader_sentiment_Score     ID  \\\n",
       "0                       pos      1   \n",
       "1                       neu      2   \n",
       "2                       pos      3   \n",
       "3                       pos      4   \n",
       "4                       neu      5   \n",
       "...                     ...    ...   \n",
       "72283                   NaN  72284   \n",
       "72284                   NaN  72285   \n",
       "72285                   NaN  72286   \n",
       "72286                   NaN  72287   \n",
       "72287                   NaN  72288   \n",
       "\n",
       "                                                 content  score  \n",
       "0                                              Very Good      5  \n",
       "1      Absolutely rubbish & fraudulent. I wanted to b...      1  \n",
       "2                                                   Good      5  \n",
       "3                                                   Best      5  \n",
       "4      After update app become slow, not evn allow to...      1  \n",
       "...                                                  ...    ...  \n",
       "72283  Exactly what I was hoping for. Love the offlin...      4  \n",
       "72284            Thanks for this great application Udemy      5  \n",
       "72285  I have been using the iOS version for quite so...      5  \n",
       "72286                                 Great application!      5  \n",
       "72287    Much awaited for Android devices!! Thanks Udemy      5  \n",
       "\n",
       "[72288 rows x 4 columns]"
      ]
     },
     "execution_count": 77,
     "metadata": {},
     "output_type": "execute_result"
    }
   ],
   "source": [
    "reviews_df"
   ]
  },
  {
   "cell_type": "markdown",
   "id": "c1559ad1",
   "metadata": {},
   "source": [
    "#### <span style='color:purple'>A word cloud, or tag cloud, is a textual data visualization which allows anyone to see in a single glance the words which have the highest frequency within a given body of text </span>"
   ]
  },
  {
   "cell_type": "code",
   "execution_count": 78,
   "id": "3b38e460",
   "metadata": {},
   "outputs": [
    {
     "name": "stdout",
     "output_type": "stream",
     "text": [
      "wordcloud imported sucessfully\n"
     ]
    }
   ],
   "source": [
    "from wordcloud import WordCloud\n",
    "WordCloud\n",
    "print(\"wordcloud imported sucessfully\")"
   ]
  },
  {
   "cell_type": "code",
   "execution_count": 79,
   "id": "778bd687",
   "metadata": {},
   "outputs": [],
   "source": [
    "from nltk.corpus import stopwords "
   ]
  },
  {
   "cell_type": "code",
   "execution_count": 80,
   "id": "781d3b0a",
   "metadata": {
    "scrolled": false
   },
   "outputs": [
    {
     "data": {
      "text/plain": [
       "<matplotlib.image.AxesImage at 0x28eda9e7c40>"
      ]
     },
     "execution_count": 80,
     "metadata": {},
     "output_type": "execute_result"
    },
    {
     "data": {
      "image/png": "[encoded data removed]",
      "text/plain": [
       "<Figure size 720x720 with 1 Axes>"
      ]
     },
     "metadata": {},
     "output_type": "display_data"
    }
   ],
   "source": [
    "cloud=WordCloud(max_words=50,stopwords=stopwords.words('english')).generate(str(reviews_df['content']))\n",
    "plt.figure(figsize=(10,10))\n",
    "plt.axis('off')             #To remove grid lines\n",
    "plt.imshow(cloud)"
   ]
  },
  {
   "cell_type": "markdown",
   "id": "1c491ae7",
   "metadata": {},
   "source": [
    "#  <div class=\"alert alert-success\">Sentiment analysis using Textblob pretrained model</div>"
   ]
  },
  {
   "cell_type": "markdown",
   "id": "db7d9a72",
   "metadata": {},
   "source": [
    "#### <span style='color:purple'>TextBlob is a python library for processing text-based information. It gives a basic API to plunging into normal characteristic language preparing (NLP) tasks. Such as grammatical feature labelling, noun phrase extraction, sentiment analysis, classification, translation, and many more. </span>"
   ]
  },
  {
   "cell_type": "code",
   "execution_count": 81,
   "id": "7a0c9810",
   "metadata": {},
   "outputs": [
    {
     "name": "stdout",
     "output_type": "stream",
     "text": [
      "TextBlob imported sucessfully\n"
     ]
    }
   ],
   "source": [
    "from textblob import TextBlob\n",
    "from nltk.corpus import stopwords\n",
    "print(\"TextBlob imported sucessfully\")"
   ]
  },
  {
   "cell_type": "code",
   "execution_count": 82,
   "id": "0540177c",
   "metadata": {
    "scrolled": true
   },
   "outputs": [
    {
     "name": "stdout",
     "output_type": "stream",
     "text": [
      "Sentiment(polarity=1.0, subjectivity=1.0)\n"
     ]
    }
   ],
   "source": [
    "# Before moving to main dataset few example for + review\n",
    "text='food is excellent'\n",
    "blob=TextBlob(text)\n",
    "print(blob.sentiment)"
   ]
  },
  {
   "cell_type": "code",
   "execution_count": 83,
   "id": "8c4349a5",
   "metadata": {},
   "outputs": [
    {
     "name": "stdout",
     "output_type": "stream",
     "text": [
      "Sentiment(polarity=-1.0, subjectivity=1.0)\n"
     ]
    }
   ],
   "source": [
    "# Before moving to main dataset few example for + review\n",
    "text1='food is horrible'\n",
    "blob=TextBlob(text1)\n",
    "print(blob.sentiment)"
   ]
  },
  {
   "cell_type": "markdown",
   "id": "ebdbd2c5",
   "metadata": {},
   "source": [
    "  <span style='color:Purple'>Polarity tells us how postive or negative the comment is \n",
    "value of polarity range is -1 to +1 \n",
    "Postive value indicates sentement is not good\n",
    "Negative value indicates sentement is  good  \n",
    "    value of subjectivity relates  to whether it is   a public opinion or its a factual information(range is 0 to 1)</span>"
   ]
  },
  {
   "cell_type": "code",
   "execution_count": 84,
   "id": "f3bc893c",
   "metadata": {
    "scrolled": true
   },
   "outputs": [],
   "source": [
    "df_textblob=reviews_df.head(50000)"
   ]
  },
  {
   "cell_type": "code",
   "execution_count": 85,
   "id": "76091198",
   "metadata": {},
   "outputs": [
    {
     "data": {
      "text/plain": [
       "(50000, 4)"
      ]
     },
     "execution_count": 85,
     "metadata": {},
     "output_type": "execute_result"
    }
   ],
   "source": [
    "df_textblob.shape"
   ]
  },
  {
   "cell_type": "code",
   "execution_count": 86,
   "id": "9e13b62e",
   "metadata": {},
   "outputs": [
    {
     "data": {
      "text/plain": [
       "pandas.core.frame.DataFrame"
      ]
     },
     "execution_count": 86,
     "metadata": {},
     "output_type": "execute_result"
    }
   ],
   "source": [
    "type(df_textblob)"
   ]
  },
  {
   "cell_type": "code",
   "execution_count": 87,
   "id": "17039f88",
   "metadata": {},
   "outputs": [
    {
     "data": {
      "text/plain": [
       "Index(['Vader_sentiment_Score', 'ID', 'content', 'score'], dtype='object')"
      ]
     },
     "execution_count": 87,
     "metadata": {},
     "output_type": "execute_result"
    }
   ],
   "source": [
    "df_textblob.columns"
   ]
  },
  {
   "cell_type": "code",
   "execution_count": 88,
   "id": "b9f5ab0a",
   "metadata": {},
   "outputs": [],
   "source": [
    "new_cols=['ID','content', 'score','Vader_sentiment_Score']            #Rearranging the column \n",
    "df_textblob=df_textblob.reindex(columns=new_cols)"
   ]
  },
  {
   "cell_type": "code",
   "execution_count": 89,
   "id": "9b422316",
   "metadata": {},
   "outputs": [
    {
     "data": {
      "text/html": [
       "<div>\n",
       "<style scoped>\n",
       "    .dataframe tbody tr th:only-of-type {\n",
       "        vertical-align: middle;\n",
       "    }\n",
       "\n",
       "    .dataframe tbody tr th {\n",
       "        vertical-align: top;\n",
       "    }\n",
       "\n",
       "    .dataframe thead th {\n",
       "        text-align: right;\n",
       "    }\n",
       "</style>\n",
       "<table border=\"1\" class=\"dataframe\">\n",
       "  <thead>\n",
       "    <tr style=\"text-align: right;\">\n",
       "      <th></th>\n",
       "      <th>ID</th>\n",
       "      <th>content</th>\n",
       "      <th>score</th>\n",
       "      <th>Vader_sentiment_Score</th>\n",
       "    </tr>\n",
       "  </thead>\n",
       "  <tbody>\n",
       "    <tr>\n",
       "      <th>0</th>\n",
       "      <td>1</td>\n",
       "      <td>Very Good</td>\n",
       "      <td>5</td>\n",
       "      <td>pos</td>\n",
       "    </tr>\n",
       "    <tr>\n",
       "      <th>1</th>\n",
       "      <td>2</td>\n",
       "      <td>Absolutely rubbish &amp; fraudulent. I wanted to b...</td>\n",
       "      <td>1</td>\n",
       "      <td>neu</td>\n",
       "    </tr>\n",
       "    <tr>\n",
       "      <th>2</th>\n",
       "      <td>3</td>\n",
       "      <td>Good</td>\n",
       "      <td>5</td>\n",
       "      <td>pos</td>\n",
       "    </tr>\n",
       "    <tr>\n",
       "      <th>3</th>\n",
       "      <td>4</td>\n",
       "      <td>Best</td>\n",
       "      <td>5</td>\n",
       "      <td>pos</td>\n",
       "    </tr>\n",
       "    <tr>\n",
       "      <th>4</th>\n",
       "      <td>5</td>\n",
       "      <td>After update app become slow, not evn allow to...</td>\n",
       "      <td>1</td>\n",
       "      <td>neu</td>\n",
       "    </tr>\n",
       "    <tr>\n",
       "      <th>...</th>\n",
       "      <td>...</td>\n",
       "      <td>...</td>\n",
       "      <td>...</td>\n",
       "      <td>...</td>\n",
       "    </tr>\n",
       "    <tr>\n",
       "      <th>49995</th>\n",
       "      <td>49996</td>\n",
       "      <td>Excellent</td>\n",
       "      <td>5</td>\n",
       "      <td>pos</td>\n",
       "    </tr>\n",
       "    <tr>\n",
       "      <th>49996</th>\n",
       "      <td>49997</td>\n",
       "      <td>High quality Courses</td>\n",
       "      <td>5</td>\n",
       "      <td>neu</td>\n",
       "    </tr>\n",
       "    <tr>\n",
       "      <th>49997</th>\n",
       "      <td>49998</td>\n",
       "      <td>Informative, fun and great content. I feel a s...</td>\n",
       "      <td>5</td>\n",
       "      <td>neu</td>\n",
       "    </tr>\n",
       "    <tr>\n",
       "      <th>49998</th>\n",
       "      <td>49999</td>\n",
       "      <td>Best way of learning new skills.</td>\n",
       "      <td>5</td>\n",
       "      <td>neu</td>\n",
       "    </tr>\n",
       "    <tr>\n",
       "      <th>49999</th>\n",
       "      <td>50000</td>\n",
       "      <td>I love it, very easy to use</td>\n",
       "      <td>5</td>\n",
       "      <td>pos</td>\n",
       "    </tr>\n",
       "  </tbody>\n",
       "</table>\n",
       "<p>50000 rows × 4 columns</p>\n",
       "</div>"
      ],
      "text/plain": [
       "          ID                                            content  score  \\\n",
       "0          1                                          Very Good      5   \n",
       "1          2  Absolutely rubbish & fraudulent. I wanted to b...      1   \n",
       "2          3                                               Good      5   \n",
       "3          4                                               Best      5   \n",
       "4          5  After update app become slow, not evn allow to...      1   \n",
       "...      ...                                                ...    ...   \n",
       "49995  49996                                          Excellent      5   \n",
       "49996  49997                               High quality Courses      5   \n",
       "49997  49998  Informative, fun and great content. I feel a s...      5   \n",
       "49998  49999                   Best way of learning new skills.      5   \n",
       "49999  50000                        I love it, very easy to use      5   \n",
       "\n",
       "      Vader_sentiment_Score  \n",
       "0                       pos  \n",
       "1                       neu  \n",
       "2                       pos  \n",
       "3                       pos  \n",
       "4                       neu  \n",
       "...                     ...  \n",
       "49995                   pos  \n",
       "49996                   neu  \n",
       "49997                   neu  \n",
       "49998                   neu  \n",
       "49999                   pos  \n",
       "\n",
       "[50000 rows x 4 columns]"
      ]
     },
     "execution_count": 89,
     "metadata": {},
     "output_type": "execute_result"
    }
   ],
   "source": [
    "df_textblob"
   ]
  },
  {
   "cell_type": "code",
   "execution_count": 90,
   "id": "6a148479",
   "metadata": {},
   "outputs": [],
   "source": [
    "polarity_score=[]\n",
    "for i  in range (0,df_textblob.shape[0]):\n",
    "    score=TextBlob(df_textblob.iloc[i][1])\n",
    "    score1=score.sentiment[0]\n",
    "    polarity_score.append(score1)"
   ]
  },
  {
   "cell_type": "code",
   "execution_count": 91,
   "id": "227b6656",
   "metadata": {
    "scrolled": false
   },
   "outputs": [],
   "source": [
    "df_textblob=pd.concat([df_textblob,pd.Series(polarity_score)],axis=1)"
   ]
  },
  {
   "cell_type": "code",
   "execution_count": 92,
   "id": "c0b9ab03",
   "metadata": {
    "scrolled": false
   },
   "outputs": [
    {
     "data": {
      "text/html": [
       "<div>\n",
       "<style scoped>\n",
       "    .dataframe tbody tr th:only-of-type {\n",
       "        vertical-align: middle;\n",
       "    }\n",
       "\n",
       "    .dataframe tbody tr th {\n",
       "        vertical-align: top;\n",
       "    }\n",
       "\n",
       "    .dataframe thead th {\n",
       "        text-align: right;\n",
       "    }\n",
       "</style>\n",
       "<table border=\"1\" class=\"dataframe\">\n",
       "  <thead>\n",
       "    <tr style=\"text-align: right;\">\n",
       "      <th></th>\n",
       "      <th>ID</th>\n",
       "      <th>content</th>\n",
       "      <th>score</th>\n",
       "      <th>Vader_sentiment_Score</th>\n",
       "      <th>0</th>\n",
       "    </tr>\n",
       "  </thead>\n",
       "  <tbody>\n",
       "    <tr>\n",
       "      <th>0</th>\n",
       "      <td>1</td>\n",
       "      <td>Very Good</td>\n",
       "      <td>5</td>\n",
       "      <td>pos</td>\n",
       "      <td>0.910000</td>\n",
       "    </tr>\n",
       "    <tr>\n",
       "      <th>1</th>\n",
       "      <td>2</td>\n",
       "      <td>Absolutely rubbish &amp; fraudulent. I wanted to b...</td>\n",
       "      <td>1</td>\n",
       "      <td>neu</td>\n",
       "      <td>0.165000</td>\n",
       "    </tr>\n",
       "    <tr>\n",
       "      <th>2</th>\n",
       "      <td>3</td>\n",
       "      <td>Good</td>\n",
       "      <td>5</td>\n",
       "      <td>pos</td>\n",
       "      <td>0.700000</td>\n",
       "    </tr>\n",
       "    <tr>\n",
       "      <th>3</th>\n",
       "      <td>4</td>\n",
       "      <td>Best</td>\n",
       "      <td>5</td>\n",
       "      <td>pos</td>\n",
       "      <td>1.000000</td>\n",
       "    </tr>\n",
       "    <tr>\n",
       "      <th>4</th>\n",
       "      <td>5</td>\n",
       "      <td>After update app become slow, not evn allow to...</td>\n",
       "      <td>1</td>\n",
       "      <td>neu</td>\n",
       "      <td>-0.175000</td>\n",
       "    </tr>\n",
       "    <tr>\n",
       "      <th>...</th>\n",
       "      <td>...</td>\n",
       "      <td>...</td>\n",
       "      <td>...</td>\n",
       "      <td>...</td>\n",
       "      <td>...</td>\n",
       "    </tr>\n",
       "    <tr>\n",
       "      <th>49995</th>\n",
       "      <td>49996</td>\n",
       "      <td>Excellent</td>\n",
       "      <td>5</td>\n",
       "      <td>pos</td>\n",
       "      <td>1.000000</td>\n",
       "    </tr>\n",
       "    <tr>\n",
       "      <th>49996</th>\n",
       "      <td>49997</td>\n",
       "      <td>High quality Courses</td>\n",
       "      <td>5</td>\n",
       "      <td>neu</td>\n",
       "      <td>0.160000</td>\n",
       "    </tr>\n",
       "    <tr>\n",
       "      <th>49997</th>\n",
       "      <td>49998</td>\n",
       "      <td>Informative, fun and great content. I feel a s...</td>\n",
       "      <td>5</td>\n",
       "      <td>neu</td>\n",
       "      <td>0.350000</td>\n",
       "    </tr>\n",
       "    <tr>\n",
       "      <th>49998</th>\n",
       "      <td>49999</td>\n",
       "      <td>Best way of learning new skills.</td>\n",
       "      <td>5</td>\n",
       "      <td>neu</td>\n",
       "      <td>0.568182</td>\n",
       "    </tr>\n",
       "    <tr>\n",
       "      <th>49999</th>\n",
       "      <td>50000</td>\n",
       "      <td>I love it, very easy to use</td>\n",
       "      <td>5</td>\n",
       "      <td>pos</td>\n",
       "      <td>0.531667</td>\n",
       "    </tr>\n",
       "  </tbody>\n",
       "</table>\n",
       "<p>50000 rows × 5 columns</p>\n",
       "</div>"
      ],
      "text/plain": [
       "          ID                                            content  score  \\\n",
       "0          1                                          Very Good      5   \n",
       "1          2  Absolutely rubbish & fraudulent. I wanted to b...      1   \n",
       "2          3                                               Good      5   \n",
       "3          4                                               Best      5   \n",
       "4          5  After update app become slow, not evn allow to...      1   \n",
       "...      ...                                                ...    ...   \n",
       "49995  49996                                          Excellent      5   \n",
       "49996  49997                               High quality Courses      5   \n",
       "49997  49998  Informative, fun and great content. I feel a s...      5   \n",
       "49998  49999                   Best way of learning new skills.      5   \n",
       "49999  50000                        I love it, very easy to use      5   \n",
       "\n",
       "      Vader_sentiment_Score         0  \n",
       "0                       pos  0.910000  \n",
       "1                       neu  0.165000  \n",
       "2                       pos  0.700000  \n",
       "3                       pos  1.000000  \n",
       "4                       neu -0.175000  \n",
       "...                     ...       ...  \n",
       "49995                   pos  1.000000  \n",
       "49996                   neu  0.160000  \n",
       "49997                   neu  0.350000  \n",
       "49998                   neu  0.568182  \n",
       "49999                   pos  0.531667  \n",
       "\n",
       "[50000 rows x 5 columns]"
      ]
     },
     "execution_count": 92,
     "metadata": {},
     "output_type": "execute_result"
    }
   ],
   "source": [
    "#TextBlob polarity_Score\n",
    "df_textblob"
   ]
  },
  {
   "cell_type": "code",
   "execution_count": 93,
   "id": "769a556d",
   "metadata": {},
   "outputs": [],
   "source": [
    "df_textblob.rename(columns={df_textblob.columns[4]  :\"TextBlob_sentiment_Score\"}, inplace = True)"
   ]
  },
  {
   "cell_type": "code",
   "execution_count": 94,
   "id": "4a44bf4c",
   "metadata": {},
   "outputs": [],
   "source": [
    "reviews_df=df_textblob"
   ]
  },
  {
   "cell_type": "code",
   "execution_count": 95,
   "id": "42b7d128",
   "metadata": {},
   "outputs": [],
   "source": [
    "reviews_df['TextBlob_sentiment_Score']= reviews_df['TextBlob_sentiment_Score'].round(decimals = 1) #Rounding off to the single df2"
   ]
  },
  {
   "cell_type": "code",
   "execution_count": 96,
   "id": "8bea3da6",
   "metadata": {
    "scrolled": true
   },
   "outputs": [
    {
     "data": {
      "text/html": [
       "<div>\n",
       "<style scoped>\n",
       "    .dataframe tbody tr th:only-of-type {\n",
       "        vertical-align: middle;\n",
       "    }\n",
       "\n",
       "    .dataframe tbody tr th {\n",
       "        vertical-align: top;\n",
       "    }\n",
       "\n",
       "    .dataframe thead th {\n",
       "        text-align: right;\n",
       "    }\n",
       "</style>\n",
       "<table border=\"1\" class=\"dataframe\">\n",
       "  <thead>\n",
       "    <tr style=\"text-align: right;\">\n",
       "      <th></th>\n",
       "      <th>ID</th>\n",
       "      <th>content</th>\n",
       "      <th>score</th>\n",
       "      <th>Vader_sentiment_Score</th>\n",
       "      <th>TextBlob_sentiment_Score</th>\n",
       "    </tr>\n",
       "  </thead>\n",
       "  <tbody>\n",
       "    <tr>\n",
       "      <th>0</th>\n",
       "      <td>1</td>\n",
       "      <td>Very Good</td>\n",
       "      <td>5</td>\n",
       "      <td>pos</td>\n",
       "      <td>0.9</td>\n",
       "    </tr>\n",
       "    <tr>\n",
       "      <th>1</th>\n",
       "      <td>2</td>\n",
       "      <td>Absolutely rubbish &amp; fraudulent. I wanted to b...</td>\n",
       "      <td>1</td>\n",
       "      <td>neu</td>\n",
       "      <td>0.2</td>\n",
       "    </tr>\n",
       "    <tr>\n",
       "      <th>2</th>\n",
       "      <td>3</td>\n",
       "      <td>Good</td>\n",
       "      <td>5</td>\n",
       "      <td>pos</td>\n",
       "      <td>0.7</td>\n",
       "    </tr>\n",
       "    <tr>\n",
       "      <th>3</th>\n",
       "      <td>4</td>\n",
       "      <td>Best</td>\n",
       "      <td>5</td>\n",
       "      <td>pos</td>\n",
       "      <td>1.0</td>\n",
       "    </tr>\n",
       "    <tr>\n",
       "      <th>4</th>\n",
       "      <td>5</td>\n",
       "      <td>After update app become slow, not evn allow to...</td>\n",
       "      <td>1</td>\n",
       "      <td>neu</td>\n",
       "      <td>-0.2</td>\n",
       "    </tr>\n",
       "  </tbody>\n",
       "</table>\n",
       "</div>"
      ],
      "text/plain": [
       "   ID                                            content  score  \\\n",
       "0   1                                          Very Good      5   \n",
       "1   2  Absolutely rubbish & fraudulent. I wanted to b...      1   \n",
       "2   3                                               Good      5   \n",
       "3   4                                               Best      5   \n",
       "4   5  After update app become slow, not evn allow to...      1   \n",
       "\n",
       "  Vader_sentiment_Score  TextBlob_sentiment_Score  \n",
       "0                   pos                       0.9  \n",
       "1                   neu                       0.2  \n",
       "2                   pos                       0.7  \n",
       "3                   pos                       1.0  \n",
       "4                   neu                      -0.2  "
      ]
     },
     "execution_count": 96,
     "metadata": {},
     "output_type": "execute_result"
    }
   ],
   "source": [
    "reviews_df.head()                  #merge with meta data"
   ]
  },
  {
   "cell_type": "code",
   "execution_count": 97,
   "id": "17446220",
   "metadata": {
    "scrolled": true
   },
   "outputs": [
    {
     "data": {
      "text/html": [
       "<div>\n",
       "<style scoped>\n",
       "    .dataframe tbody tr th:only-of-type {\n",
       "        vertical-align: middle;\n",
       "    }\n",
       "\n",
       "    .dataframe tbody tr th {\n",
       "        vertical-align: top;\n",
       "    }\n",
       "\n",
       "    .dataframe thead th {\n",
       "        text-align: right;\n",
       "    }\n",
       "</style>\n",
       "<table border=\"1\" class=\"dataframe\">\n",
       "  <thead>\n",
       "    <tr style=\"text-align: right;\">\n",
       "      <th></th>\n",
       "      <th>ID</th>\n",
       "      <th>content</th>\n",
       "      <th>score</th>\n",
       "      <th>Vader_sentiment_Score</th>\n",
       "      <th>TextBlob_sentiment_Score</th>\n",
       "    </tr>\n",
       "  </thead>\n",
       "  <tbody>\n",
       "    <tr>\n",
       "      <th>0</th>\n",
       "      <td>1</td>\n",
       "      <td>Very Good</td>\n",
       "      <td>5</td>\n",
       "      <td>pos</td>\n",
       "      <td>pos</td>\n",
       "    </tr>\n",
       "    <tr>\n",
       "      <th>1</th>\n",
       "      <td>2</td>\n",
       "      <td>Absolutely rubbish &amp; fraudulent. I wanted to b...</td>\n",
       "      <td>1</td>\n",
       "      <td>neu</td>\n",
       "      <td>neu</td>\n",
       "    </tr>\n",
       "    <tr>\n",
       "      <th>2</th>\n",
       "      <td>3</td>\n",
       "      <td>Good</td>\n",
       "      <td>5</td>\n",
       "      <td>pos</td>\n",
       "      <td>pos</td>\n",
       "    </tr>\n",
       "    <tr>\n",
       "      <th>3</th>\n",
       "      <td>4</td>\n",
       "      <td>Best</td>\n",
       "      <td>5</td>\n",
       "      <td>pos</td>\n",
       "      <td>pos</td>\n",
       "    </tr>\n",
       "    <tr>\n",
       "      <th>4</th>\n",
       "      <td>5</td>\n",
       "      <td>After update app become slow, not evn allow to...</td>\n",
       "      <td>1</td>\n",
       "      <td>neu</td>\n",
       "      <td>neu</td>\n",
       "    </tr>\n",
       "    <tr>\n",
       "      <th>...</th>\n",
       "      <td>...</td>\n",
       "      <td>...</td>\n",
       "      <td>...</td>\n",
       "      <td>...</td>\n",
       "      <td>...</td>\n",
       "    </tr>\n",
       "    <tr>\n",
       "      <th>49995</th>\n",
       "      <td>49996</td>\n",
       "      <td>Excellent</td>\n",
       "      <td>5</td>\n",
       "      <td>pos</td>\n",
       "      <td>pos</td>\n",
       "    </tr>\n",
       "    <tr>\n",
       "      <th>49996</th>\n",
       "      <td>49997</td>\n",
       "      <td>High quality Courses</td>\n",
       "      <td>5</td>\n",
       "      <td>neu</td>\n",
       "      <td>neu</td>\n",
       "    </tr>\n",
       "    <tr>\n",
       "      <th>49997</th>\n",
       "      <td>49998</td>\n",
       "      <td>Informative, fun and great content. I feel a s...</td>\n",
       "      <td>5</td>\n",
       "      <td>neu</td>\n",
       "      <td>neu</td>\n",
       "    </tr>\n",
       "    <tr>\n",
       "      <th>49998</th>\n",
       "      <td>49999</td>\n",
       "      <td>Best way of learning new skills.</td>\n",
       "      <td>5</td>\n",
       "      <td>neu</td>\n",
       "      <td>pos</td>\n",
       "    </tr>\n",
       "    <tr>\n",
       "      <th>49999</th>\n",
       "      <td>50000</td>\n",
       "      <td>I love it, very easy to use</td>\n",
       "      <td>5</td>\n",
       "      <td>pos</td>\n",
       "      <td>pos</td>\n",
       "    </tr>\n",
       "  </tbody>\n",
       "</table>\n",
       "<p>50000 rows × 5 columns</p>\n",
       "</div>"
      ],
      "text/plain": [
       "          ID                                            content  score  \\\n",
       "0          1                                          Very Good      5   \n",
       "1          2  Absolutely rubbish & fraudulent. I wanted to b...      1   \n",
       "2          3                                               Good      5   \n",
       "3          4                                               Best      5   \n",
       "4          5  After update app become slow, not evn allow to...      1   \n",
       "...      ...                                                ...    ...   \n",
       "49995  49996                                          Excellent      5   \n",
       "49996  49997                               High quality Courses      5   \n",
       "49997  49998  Informative, fun and great content. I feel a s...      5   \n",
       "49998  49999                   Best way of learning new skills.      5   \n",
       "49999  50000                        I love it, very easy to use      5   \n",
       "\n",
       "      Vader_sentiment_Score TextBlob_sentiment_Score  \n",
       "0                       pos                      pos  \n",
       "1                       neu                      neu  \n",
       "2                       pos                      pos  \n",
       "3                       pos                      pos  \n",
       "4                       neu                      neu  \n",
       "...                     ...                      ...  \n",
       "49995                   pos                      pos  \n",
       "49996                   neu                      neu  \n",
       "49997                   neu                      neu  \n",
       "49998                   neu                      pos  \n",
       "49999                   pos                      pos  \n",
       "\n",
       "[50000 rows x 5 columns]"
      ]
     },
     "execution_count": 97,
     "metadata": {},
     "output_type": "execute_result"
    }
   ],
   "source": [
    "# catagorizing textblob scores\n",
    "def TextBlob_Cat(reviews_df):\n",
    "    if reviews_df['TextBlob_sentiment_Score'] >= 0.5:  \n",
    "        return (\"pos\")\n",
    "    elif reviews_df['TextBlob_sentiment_Score'] <=-0.5:  \n",
    "        return (\"neg\")   \n",
    "    else:  \n",
    "        return (\"neu\")\n",
    "reviews_df['TextBlob_sentiment_Score'] = reviews_df.apply(TextBlob_Cat, axis=1)\n",
    "reviews_df"
   ]
  },
  {
   "cell_type": "markdown",
   "id": "f78443f0",
   "metadata": {},
   "source": [
    "# <div class=\"alert alert-success\">Sentiment analysis using Flair pretrained model</div>\n"
   ]
  },
  {
   "cell_type": "markdown",
   "id": "0eeecacf",
   "metadata": {},
   "source": [
    "### <span style='color:Purple'> The flair sentiment classifer was originally trained on IMDB movie review data and not Hacker News comments. This difference may explain some of the limitations of this classifer but it also appears that the TextBlob libary captures other dimensions of “sentiment” that the flair NLP library just doesn’t have. </span>"
   ]
  },
  {
   "cell_type": "code",
   "execution_count": 98,
   "id": "2f7961c0",
   "metadata": {
    "scrolled": true
   },
   "outputs": [],
   "source": [
    "#!pip3 install flair\n",
    "import flair\n",
    "from flair.models import TextClassifier\n",
    "from flair.data import Sentence \n",
    "import pandas as pd"
   ]
  },
  {
   "cell_type": "code",
   "execution_count": 99,
   "id": "f715189d",
   "metadata": {},
   "outputs": [],
   "source": [
    "df_flair=reviews_df.head(50000)                  "
   ]
  },
  {
   "cell_type": "code",
   "execution_count": 100,
   "id": "751c6819",
   "metadata": {},
   "outputs": [
    {
     "data": {
      "text/plain": [
       "(50000, 5)"
      ]
     },
     "execution_count": 100,
     "metadata": {},
     "output_type": "execute_result"
    }
   ],
   "source": [
    "df_flair.shape"
   ]
  },
  {
   "cell_type": "code",
   "execution_count": 101,
   "id": "ca7a7bf2",
   "metadata": {},
   "outputs": [],
   "source": [
    "df_flair=df_flair.head(500)"
   ]
  },
  {
   "cell_type": "code",
   "execution_count": 102,
   "id": "a6a80651",
   "metadata": {},
   "outputs": [
    {
     "name": "stdout",
     "output_type": "stream",
     "text": [
      "2022-12-12 22:21:42,731 loading file C:\\Users\\Veerasuganthi\\.flair\\models\\sentiment-en-mix-distillbert_4.pt\n"
     ]
    }
   ],
   "source": [
    "sia = TextClassifier.load('en-sentiment')\n",
    "\n",
    "df_flair \n",
    "\n",
    "def Flair_sentiment_score(x):\n",
    "    sentence = Sentence(x)\n",
    "    sia.predict(sentence)\n",
    "    score = sentence.labels[0]\n",
    "    if \"POSITIVE\" in str(score):  \n",
    "        return \"pos\"\n",
    "    elif \"NEGATIVE\" in str(score):\n",
    "        return \"neg\"\n",
    "    else:\n",
    "        return \"neu\"\n",
    "  \n",
    "\n"
   ]
  },
  {
   "cell_type": "code",
   "execution_count": 103,
   "id": "7b8111f4",
   "metadata": {
    "scrolled": true
   },
   "outputs": [],
   "source": [
    "reviews_df['Flair_sentiment_score'] = reviews_df['content'].apply(lambda x: Flair_sentiment_score(x))"
   ]
  },
  {
   "cell_type": "code",
   "execution_count": 106,
   "id": "a05868da",
   "metadata": {
    "scrolled": true
   },
   "outputs": [
    {
     "data": {
      "text/html": [
       "<div>\n",
       "<style scoped>\n",
       "    .dataframe tbody tr th:only-of-type {\n",
       "        vertical-align: middle;\n",
       "    }\n",
       "\n",
       "    .dataframe tbody tr th {\n",
       "        vertical-align: top;\n",
       "    }\n",
       "\n",
       "    .dataframe thead th {\n",
       "        text-align: right;\n",
       "    }\n",
       "</style>\n",
       "<table border=\"1\" class=\"dataframe\">\n",
       "  <thead>\n",
       "    <tr style=\"text-align: right;\">\n",
       "      <th></th>\n",
       "      <th>ID</th>\n",
       "      <th>content</th>\n",
       "      <th>score</th>\n",
       "      <th>Vader_sentiment_Score</th>\n",
       "      <th>TextBlob_sentiment_Score</th>\n",
       "      <th>Flair_sentiment_score</th>\n",
       "    </tr>\n",
       "  </thead>\n",
       "  <tbody>\n",
       "    <tr>\n",
       "      <th>0</th>\n",
       "      <td>1</td>\n",
       "      <td>Very Good</td>\n",
       "      <td>5</td>\n",
       "      <td>pos</td>\n",
       "      <td>pos</td>\n",
       "      <td>pos</td>\n",
       "    </tr>\n",
       "    <tr>\n",
       "      <th>1</th>\n",
       "      <td>2</td>\n",
       "      <td>Absolutely rubbish &amp; fraudulent. I wanted to b...</td>\n",
       "      <td>1</td>\n",
       "      <td>neu</td>\n",
       "      <td>neu</td>\n",
       "      <td>neg</td>\n",
       "    </tr>\n",
       "    <tr>\n",
       "      <th>2</th>\n",
       "      <td>3</td>\n",
       "      <td>Good</td>\n",
       "      <td>5</td>\n",
       "      <td>pos</td>\n",
       "      <td>pos</td>\n",
       "      <td>pos</td>\n",
       "    </tr>\n",
       "    <tr>\n",
       "      <th>3</th>\n",
       "      <td>4</td>\n",
       "      <td>Best</td>\n",
       "      <td>5</td>\n",
       "      <td>pos</td>\n",
       "      <td>pos</td>\n",
       "      <td>pos</td>\n",
       "    </tr>\n",
       "    <tr>\n",
       "      <th>4</th>\n",
       "      <td>5</td>\n",
       "      <td>After update app become slow, not evn allow to...</td>\n",
       "      <td>1</td>\n",
       "      <td>neu</td>\n",
       "      <td>neu</td>\n",
       "      <td>neg</td>\n",
       "    </tr>\n",
       "    <tr>\n",
       "      <th>...</th>\n",
       "      <td>...</td>\n",
       "      <td>...</td>\n",
       "      <td>...</td>\n",
       "      <td>...</td>\n",
       "      <td>...</td>\n",
       "      <td>...</td>\n",
       "    </tr>\n",
       "    <tr>\n",
       "      <th>49995</th>\n",
       "      <td>49996</td>\n",
       "      <td>Excellent</td>\n",
       "      <td>5</td>\n",
       "      <td>pos</td>\n",
       "      <td>pos</td>\n",
       "      <td>pos</td>\n",
       "    </tr>\n",
       "    <tr>\n",
       "      <th>49996</th>\n",
       "      <td>49997</td>\n",
       "      <td>High quality Courses</td>\n",
       "      <td>5</td>\n",
       "      <td>neu</td>\n",
       "      <td>neu</td>\n",
       "      <td>pos</td>\n",
       "    </tr>\n",
       "    <tr>\n",
       "      <th>49997</th>\n",
       "      <td>49998</td>\n",
       "      <td>Informative, fun and great content. I feel a s...</td>\n",
       "      <td>5</td>\n",
       "      <td>neu</td>\n",
       "      <td>neu</td>\n",
       "      <td>pos</td>\n",
       "    </tr>\n",
       "    <tr>\n",
       "      <th>49998</th>\n",
       "      <td>49999</td>\n",
       "      <td>Best way of learning new skills.</td>\n",
       "      <td>5</td>\n",
       "      <td>neu</td>\n",
       "      <td>pos</td>\n",
       "      <td>pos</td>\n",
       "    </tr>\n",
       "    <tr>\n",
       "      <th>49999</th>\n",
       "      <td>50000</td>\n",
       "      <td>I love it, very easy to use</td>\n",
       "      <td>5</td>\n",
       "      <td>pos</td>\n",
       "      <td>pos</td>\n",
       "      <td>pos</td>\n",
       "    </tr>\n",
       "  </tbody>\n",
       "</table>\n",
       "<p>50000 rows × 6 columns</p>\n",
       "</div>"
      ],
      "text/plain": [
       "          ID                                            content  score  \\\n",
       "0          1                                          Very Good      5   \n",
       "1          2  Absolutely rubbish & fraudulent. I wanted to b...      1   \n",
       "2          3                                               Good      5   \n",
       "3          4                                               Best      5   \n",
       "4          5  After update app become slow, not evn allow to...      1   \n",
       "...      ...                                                ...    ...   \n",
       "49995  49996                                          Excellent      5   \n",
       "49996  49997                               High quality Courses      5   \n",
       "49997  49998  Informative, fun and great content. I feel a s...      5   \n",
       "49998  49999                   Best way of learning new skills.      5   \n",
       "49999  50000                        I love it, very easy to use      5   \n",
       "\n",
       "      Vader_sentiment_Score TextBlob_sentiment_Score Flair_sentiment_score  \n",
       "0                       pos                      pos                   pos  \n",
       "1                       neu                      neu                   neg  \n",
       "2                       pos                      pos                   pos  \n",
       "3                       pos                      pos                   pos  \n",
       "4                       neu                      neu                   neg  \n",
       "...                     ...                      ...                   ...  \n",
       "49995                   pos                      pos                   pos  \n",
       "49996                   neu                      neu                   pos  \n",
       "49997                   neu                      neu                   pos  \n",
       "49998                   neu                      pos                   pos  \n",
       "49999                   pos                      pos                   pos  \n",
       "\n",
       "[50000 rows x 6 columns]"
      ]
     },
     "execution_count": 106,
     "metadata": {},
     "output_type": "execute_result"
    }
   ],
   "source": [
    "reviews_df"
   ]
  },
  {
   "cell_type": "markdown",
   "id": "807dc53c",
   "metadata": {},
   "source": [
    "###  <span style='color:Purple'>Data Visualization on Udemy app review score </span>"
   ]
  },
  {
   "cell_type": "code",
   "execution_count": 108,
   "id": "f1c4d6d1",
   "metadata": {
    "scrolled": false
   },
   "outputs": [
    {
     "data": {
      "image/png": "[encoded data removed]",
      "text/plain": [
       "<Figure size 720x360 with 1 Axes>"
      ]
     },
     "metadata": {},
     "output_type": "display_data"
    }
   ],
   "source": [
    "ax=reviews_df['score'].value_counts().sort_index().plot(kind='bar',color='green',title='Count of Reviews by stars',figsize=(10,5))\n",
    "ax.set_xlabel('Review stars')              # Setting x label \n",
    "plt.show()"
   ]
  },
  {
   "cell_type": "markdown",
   "id": "e28b3880",
   "metadata": {},
   "source": [
    "###  <span style='color:Purple'>Plot diagram  based on Vader_sentiment_Score </span>"
   ]
  },
  {
   "cell_type": "code",
   "execution_count": 109,
   "id": "3d11d696",
   "metadata": {
    "scrolled": false
   },
   "outputs": [
    {
     "data": {
      "image/png": "[encoded data removed]",
      "text/plain": [
       "<Figure size 720x360 with 1 Axes>"
      ]
     },
     "metadata": {},
     "output_type": "display_data"
    }
   ],
   "source": [
    "ax=reviews_df.Vader_sentiment_Score.value_counts().plot(kind='bar',color='navy',title=\"Vader_Model_Sentiment Analysis\",figsize=(10,5))\n",
    "ax.set_ylabel('Total review counts')              # Setting x label \n",
    "plt.show()"
   ]
  },
  {
   "cell_type": "markdown",
   "id": "14057278",
   "metadata": {},
   "source": [
    "###  <span style='color:Purple'>Plot diagram  based on TextBlob_sentiment_Score </span> "
   ]
  },
  {
   "cell_type": "code",
   "execution_count": 110,
   "id": "a2729d85",
   "metadata": {
    "scrolled": true
   },
   "outputs": [
    {
     "data": {
      "image/png": "[encoded data removed]",
      "text/plain": [
       "<Figure size 720x360 with 1 Axes>"
      ]
     },
     "metadata": {},
     "output_type": "display_data"
    }
   ],
   "source": [
    "ay=reviews_df.TextBlob_sentiment_Score.value_counts().plot(kind='bar',color='Olive',title=\"TextBlob_Model_Sentiment Analysis\",figsize=(10,5))\n",
    "ay.set_ylabel('Total review counts')              # Setting x label \n",
    "plt.show()"
   ]
  },
  {
   "cell_type": "markdown",
   "id": "9fc61215",
   "metadata": {},
   "source": [
    "###  <span style='color:Purple'>Plot diagram  based on Flair_sentiment_score </span> "
   ]
  },
  {
   "cell_type": "code",
   "execution_count": 111,
   "id": "8701c085",
   "metadata": {
    "scrolled": true
   },
   "outputs": [
    {
     "data": {
      "image/png": "[encoded data removed]",
      "text/plain": [
       "<Figure size 720x360 with 1 Axes>"
      ]
     },
     "metadata": {},
     "output_type": "display_data"
    }
   ],
   "source": [
    "az=reviews_df.Flair_sentiment_score.value_counts().plot(kind='bar',color='brown',title=\"Flair_sentiment sentiment analysis\",figsize=(10,5))\n",
    "az.set_ylabel('Total review counts')              # Setting y label \n",
    "plt.show()"
   ]
  },
  {
   "cell_type": "markdown",
   "id": "d28332bf",
   "metadata": {},
   "source": [
    "#  <div class=\"alert alert-success\">VADER Model Vs TEXTBLOB Model Vs FLAIR MODEL</div>"
   ]
  },
  {
   "cell_type": "code",
   "execution_count": 112,
   "id": "7824662f",
   "metadata": {
    "scrolled": true
   },
   "outputs": [
    {
     "data": {
      "text/html": [
       "<div>\n",
       "<style scoped>\n",
       "    .dataframe tbody tr th:only-of-type {\n",
       "        vertical-align: middle;\n",
       "    }\n",
       "\n",
       "    .dataframe tbody tr th {\n",
       "        vertical-align: top;\n",
       "    }\n",
       "\n",
       "    .dataframe thead th {\n",
       "        text-align: right;\n",
       "    }\n",
       "</style>\n",
       "<table border=\"1\" class=\"dataframe\">\n",
       "  <thead>\n",
       "    <tr style=\"text-align: right;\">\n",
       "      <th></th>\n",
       "      <th>ID</th>\n",
       "      <th>content</th>\n",
       "      <th>score</th>\n",
       "      <th>Vader_sentiment_Score</th>\n",
       "      <th>TextBlob_sentiment_Score</th>\n",
       "      <th>Flair_sentiment_score</th>\n",
       "    </tr>\n",
       "  </thead>\n",
       "  <tbody>\n",
       "    <tr>\n",
       "      <th>0</th>\n",
       "      <td>1</td>\n",
       "      <td>Very Good</td>\n",
       "      <td>5</td>\n",
       "      <td>pos</td>\n",
       "      <td>pos</td>\n",
       "      <td>pos</td>\n",
       "    </tr>\n",
       "    <tr>\n",
       "      <th>1</th>\n",
       "      <td>2</td>\n",
       "      <td>Absolutely rubbish &amp; fraudulent. I wanted to b...</td>\n",
       "      <td>1</td>\n",
       "      <td>neu</td>\n",
       "      <td>neu</td>\n",
       "      <td>neg</td>\n",
       "    </tr>\n",
       "    <tr>\n",
       "      <th>2</th>\n",
       "      <td>3</td>\n",
       "      <td>Good</td>\n",
       "      <td>5</td>\n",
       "      <td>pos</td>\n",
       "      <td>pos</td>\n",
       "      <td>pos</td>\n",
       "    </tr>\n",
       "    <tr>\n",
       "      <th>3</th>\n",
       "      <td>4</td>\n",
       "      <td>Best</td>\n",
       "      <td>5</td>\n",
       "      <td>pos</td>\n",
       "      <td>pos</td>\n",
       "      <td>pos</td>\n",
       "    </tr>\n",
       "    <tr>\n",
       "      <th>4</th>\n",
       "      <td>5</td>\n",
       "      <td>After update app become slow, not evn allow to...</td>\n",
       "      <td>1</td>\n",
       "      <td>neu</td>\n",
       "      <td>neu</td>\n",
       "      <td>neg</td>\n",
       "    </tr>\n",
       "  </tbody>\n",
       "</table>\n",
       "</div>"
      ],
      "text/plain": [
       "   ID                                            content  score  \\\n",
       "0   1                                          Very Good      5   \n",
       "1   2  Absolutely rubbish & fraudulent. I wanted to b...      1   \n",
       "2   3                                               Good      5   \n",
       "3   4                                               Best      5   \n",
       "4   5  After update app become slow, not evn allow to...      1   \n",
       "\n",
       "  Vader_sentiment_Score TextBlob_sentiment_Score Flair_sentiment_score  \n",
       "0                   pos                      pos                   pos  \n",
       "1                   neu                      neu                   neg  \n",
       "2                   pos                      pos                   pos  \n",
       "3                   pos                      pos                   pos  \n",
       "4                   neu                      neu                   neg  "
      ]
     },
     "execution_count": 112,
     "metadata": {},
     "output_type": "execute_result"
    }
   ],
   "source": [
    "reviews_df.head()"
   ]
  },
  {
   "cell_type": "code",
   "execution_count": 115,
   "id": "945177b7",
   "metadata": {
    "scrolled": true
   },
   "outputs": [],
   "source": [
    "Vader_Score=reviews_df['Vader_sentiment_Score'].value_counts()"
   ]
  },
  {
   "cell_type": "code",
   "execution_count": 116,
   "id": "359e700e",
   "metadata": {
    "scrolled": true
   },
   "outputs": [],
   "source": [
    "TextBlob_score=reviews_df['TextBlob_sentiment_Score'].value_counts()"
   ]
  },
  {
   "cell_type": "code",
   "execution_count": 117,
   "id": "60e9ddb1",
   "metadata": {},
   "outputs": [],
   "source": [
    "Flair_Score=reviews_df['Flair_sentiment_score'].value_counts()"
   ]
  },
  {
   "cell_type": "code",
   "execution_count": 118,
   "id": "0e29da45",
   "metadata": {
    "scrolled": false
   },
   "outputs": [
    {
     "data": {
      "text/plain": [
       "neu    33196\n",
       "pos    16089\n",
       "neg      715\n",
       "Name: Vader_sentiment_Score, dtype: int64"
      ]
     },
     "execution_count": 118,
     "metadata": {},
     "output_type": "execute_result"
    }
   ],
   "source": [
    "Vader_Score"
   ]
  },
  {
   "cell_type": "code",
   "execution_count": 119,
   "id": "a9b4a0f7",
   "metadata": {
    "scrolled": true
   },
   "outputs": [
    {
     "data": {
      "text/html": [
       "<div>\n",
       "<style scoped>\n",
       "    .dataframe tbody tr th:only-of-type {\n",
       "        vertical-align: middle;\n",
       "    }\n",
       "\n",
       "    .dataframe tbody tr th {\n",
       "        vertical-align: top;\n",
       "    }\n",
       "\n",
       "    .dataframe thead th {\n",
       "        text-align: right;\n",
       "    }\n",
       "</style>\n",
       "<table border=\"1\" class=\"dataframe\">\n",
       "  <thead>\n",
       "    <tr style=\"text-align: right;\">\n",
       "      <th></th>\n",
       "      <th>ID</th>\n",
       "      <th>content</th>\n",
       "      <th>score</th>\n",
       "      <th>Vader_sentiment_Score</th>\n",
       "      <th>TextBlob_sentiment_Score</th>\n",
       "      <th>Flair_sentiment_score</th>\n",
       "    </tr>\n",
       "  </thead>\n",
       "  <tbody>\n",
       "    <tr>\n",
       "      <th>0</th>\n",
       "      <td>1</td>\n",
       "      <td>Very Good</td>\n",
       "      <td>5</td>\n",
       "      <td>pos</td>\n",
       "      <td>pos</td>\n",
       "      <td>pos</td>\n",
       "    </tr>\n",
       "    <tr>\n",
       "      <th>1</th>\n",
       "      <td>2</td>\n",
       "      <td>Absolutely rubbish &amp; fraudulent. I wanted to b...</td>\n",
       "      <td>1</td>\n",
       "      <td>neu</td>\n",
       "      <td>neu</td>\n",
       "      <td>neg</td>\n",
       "    </tr>\n",
       "    <tr>\n",
       "      <th>2</th>\n",
       "      <td>3</td>\n",
       "      <td>Good</td>\n",
       "      <td>5</td>\n",
       "      <td>pos</td>\n",
       "      <td>pos</td>\n",
       "      <td>pos</td>\n",
       "    </tr>\n",
       "    <tr>\n",
       "      <th>3</th>\n",
       "      <td>4</td>\n",
       "      <td>Best</td>\n",
       "      <td>5</td>\n",
       "      <td>pos</td>\n",
       "      <td>pos</td>\n",
       "      <td>pos</td>\n",
       "    </tr>\n",
       "    <tr>\n",
       "      <th>4</th>\n",
       "      <td>5</td>\n",
       "      <td>After update app become slow, not evn allow to...</td>\n",
       "      <td>1</td>\n",
       "      <td>neu</td>\n",
       "      <td>neu</td>\n",
       "      <td>neg</td>\n",
       "    </tr>\n",
       "    <tr>\n",
       "      <th>...</th>\n",
       "      <td>...</td>\n",
       "      <td>...</td>\n",
       "      <td>...</td>\n",
       "      <td>...</td>\n",
       "      <td>...</td>\n",
       "      <td>...</td>\n",
       "    </tr>\n",
       "    <tr>\n",
       "      <th>49995</th>\n",
       "      <td>49996</td>\n",
       "      <td>Excellent</td>\n",
       "      <td>5</td>\n",
       "      <td>pos</td>\n",
       "      <td>pos</td>\n",
       "      <td>pos</td>\n",
       "    </tr>\n",
       "    <tr>\n",
       "      <th>49996</th>\n",
       "      <td>49997</td>\n",
       "      <td>High quality Courses</td>\n",
       "      <td>5</td>\n",
       "      <td>neu</td>\n",
       "      <td>neu</td>\n",
       "      <td>pos</td>\n",
       "    </tr>\n",
       "    <tr>\n",
       "      <th>49997</th>\n",
       "      <td>49998</td>\n",
       "      <td>Informative, fun and great content. I feel a s...</td>\n",
       "      <td>5</td>\n",
       "      <td>neu</td>\n",
       "      <td>neu</td>\n",
       "      <td>pos</td>\n",
       "    </tr>\n",
       "    <tr>\n",
       "      <th>49998</th>\n",
       "      <td>49999</td>\n",
       "      <td>Best way of learning new skills.</td>\n",
       "      <td>5</td>\n",
       "      <td>neu</td>\n",
       "      <td>pos</td>\n",
       "      <td>pos</td>\n",
       "    </tr>\n",
       "    <tr>\n",
       "      <th>49999</th>\n",
       "      <td>50000</td>\n",
       "      <td>I love it, very easy to use</td>\n",
       "      <td>5</td>\n",
       "      <td>pos</td>\n",
       "      <td>pos</td>\n",
       "      <td>pos</td>\n",
       "    </tr>\n",
       "  </tbody>\n",
       "</table>\n",
       "<p>50000 rows × 6 columns</p>\n",
       "</div>"
      ],
      "text/plain": [
       "          ID                                            content  score  \\\n",
       "0          1                                          Very Good      5   \n",
       "1          2  Absolutely rubbish & fraudulent. I wanted to b...      1   \n",
       "2          3                                               Good      5   \n",
       "3          4                                               Best      5   \n",
       "4          5  After update app become slow, not evn allow to...      1   \n",
       "...      ...                                                ...    ...   \n",
       "49995  49996                                          Excellent      5   \n",
       "49996  49997                               High quality Courses      5   \n",
       "49997  49998  Informative, fun and great content. I feel a s...      5   \n",
       "49998  49999                   Best way of learning new skills.      5   \n",
       "49999  50000                        I love it, very easy to use      5   \n",
       "\n",
       "      Vader_sentiment_Score TextBlob_sentiment_Score Flair_sentiment_score  \n",
       "0                       pos                      pos                   pos  \n",
       "1                       neu                      neu                   neg  \n",
       "2                       pos                      pos                   pos  \n",
       "3                       pos                      pos                   pos  \n",
       "4                       neu                      neu                   neg  \n",
       "...                     ...                      ...                   ...  \n",
       "49995                   pos                      pos                   pos  \n",
       "49996                   neu                      neu                   pos  \n",
       "49997                   neu                      neu                   pos  \n",
       "49998                   neu                      pos                   pos  \n",
       "49999                   pos                      pos                   pos  \n",
       "\n",
       "[50000 rows x 6 columns]"
      ]
     },
     "execution_count": 119,
     "metadata": {},
     "output_type": "execute_result"
    }
   ],
   "source": [
    "reviews_df"
   ]
  },
  {
   "cell_type": "code",
   "execution_count": 120,
   "id": "26ff36e8",
   "metadata": {},
   "outputs": [
    {
     "data": {
      "image/png": "[encoded data removed]",
      "text/plain": [
       "<Figure size 1080x360 with 3 Axes>"
      ]
     },
     "metadata": {},
     "output_type": "display_data"
    }
   ],
   "source": [
    "fig,axs=plt.subplots(1,3,figsize=(15,5))\n",
    "sns.barplot(data=reviews_df,x='score',y='Vader_sentiment_Score',ax=axs[0])\n",
    "sns.barplot(data=reviews_df,x='score',y='TextBlob_sentiment_Score',ax=axs[1])\n",
    "sns.barplot(data=reviews_df,x='score',y='Flair_sentiment_score',ax=axs[2])\n",
    "axs[0].set_title('Vader_sentiment_Score')\n",
    "axs[1].set_title('TextBlob_sentiment_Score')\n",
    "axs[2].set_title('Flair_sentiment_score')\n",
    "plt.tight_layout()\n",
    "plt.show()"
   ]
  },
  {
   "cell_type": "markdown",
   "id": "b0d9fc3f",
   "metadata": {},
   "source": [
    "# <div class=\"alert alert-info\">Sentiment Analysis without TextBlob, VADER, and Flair machine Learning model</div> "
   ]
  },
  {
   "cell_type": "code",
   "execution_count": 121,
   "id": "c5a7fb59",
   "metadata": {
    "scrolled": true
   },
   "outputs": [
    {
     "name": "stdout",
     "output_type": "stream",
     "text": [
      "Requirement already satisfied: vaderSentiment in c:\\users\\veerasuganthi\\anaconda3\\lib\\site-packages (3.3.2)\n",
      "Requirement already satisfied: requests in c:\\users\\veerasuganthi\\anaconda3\\lib\\site-packages (from vaderSentiment) (2.27.1)\n",
      "Requirement already satisfied: urllib3<1.27,>=1.21.1 in c:\\users\\veerasuganthi\\anaconda3\\lib\\site-packages (from requests->vaderSentiment) (1.26.9)\n",
      "Requirement already satisfied: certifi>=2017.4.17 in c:\\users\\veerasuganthi\\anaconda3\\lib\\site-packages (from requests->vaderSentiment) (2021.10.8)\n",
      "Requirement already satisfied: idna<4,>=2.5 in c:\\users\\veerasuganthi\\anaconda3\\lib\\site-packages (from requests->vaderSentiment) (3.3)\n",
      "Requirement already satisfied: charset-normalizer~=2.0.0 in c:\\users\\veerasuganthi\\anaconda3\\lib\\site-packages (from requests->vaderSentiment) (2.0.4)\n",
      "Requirement already satisfied: flair in c:\\users\\veerasuganthi\\anaconda3\\lib\\site-packages (0.11.3)\n",
      "Requirement already satisfied: mpld3==0.3 in c:\\users\\veerasuganthi\\anaconda3\\lib\\site-packages (from flair) (0.3)\n",
      "Requirement already satisfied: regex in c:\\users\\veerasuganthi\\anaconda3\\lib\\site-packages (from flair) (2022.3.15)\n",
      "Requirement already satisfied: wikipedia-api in c:\\users\\veerasuganthi\\anaconda3\\lib\\site-packages (from flair) (0.5.4)\n",
      "Requirement already satisfied: gdown==4.4.0 in c:\\users\\veerasuganthi\\anaconda3\\lib\\site-packages (from flair) (4.4.0)\n",
      "Requirement already satisfied: conllu>=4.0 in c:\\users\\veerasuganthi\\anaconda3\\lib\\site-packages (from flair) (4.5.2)\n",
      "Requirement already satisfied: lxml in c:\\users\\veerasuganthi\\anaconda3\\lib\\site-packages (from flair) (4.8.0)\n",
      "Requirement already satisfied: tqdm>=4.26.0 in c:\\users\\veerasuganthi\\anaconda3\\lib\\site-packages (from flair) (4.64.0)\n",
      "Requirement already satisfied: janome in c:\\users\\veerasuganthi\\anaconda3\\lib\\site-packages (from flair) (0.4.2)\n",
      "Requirement already satisfied: more-itertools in c:\\users\\veerasuganthi\\anaconda3\\lib\\site-packages (from flair) (9.0.0)\n",
      "Requirement already satisfied: scikit-learn>=0.21.3 in c:\\users\\veerasuganthi\\anaconda3\\lib\\site-packages (from flair) (1.0.2)\n",
      "Requirement already satisfied: segtok>=1.5.7 in c:\\users\\veerasuganthi\\anaconda3\\lib\\site-packages (from flair) (1.5.11)\n",
      "Requirement already satisfied: langdetect in c:\\users\\veerasuganthi\\anaconda3\\lib\\site-packages (from flair) (1.0.9)\n",
      "Requirement already satisfied: matplotlib>=2.2.3 in c:\\users\\veerasuganthi\\anaconda3\\lib\\site-packages (from flair) (3.5.1)\n",
      "Requirement already satisfied: gensim>=3.4.0 in c:\\users\\veerasuganthi\\anaconda3\\lib\\site-packages (from flair) (4.1.2)\n",
      "Requirement already satisfied: sqlitedict>=1.6.0 in c:\\users\\veerasuganthi\\anaconda3\\lib\\site-packages (from flair) (2.0.0)\n",
      "Requirement already satisfied: tabulate in c:\\users\\veerasuganthi\\anaconda3\\lib\\site-packages (from flair) (0.8.9)\n",
      "Requirement already satisfied: deprecated>=1.2.4 in c:\\users\\veerasuganthi\\anaconda3\\lib\\site-packages (from flair) (1.2.13)\n",
      "Requirement already satisfied: bpemb>=0.3.2 in c:\\users\\veerasuganthi\\anaconda3\\lib\\site-packages (from flair) (0.3.4)\n",
      "Requirement already satisfied: torch!=1.8,>=1.5.0 in c:\\users\\veerasuganthi\\anaconda3\\lib\\site-packages (from flair) (1.13.0)\n",
      "Requirement already satisfied: sentencepiece==0.1.95 in c:\\users\\veerasuganthi\\anaconda3\\lib\\site-packages (from flair) (0.1.95)\n",
      "Requirement already satisfied: python-dateutil>=2.6.1 in c:\\users\\veerasuganthi\\anaconda3\\lib\\site-packages (from flair) (2.8.2)\n",
      "Requirement already satisfied: huggingface-hub in c:\\users\\veerasuganthi\\anaconda3\\lib\\site-packages (from flair) (0.11.0)\n",
      "Requirement already satisfied: konoha<5.0.0,>=4.0.0 in c:\\users\\veerasuganthi\\anaconda3\\lib\\site-packages (from flair) (4.6.5)\n",
      "Requirement already satisfied: pptree in c:\\users\\veerasuganthi\\anaconda3\\lib\\site-packages (from flair) (3.1)\n",
      "Requirement already satisfied: ftfy in c:\\users\\veerasuganthi\\anaconda3\\lib\\site-packages (from flair) (6.1.1)\n",
      "Requirement already satisfied: hyperopt>=0.2.7 in c:\\users\\veerasuganthi\\anaconda3\\lib\\site-packages (from flair) (0.2.7)\n",
      "Requirement already satisfied: transformers>=4.0.0 in c:\\users\\veerasuganthi\\anaconda3\\lib\\site-packages (from flair) (4.24.0)\n",
      "Requirement already satisfied: six in c:\\users\\veerasuganthi\\anaconda3\\lib\\site-packages (from gdown==4.4.0->flair) (1.16.0)\n",
      "Requirement already satisfied: requests[socks] in c:\\users\\veerasuganthi\\anaconda3\\lib\\site-packages (from gdown==4.4.0->flair) (2.27.1)\n",
      "Requirement already satisfied: filelock in c:\\users\\veerasuganthi\\anaconda3\\lib\\site-packages (from gdown==4.4.0->flair) (3.6.0)\n",
      "Requirement already satisfied: beautifulsoup4 in c:\\users\\veerasuganthi\\anaconda3\\lib\\site-packages (from gdown==4.4.0->flair) (4.11.1)\n",
      "Requirement already satisfied: numpy in c:\\users\\veerasuganthi\\anaconda3\\lib\\site-packages (from bpemb>=0.3.2->flair) (1.21.5)\n",
      "Requirement already satisfied: wrapt<2,>=1.10 in c:\\users\\veerasuganthi\\anaconda3\\lib\\site-packages (from deprecated>=1.2.4->flair) (1.12.1)\n",
      "Requirement already satisfied: smart-open>=1.8.1 in c:\\users\\veerasuganthi\\anaconda3\\lib\\site-packages (from gensim>=3.4.0->flair) (5.2.1)\n",
      "Requirement already satisfied: scipy>=0.18.1 in c:\\users\\veerasuganthi\\anaconda3\\lib\\site-packages (from gensim>=3.4.0->flair) (1.7.3)\n",
      "Requirement already satisfied: cloudpickle in c:\\users\\veerasuganthi\\anaconda3\\lib\\site-packages (from hyperopt>=0.2.7->flair) (2.0.0)\n",
      "Requirement already satisfied: future in c:\\users\\veerasuganthi\\anaconda3\\lib\\site-packages (from hyperopt>=0.2.7->flair) (0.18.2)\n",
      "Requirement already satisfied: py4j in c:\\users\\veerasuganthi\\anaconda3\\lib\\site-packages (from hyperopt>=0.2.7->flair) (0.10.9.7)\n",
      "Requirement already satisfied: networkx>=2.2 in c:\\users\\veerasuganthi\\anaconda3\\lib\\site-packages (from hyperopt>=0.2.7->flair) (2.7.1)\n",
      "Requirement already satisfied: importlib-metadata<4.0.0,>=3.7.0 in c:\\users\\veerasuganthi\\anaconda3\\lib\\site-packages (from konoha<5.0.0,>=4.0.0->flair) (3.10.1)\n",
      "Requirement already satisfied: overrides<4.0.0,>=3.0.0 in c:\\users\\veerasuganthi\\anaconda3\\lib\\site-packages (from konoha<5.0.0,>=4.0.0->flair) (3.1.0)\n",
      "Requirement already satisfied: pillow>=6.2.0 in c:\\users\\veerasuganthi\\anaconda3\\lib\\site-packages (from matplotlib>=2.2.3->flair) (9.0.1)\n",
      "Requirement already satisfied: pyparsing>=2.2.1 in c:\\users\\veerasuganthi\\anaconda3\\lib\\site-packages (from matplotlib>=2.2.3->flair) (3.0.4)\n",
      "Requirement already satisfied: packaging>=20.0 in c:\\users\\veerasuganthi\\anaconda3\\lib\\site-packages (from matplotlib>=2.2.3->flair) (21.3)\n",
      "Requirement already satisfied: fonttools>=4.22.0 in c:\\users\\veerasuganthi\\anaconda3\\lib\\site-packages (from matplotlib>=2.2.3->flair) (4.25.0)\n",
      "Requirement already satisfied: kiwisolver>=1.0.1 in c:\\users\\veerasuganthi\\anaconda3\\lib\\site-packages (from matplotlib>=2.2.3->flair) (1.3.2)\n",
      "Requirement already satisfied: cycler>=0.10 in c:\\users\\veerasuganthi\\anaconda3\\lib\\site-packages (from matplotlib>=2.2.3->flair) (0.11.0)\n",
      "Requirement already satisfied: joblib>=0.11 in c:\\users\\veerasuganthi\\anaconda3\\lib\\site-packages (from scikit-learn>=0.21.3->flair) (1.1.0)\n",
      "Requirement already satisfied: threadpoolctl>=2.0.0 in c:\\users\\veerasuganthi\\anaconda3\\lib\\site-packages (from scikit-learn>=0.21.3->flair) (2.2.0)\n",
      "Requirement already satisfied: typing-extensions in c:\\users\\veerasuganthi\\anaconda3\\lib\\site-packages (from torch!=1.8,>=1.5.0->flair) (4.1.1)\n",
      "Requirement already satisfied: colorama in c:\\users\\veerasuganthi\\anaconda3\\lib\\site-packages (from tqdm>=4.26.0->flair) (0.4.4)\n",
      "Requirement already satisfied: pyyaml>=5.1 in c:\\users\\veerasuganthi\\anaconda3\\lib\\site-packages (from transformers>=4.0.0->flair) (6.0)\n",
      "Requirement already satisfied: tokenizers!=0.11.3,<0.14,>=0.11.1 in c:\\users\\veerasuganthi\\anaconda3\\lib\\site-packages (from transformers>=4.0.0->flair) (0.13.2)\n",
      "Requirement already satisfied: wcwidth>=0.2.5 in c:\\users\\veerasuganthi\\anaconda3\\lib\\site-packages (from ftfy->flair) (0.2.5)\n",
      "Requirement already satisfied: zipp>=0.5 in c:\\users\\veerasuganthi\\anaconda3\\lib\\site-packages (from importlib-metadata<4.0.0,>=3.7.0->konoha<5.0.0,>=4.0.0->flair) (3.7.0)\n",
      "Requirement already satisfied: urllib3<1.27,>=1.21.1 in c:\\users\\veerasuganthi\\anaconda3\\lib\\site-packages (from requests[socks]->gdown==4.4.0->flair) (1.26.9)\n",
      "Requirement already satisfied: idna<4,>=2.5 in c:\\users\\veerasuganthi\\anaconda3\\lib\\site-packages (from requests[socks]->gdown==4.4.0->flair) (3.3)\n",
      "Requirement already satisfied: charset-normalizer~=2.0.0 in c:\\users\\veerasuganthi\\anaconda3\\lib\\site-packages (from requests[socks]->gdown==4.4.0->flair) (2.0.4)\n",
      "Requirement already satisfied: certifi>=2017.4.17 in c:\\users\\veerasuganthi\\anaconda3\\lib\\site-packages (from requests[socks]->gdown==4.4.0->flair) (2021.10.8)\n",
      "Requirement already satisfied: soupsieve>1.2 in c:\\users\\veerasuganthi\\anaconda3\\lib\\site-packages (from beautifulsoup4->gdown==4.4.0->flair) (2.3.1)\n",
      "Requirement already satisfied: PySocks!=1.5.7,>=1.5.6 in c:\\users\\veerasuganthi\\anaconda3\\lib\\site-packages (from requests[socks]->gdown==4.4.0->flair) (1.7.1)\n"
     ]
    }
   ],
   "source": [
    "# Install vaderSentiment package for VADER\n",
    "!pip install vaderSentiment\n",
    "# Install flair\n",
    "! pip install flair"
   ]
  },
  {
   "cell_type": "code",
   "execution_count": 122,
   "id": "53938639",
   "metadata": {},
   "outputs": [
    {
     "name": "stdout",
     "output_type": "stream",
     "text": [
      "2022-12-12 23:25:07,375 loading file C:\\Users\\Veerasuganthi\\.flair\\models\\sentiment-en-mix-distillbert_4.pt\n"
     ]
    }
   ],
   "source": [
    "# Data processing\n",
    "import pandas as pd\n",
    "import numpy as np\n",
    "\n",
    "# Import TextBlob\n",
    "from textblob import TextBlob\n",
    "\n",
    "# Import VADER sentiment\n",
    "from vaderSentiment.vaderSentiment import SentimentIntensityAnalyzer\n",
    "\n",
    "# Import flair pre-trained sentiment model\n",
    "from flair.models import TextClassifier\n",
    "classifier = TextClassifier.load('en-sentiment')\n",
    "\n",
    "# Import flair Sentence to process input text\n",
    "from flair.data import Sentence\n",
    "\n",
    "# Import accuracy_score to check performance\n",
    "from sklearn.metrics import accuracy_score\n",
    "\n",
    "# Set a wider colwith\n",
    "pd.set_option('display.max_colwidth', 1000)"
   ]
  },
  {
   "cell_type": "code",
   "execution_count": 123,
   "id": "6e2b90c5",
   "metadata": {},
   "outputs": [],
   "source": [
    "reviews_df1=reviews_df1.head(50000)"
   ]
  },
  {
   "cell_type": "code",
   "execution_count": 124,
   "id": "6802afb9",
   "metadata": {},
   "outputs": [
    {
     "data": {
      "text/plain": [
       "Index(['content', 'score', 'ID'], dtype='object')"
      ]
     },
     "execution_count": 124,
     "metadata": {},
     "output_type": "execute_result"
    }
   ],
   "source": [
    "reviews_df1.columns"
   ]
  },
  {
   "cell_type": "code",
   "execution_count": 125,
   "id": "e9d6ae28",
   "metadata": {
    "scrolled": true
   },
   "outputs": [
    {
     "data": {
      "text/plain": [
       "5    28729\n",
       "1     9542\n",
       "4     6278\n",
       "3     2915\n",
       "2     2536\n",
       "Name: score, dtype: int64"
      ]
     },
     "execution_count": 125,
     "metadata": {},
     "output_type": "execute_result"
    }
   ],
   "source": [
    "# Check the label distribution\n",
    "reviews_df1['score'].value_counts()"
   ]
  },
  {
   "cell_type": "markdown",
   "id": "a48a5eb5",
   "metadata": {},
   "source": [
    "# TEXTBLOB For Sentiment Analysis"
   ]
  },
  {
   "cell_type": "markdown",
   "id": "87d58638",
   "metadata": {},
   "source": [
    "#### we will apply TEXTBLOB to the Udemy online course review dataset and see how it performs.\n",
    "\n",
    "We first get the sentiment compound score for each review and save the values into a column called 'scores_VADER'. Then check if the compound score is positive. If the score is greater than or equal to zero, the predicted sentiment for the review is positive (labeled as 1). Otherwise, the predicted sentiment for the review is negative (labeled as 0)."
   ]
  },
  {
   "cell_type": "code",
   "execution_count": 126,
   "id": "c9dde90f",
   "metadata": {
    "scrolled": true
   },
   "outputs": [
    {
     "data": {
      "text/html": [
       "<div>\n",
       "<style scoped>\n",
       "    .dataframe tbody tr th:only-of-type {\n",
       "        vertical-align: middle;\n",
       "    }\n",
       "\n",
       "    .dataframe tbody tr th {\n",
       "        vertical-align: top;\n",
       "    }\n",
       "\n",
       "    .dataframe thead th {\n",
       "        text-align: right;\n",
       "    }\n",
       "</style>\n",
       "<table border=\"1\" class=\"dataframe\">\n",
       "  <thead>\n",
       "    <tr style=\"text-align: right;\">\n",
       "      <th></th>\n",
       "      <th>content</th>\n",
       "      <th>score</th>\n",
       "      <th>ID</th>\n",
       "      <th>scores_TextBlob</th>\n",
       "      <th>pred_TextBlob</th>\n",
       "    </tr>\n",
       "  </thead>\n",
       "  <tbody>\n",
       "    <tr>\n",
       "      <th>0</th>\n",
       "      <td>Very Good</td>\n",
       "      <td>5</td>\n",
       "      <td>1</td>\n",
       "      <td>0.910000</td>\n",
       "      <td>1</td>\n",
       "    </tr>\n",
       "    <tr>\n",
       "      <th>1</th>\n",
       "      <td>Absolutely rubbish &amp; fraudulent. I wanted to buy a course through the app. I did that and the payment was also successful. I did receive an email confirmation. Soon after that when I checked, I could find the course under My learning. I switched between the options to check out for other courses and then came back to My learning where the course was not there anymore. I sent multiple emails to the udemy mail id but no response at all. Also, there is no contact no. seen anywhere on their site.</td>\n",
       "      <td>1</td>\n",
       "      <td>2</td>\n",
       "      <td>0.165000</td>\n",
       "      <td>1</td>\n",
       "    </tr>\n",
       "    <tr>\n",
       "      <th>2</th>\n",
       "      <td>Good</td>\n",
       "      <td>5</td>\n",
       "      <td>3</td>\n",
       "      <td>0.700000</td>\n",
       "      <td>1</td>\n",
       "    </tr>\n",
       "    <tr>\n",
       "      <th>3</th>\n",
       "      <td>Best</td>\n",
       "      <td>5</td>\n",
       "      <td>4</td>\n",
       "      <td>1.000000</td>\n",
       "      <td>1</td>\n",
       "    </tr>\n",
       "    <tr>\n",
       "      <th>4</th>\n",
       "      <td>After update app become slow, not evn allow to login and after long time if you login then course video not playing.</td>\n",
       "      <td>1</td>\n",
       "      <td>5</td>\n",
       "      <td>-0.175000</td>\n",
       "      <td>0</td>\n",
       "    </tr>\n",
       "    <tr>\n",
       "      <th>5</th>\n",
       "      <td>1-Not downloading video... 2-Crash app repeatedly 3-downloaded video buffering</td>\n",
       "      <td>1</td>\n",
       "      <td>6</td>\n",
       "      <td>0.000000</td>\n",
       "      <td>1</td>\n",
       "    </tr>\n",
       "    <tr>\n",
       "      <th>6</th>\n",
       "      <td>Okk</td>\n",
       "      <td>5</td>\n",
       "      <td>7</td>\n",
       "      <td>0.000000</td>\n",
       "      <td>1</td>\n",
       "    </tr>\n",
       "    <tr>\n",
       "      <th>7</th>\n",
       "      <td>Amazing</td>\n",
       "      <td>5</td>\n",
       "      <td>8</td>\n",
       "      <td>0.600000</td>\n",
       "      <td>1</td>\n",
       "    </tr>\n",
       "    <tr>\n",
       "      <th>8</th>\n",
       "      <td>So incredibly irritating. This app is just so painful to use. The video player is a joke, the constant popups asking for attention are irritating at best. It eats your battery. The UX constantly catches you out by skipping to the previous video, losing your place. If I hadn't bought this course by Peter Baker I would be using something free on YouTube instead. The course is great, but I'll never buy anything through this app again. BTW: No, I won't be opening a support ticket. That's your job.</td>\n",
       "      <td>1</td>\n",
       "      <td>9</td>\n",
       "      <td>0.059259</td>\n",
       "      <td>1</td>\n",
       "    </tr>\n",
       "    <tr>\n",
       "      <th>9</th>\n",
       "      <td>Payments issues are never ending. I made the payment and the transactions details shows that I credited to receipent account . But in udmey it is showing payment pending ?? This is the second time I'm facing this issue. Is it always like this????? Do they need some months or years to verify the payment ?????????? Pls guys improve the things ....</td>\n",
       "      <td>1</td>\n",
       "      <td>10</td>\n",
       "      <td>0.000000</td>\n",
       "      <td>1</td>\n",
       "    </tr>\n",
       "    <tr>\n",
       "      <th>10</th>\n",
       "      <td>The application is very helpful but it starts to slow down when I try to delete the downloaded videos. I haven't been able to delete all the videos yet. Please fix this.</td>\n",
       "      <td>4</td>\n",
       "      <td>11</td>\n",
       "      <td>0.061111</td>\n",
       "      <td>1</td>\n",
       "    </tr>\n",
       "    <tr>\n",
       "      <th>11</th>\n",
       "      <td>❤️da lo app but content is great!</td>\n",
       "      <td>1</td>\n",
       "      <td>12</td>\n",
       "      <td>1.000000</td>\n",
       "      <td>1</td>\n",
       "    </tr>\n",
       "    <tr>\n",
       "      <th>12</th>\n",
       "      <td>Amazing learning experience.</td>\n",
       "      <td>5</td>\n",
       "      <td>13</td>\n",
       "      <td>0.600000</td>\n",
       "      <td>1</td>\n",
       "    </tr>\n",
       "    <tr>\n",
       "      <th>13</th>\n",
       "      <td>The best educational app ever. both from the perspective of user experience of platform and from the perspective of available content.</td>\n",
       "      <td>5</td>\n",
       "      <td>14</td>\n",
       "      <td>0.550000</td>\n",
       "      <td>1</td>\n",
       "    </tr>\n",
       "    <tr>\n",
       "      <th>14</th>\n",
       "      <td>Can't buy courses. I can see all the courses, everything says web exclusive, but there is literally no price or no option to buy them . Been trying for weeks now, searched the web for over an hour and can't seem to find resolution to this problem.</td>\n",
       "      <td>1</td>\n",
       "      <td>15</td>\n",
       "      <td>0.000000</td>\n",
       "      <td>1</td>\n",
       "    </tr>\n",
       "    <tr>\n",
       "      <th>15</th>\n",
       "      <td>There is an issue in the app .. the website is working but the app is so slow and don't work</td>\n",
       "      <td>3</td>\n",
       "      <td>16</td>\n",
       "      <td>-0.300000</td>\n",
       "      <td>0</td>\n",
       "    </tr>\n",
       "    <tr>\n",
       "      <th>16</th>\n",
       "      <td>Draining too much of my OnePlus battery</td>\n",
       "      <td>1</td>\n",
       "      <td>17</td>\n",
       "      <td>0.200000</td>\n",
       "      <td>1</td>\n",
       "    </tr>\n",
       "    <tr>\n",
       "      <th>17</th>\n",
       "      <td>Udemy is so amazing the problem is the app it loads forever even if there is network, can you pliz fix that, I can't afford to use the website to view my courses</td>\n",
       "      <td>5</td>\n",
       "      <td>18</td>\n",
       "      <td>0.600000</td>\n",
       "      <td>1</td>\n",
       "    </tr>\n",
       "    <tr>\n",
       "      <th>18</th>\n",
       "      <td>Excellent for learning when you want to step away from your PC or catch-up on a class while on the go. Fast, simple, and efficient.</td>\n",
       "      <td>5</td>\n",
       "      <td>19</td>\n",
       "      <td>0.400000</td>\n",
       "      <td>1</td>\n",
       "    </tr>\n",
       "    <tr>\n",
       "      <th>19</th>\n",
       "      <td>Helpfull app</td>\n",
       "      <td>5</td>\n",
       "      <td>20</td>\n",
       "      <td>0.000000</td>\n",
       "      <td>1</td>\n",
       "    </tr>\n",
       "    <tr>\n",
       "      <th>20</th>\n",
       "      <td>please make udemy available for playstation 4 &amp; amazon fire tablet.</td>\n",
       "      <td>5</td>\n",
       "      <td>21</td>\n",
       "      <td>0.400000</td>\n",
       "      <td>1</td>\n",
       "    </tr>\n",
       "    <tr>\n",
       "      <th>21</th>\n",
       "      <td>The app works as expected but i do not understand why such an easy feature to implement of ordering the courses as sorted by enrolled is missing. Online in the web app is present and is barely 20m max 3hours to implement on the mobile as developers effort time</td>\n",
       "      <td>3</td>\n",
       "      <td>22</td>\n",
       "      <td>0.030556</td>\n",
       "      <td>1</td>\n",
       "    </tr>\n",
       "    <tr>\n",
       "      <th>22</th>\n",
       "      <td>Working offline is a mass. If I go through some lessons offline they cannot synchronise after I get connection back. And I will not be able to continue with other lessons unless I disconnect from internet.</td>\n",
       "      <td>2</td>\n",
       "      <td>23</td>\n",
       "      <td>0.125000</td>\n",
       "      <td>1</td>\n",
       "    </tr>\n",
       "    <tr>\n",
       "      <th>23</th>\n",
       "      <td>they stopped giving discount prices on many of the courses</td>\n",
       "      <td>1</td>\n",
       "      <td>24</td>\n",
       "      <td>0.500000</td>\n",
       "      <td>1</td>\n",
       "    </tr>\n",
       "    <tr>\n",
       "      <th>24</th>\n",
       "      <td>wow</td>\n",
       "      <td>5</td>\n",
       "      <td>25</td>\n",
       "      <td>0.100000</td>\n",
       "      <td>1</td>\n",
       "    </tr>\n",
       "    <tr>\n",
       "      <th>25</th>\n",
       "      <td>Best app for online learning</td>\n",
       "      <td>5</td>\n",
       "      <td>26</td>\n",
       "      <td>1.000000</td>\n",
       "      <td>1</td>\n",
       "    </tr>\n",
       "    <tr>\n",
       "      <th>26</th>\n",
       "      <td>Buggy, app crashes and sometimes even my phone restarts because of it. I don't know what you guys did wrong with this application, i wish it worked cause the content itself is good.</td>\n",
       "      <td>1</td>\n",
       "      <td>27</td>\n",
       "      <td>0.100000</td>\n",
       "      <td>1</td>\n",
       "    </tr>\n",
       "    <tr>\n",
       "      <th>27</th>\n",
       "      <td>The player is super slow. Seriously?!!</td>\n",
       "      <td>1</td>\n",
       "      <td>28</td>\n",
       "      <td>-0.162500</td>\n",
       "      <td>0</td>\n",
       "    </tr>\n",
       "    <tr>\n",
       "      <th>28</th>\n",
       "      <td>Udemy Academy has been one of the greatest teaching and learning tools that I have experienced thus far. It's convienant easy to access and navigating throughout the plateform is a breeze. Thank you!</td>\n",
       "      <td>5</td>\n",
       "      <td>29</td>\n",
       "      <td>0.610417</td>\n",
       "      <td>1</td>\n",
       "    </tr>\n",
       "    <tr>\n",
       "      <th>29</th>\n",
       "      <td>I am trying to login with gmail but not logged in. Saying check email and password.</td>\n",
       "      <td>1</td>\n",
       "      <td>30</td>\n",
       "      <td>0.000000</td>\n",
       "      <td>1</td>\n",
       "    </tr>\n",
       "    <tr>\n",
       "      <th>30</th>\n",
       "      <td>App works well on phone and tablet. Really enjoying my courses and it's easy to navigate.</td>\n",
       "      <td>5</td>\n",
       "      <td>31</td>\n",
       "      <td>0.466667</td>\n",
       "      <td>1</td>\n",
       "    </tr>\n",
       "    <tr>\n",
       "      <th>31</th>\n",
       "      <td>Is this app available for windows 11 system?</td>\n",
       "      <td>3</td>\n",
       "      <td>32</td>\n",
       "      <td>0.400000</td>\n",
       "      <td>1</td>\n",
       "    </tr>\n",
       "    <tr>\n",
       "      <th>32</th>\n",
       "      <td>it is very good learning platform aplication that make every people study by themself</td>\n",
       "      <td>5</td>\n",
       "      <td>33</td>\n",
       "      <td>0.910000</td>\n",
       "      <td>1</td>\n",
       "    </tr>\n",
       "    <tr>\n",
       "      <th>33</th>\n",
       "      <td>Over all its good ,however, will love the feature of zooming in screen view similar to what youtube offer to its users ,as you miss the details otherwise. Thanks</td>\n",
       "      <td>4</td>\n",
       "      <td>34</td>\n",
       "      <td>0.350000</td>\n",
       "      <td>1</td>\n",
       "    </tr>\n",
       "    <tr>\n",
       "      <th>34</th>\n",
       "      <td>good app, good instructors, this doesn't deserve 1 star</td>\n",
       "      <td>5</td>\n",
       "      <td>35</td>\n",
       "      <td>0.700000</td>\n",
       "      <td>1</td>\n",
       "    </tr>\n",
       "    <tr>\n",
       "      <th>35</th>\n",
       "      <td>Fully knowledgeable, but experiencing buffering during traveling despite of downloaded videos.</td>\n",
       "      <td>3</td>\n",
       "      <td>36</td>\n",
       "      <td>0.000000</td>\n",
       "      <td>1</td>\n",
       "    </tr>\n",
       "    <tr>\n",
       "      <th>36</th>\n",
       "      <td>This platform is very nice... every beginners, amateur and are professionals are admonished to use this platform for easy learning tutorials.</td>\n",
       "      <td>4</td>\n",
       "      <td>37</td>\n",
       "      <td>0.321111</td>\n",
       "      <td>1</td>\n",
       "    </tr>\n",
       "    <tr>\n",
       "      <th>37</th>\n",
       "      <td>Great content but the app consistently freezes and won't play. Sometimes it takes closing and reopening the app, and this is even with content that has been downloaded.</td>\n",
       "      <td>1</td>\n",
       "      <td>38</td>\n",
       "      <td>0.525000</td>\n",
       "      <td>1</td>\n",
       "    </tr>\n",
       "    <tr>\n",
       "      <th>38</th>\n",
       "      <td>I like, because there is a wide variety of courses.</td>\n",
       "      <td>5</td>\n",
       "      <td>39</td>\n",
       "      <td>-0.100000</td>\n",
       "      <td>0</td>\n",
       "    </tr>\n",
       "    <tr>\n",
       "      <th>39</th>\n",
       "      <td>detailed description</td>\n",
       "      <td>4</td>\n",
       "      <td>40</td>\n",
       "      <td>0.400000</td>\n",
       "      <td>1</td>\n",
       "    </tr>\n",
       "  </tbody>\n",
       "</table>\n",
       "</div>"
      ],
      "text/plain": [
       "                                                                                                                                                                                                                                                                                                                                                                                                                                                                                                               content  \\\n",
       "0                                                                                                                                                                                                                                                                                                                                                                                                                                                                                                            Very Good   \n",
       "1    Absolutely rubbish & fraudulent. I wanted to buy a course through the app. I did that and the payment was also successful. I did receive an email confirmation. Soon after that when I checked, I could find the course under My learning. I switched between the options to check out for other courses and then came back to My learning where the course was not there anymore. I sent multiple emails to the udemy mail id but no response at all. Also, there is no contact no. seen anywhere on their site.   \n",
       "2                                                                                                                                                                                                                                                                                                                                                                                                                                                                                                                 Good   \n",
       "3                                                                                                                                                                                                                                                                                                                                                                                                                                                                                                                 Best   \n",
       "4                                                                                                                                                                                                                                                                                                                                                                                                 After update app become slow, not evn allow to login and after long time if you login then course video not playing.   \n",
       "5                                                                                                                                                                                                                                                                                                                                                                                                                                       1-Not downloading video... 2-Crash app repeatedly 3-downloaded video buffering   \n",
       "6                                                                                                                                                                                                                                                                                                                                                                                                                                                                                                                  Okk   \n",
       "7                                                                                                                                                                                                                                                                                                                                                                                                                                                                                                              Amazing   \n",
       "8   So incredibly irritating. This app is just so painful to use. The video player is a joke, the constant popups asking for attention are irritating at best. It eats your battery. The UX constantly catches you out by skipping to the previous video, losing your place. If I hadn't bought this course by Peter Baker I would be using something free on YouTube instead. The course is great, but I'll never buy anything through this app again. BTW: No, I won't be opening a support ticket. That's your job.   \n",
       "9                                                                                                                                                          Payments issues are never ending. I made the payment and the transactions details shows that I credited to receipent account . But in udmey it is showing payment pending ?? This is the second time I'm facing this issue. Is it always like this????? Do they need some months or years to verify the payment ?????????? Pls guys improve the things ....   \n",
       "10                                                                                                                                                                                                                                                                                                                                           The application is very helpful but it starts to slow down when I try to delete the downloaded videos. I haven't been able to delete all the videos yet. Please fix this.   \n",
       "11                                                                                                                                                                                                                                                                                                                                                                                                                                                                                   ❤️da lo app but content is great!   \n",
       "12                                                                                                                                                                                                                                                                                                                                                                                                                                                                                        Amazing learning experience.   \n",
       "13                                                                                                                                                                                                                                                                                                                                                                              The best educational app ever. both from the perspective of user experience of platform and from the perspective of available content.   \n",
       "14                                                                                                                                                                                                                                                             Can't buy courses. I can see all the courses, everything says web exclusive, but there is literally no price or no option to buy them . Been trying for weeks now, searched the web for over an hour and can't seem to find resolution to this problem.   \n",
       "15                                                                                                                                                                                                                                                                                                                                                                                                                        There is an issue in the app .. the website is working but the app is so slow and don't work   \n",
       "16                                                                                                                                                                                                                                                                                                                                                                                                                                                                             Draining too much of my OnePlus battery   \n",
       "17                                                                                                                                                                                                                                                                                                                                                   Udemy is so amazing the problem is the app it loads forever even if there is network, can you pliz fix that, I can't afford to use the website to view my courses   \n",
       "18                                                                                                                                                                                                                                                                                                                                                                                 Excellent for learning when you want to step away from your PC or catch-up on a class while on the go. Fast, simple, and efficient.   \n",
       "19                                                                                                                                                                                                                                                                                                                                                                                                                                                                                                        Helpfull app   \n",
       "20                                                                                                                                                                                                                                                                                                                                                                                                                                                 please make udemy available for playstation 4 & amazon fire tablet.   \n",
       "21                                                                                                                                                                                                                                                The app works as expected but i do not understand why such an easy feature to implement of ordering the courses as sorted by enrolled is missing. Online in the web app is present and is barely 20m max 3hours to implement on the mobile as developers effort time   \n",
       "22                                                                                                                                                                                                                                                                                                       Working offline is a mass. If I go through some lessons offline they cannot synchronise after I get connection back. And I will not be able to continue with other lessons unless I disconnect from internet.   \n",
       "23                                                                                                                                                                                                                                                                                                                                                                                                                                                          they stopped giving discount prices on many of the courses   \n",
       "24                                                                                                                                                                                                                                                                                                                                                                                                                                                                                                                 wow   \n",
       "25                                                                                                                                                                                                                                                                                                                                                                                                                                                                                        Best app for online learning   \n",
       "26                                                                                                                                                                                                                                                                                                                               Buggy, app crashes and sometimes even my phone restarts because of it. I don't know what you guys did wrong with this application, i wish it worked cause the content itself is good.   \n",
       "27                                                                                                                                                                                                                                                                                                                                                                                                                                                                              The player is super slow. Seriously?!!   \n",
       "28                                                                                                                                                                                                                                                                                                             Udemy Academy has been one of the greatest teaching and learning tools that I have experienced thus far. It's convienant easy to access and navigating throughout the plateform is a breeze. Thank you!   \n",
       "29                                                                                                                                                                                                                                                                                                                                                                                                                                 I am trying to login with gmail but not logged in. Saying check email and password.   \n",
       "30                                                                                                                                                                                                                                                                                                                                                                                                                           App works well on phone and tablet. Really enjoying my courses and it's easy to navigate.   \n",
       "31                                                                                                                                                                                                                                                                                                                                                                                                                                                                        Is this app available for windows 11 system?   \n",
       "32                                                                                                                                                                                                                                                                                                                                                                                                                               it is very good learning platform aplication that make every people study by themself   \n",
       "33                                                                                                                                                                                                                                                                                                                                                   Over all its good ,however, will love the feature of zooming in screen view similar to what youtube offer to its users ,as you miss the details otherwise. Thanks   \n",
       "34                                                                                                                                                                                                                                                                                                                                                                                                                                                             good app, good instructors, this doesn't deserve 1 star   \n",
       "35                                                                                                                                                                                                                                                                                                                                                                                                                      Fully knowledgeable, but experiencing buffering during traveling despite of downloaded videos.   \n",
       "36                                                                                                                                                                                                                                                                                                                                                                       This platform is very nice... every beginners, amateur and are professionals are admonished to use this platform for easy learning tutorials.   \n",
       "37                                                                                                                                                                                                                                                                                                                                            Great content but the app consistently freezes and won't play. Sometimes it takes closing and reopening the app, and this is even with content that has been downloaded.   \n",
       "38                                                                                                                                                                                                                                                                                                                                                                                                                                                                 I like, because there is a wide variety of courses.   \n",
       "39                                                                                                                                                                                                                                                                                                                                                                                                                                                                                                detailed description   \n",
       "\n",
       "    score  ID  scores_TextBlob  pred_TextBlob  \n",
       "0       5   1         0.910000              1  \n",
       "1       1   2         0.165000              1  \n",
       "2       5   3         0.700000              1  \n",
       "3       5   4         1.000000              1  \n",
       "4       1   5        -0.175000              0  \n",
       "5       1   6         0.000000              1  \n",
       "6       5   7         0.000000              1  \n",
       "7       5   8         0.600000              1  \n",
       "8       1   9         0.059259              1  \n",
       "9       1  10         0.000000              1  \n",
       "10      4  11         0.061111              1  \n",
       "11      1  12         1.000000              1  \n",
       "12      5  13         0.600000              1  \n",
       "13      5  14         0.550000              1  \n",
       "14      1  15         0.000000              1  \n",
       "15      3  16        -0.300000              0  \n",
       "16      1  17         0.200000              1  \n",
       "17      5  18         0.600000              1  \n",
       "18      5  19         0.400000              1  \n",
       "19      5  20         0.000000              1  \n",
       "20      5  21         0.400000              1  \n",
       "21      3  22         0.030556              1  \n",
       "22      2  23         0.125000              1  \n",
       "23      1  24         0.500000              1  \n",
       "24      5  25         0.100000              1  \n",
       "25      5  26         1.000000              1  \n",
       "26      1  27         0.100000              1  \n",
       "27      1  28        -0.162500              0  \n",
       "28      5  29         0.610417              1  \n",
       "29      1  30         0.000000              1  \n",
       "30      5  31         0.466667              1  \n",
       "31      3  32         0.400000              1  \n",
       "32      5  33         0.910000              1  \n",
       "33      4  34         0.350000              1  \n",
       "34      5  35         0.700000              1  \n",
       "35      3  36         0.000000              1  \n",
       "36      4  37         0.321111              1  \n",
       "37      1  38         0.525000              1  \n",
       "38      5  39        -0.100000              0  \n",
       "39      4  40         0.400000              1  "
      ]
     },
     "execution_count": 126,
     "metadata": {},
     "output_type": "execute_result"
    }
   ],
   "source": [
    "# Get sentiment score for each review\n",
    "reviews_df1['scores_TextBlob'] = reviews_df1['content'].apply(lambda s: TextBlob(s).sentiment.polarity)\n",
    "\n",
    "# Predict sentiment label for each review\n",
    "reviews_df1['pred_TextBlob'] = reviews_df1['scores_TextBlob'].apply(lambda x: 1 if x >=0 else 0)\n",
    "reviews_df1.head(40)"
   ]
  },
  {
   "cell_type": "code",
   "execution_count": 127,
   "id": "f001008e",
   "metadata": {},
   "outputs": [
    {
     "data": {
      "text/html": [
       "<div>\n",
       "<style scoped>\n",
       "    .dataframe tbody tr th:only-of-type {\n",
       "        vertical-align: middle;\n",
       "    }\n",
       "\n",
       "    .dataframe tbody tr th {\n",
       "        vertical-align: top;\n",
       "    }\n",
       "\n",
       "    .dataframe thead th {\n",
       "        text-align: right;\n",
       "    }\n",
       "</style>\n",
       "<table border=\"1\" class=\"dataframe\">\n",
       "  <thead>\n",
       "    <tr style=\"text-align: right;\">\n",
       "      <th></th>\n",
       "      <th>content</th>\n",
       "      <th>score</th>\n",
       "      <th>ID</th>\n",
       "      <th>scores_TextBlob</th>\n",
       "      <th>pred_TextBlob</th>\n",
       "      <th>label</th>\n",
       "    </tr>\n",
       "  </thead>\n",
       "  <tbody>\n",
       "    <tr>\n",
       "      <th>0</th>\n",
       "      <td>Very Good</td>\n",
       "      <td>5</td>\n",
       "      <td>1</td>\n",
       "      <td>0.910</td>\n",
       "      <td>1</td>\n",
       "      <td>1</td>\n",
       "    </tr>\n",
       "    <tr>\n",
       "      <th>1</th>\n",
       "      <td>Absolutely rubbish &amp; fraudulent. I wanted to buy a course through the app. I did that and the payment was also successful. I did receive an email confirmation. Soon after that when I checked, I could find the course under My learning. I switched between the options to check out for other courses and then came back to My learning where the course was not there anymore. I sent multiple emails to the udemy mail id but no response at all. Also, there is no contact no. seen anywhere on their site.</td>\n",
       "      <td>1</td>\n",
       "      <td>2</td>\n",
       "      <td>0.165</td>\n",
       "      <td>1</td>\n",
       "      <td>0</td>\n",
       "    </tr>\n",
       "    <tr>\n",
       "      <th>2</th>\n",
       "      <td>Good</td>\n",
       "      <td>5</td>\n",
       "      <td>3</td>\n",
       "      <td>0.700</td>\n",
       "      <td>1</td>\n",
       "      <td>1</td>\n",
       "    </tr>\n",
       "    <tr>\n",
       "      <th>3</th>\n",
       "      <td>Best</td>\n",
       "      <td>5</td>\n",
       "      <td>4</td>\n",
       "      <td>1.000</td>\n",
       "      <td>1</td>\n",
       "      <td>1</td>\n",
       "    </tr>\n",
       "    <tr>\n",
       "      <th>4</th>\n",
       "      <td>After update app become slow, not evn allow to login and after long time if you login then course video not playing.</td>\n",
       "      <td>1</td>\n",
       "      <td>5</td>\n",
       "      <td>-0.175</td>\n",
       "      <td>0</td>\n",
       "      <td>0</td>\n",
       "    </tr>\n",
       "  </tbody>\n",
       "</table>\n",
       "</div>"
      ],
      "text/plain": [
       "                                                                                                                                                                                                                                                                                                                                                                                                                                                                                                             content  \\\n",
       "0                                                                                                                                                                                                                                                                                                                                                                                                                                                                                                          Very Good   \n",
       "1  Absolutely rubbish & fraudulent. I wanted to buy a course through the app. I did that and the payment was also successful. I did receive an email confirmation. Soon after that when I checked, I could find the course under My learning. I switched between the options to check out for other courses and then came back to My learning where the course was not there anymore. I sent multiple emails to the udemy mail id but no response at all. Also, there is no contact no. seen anywhere on their site.   \n",
       "2                                                                                                                                                                                                                                                                                                                                                                                                                                                                                                               Good   \n",
       "3                                                                                                                                                                                                                                                                                                                                                                                                                                                                                                               Best   \n",
       "4                                                                                                                                                                                                                                                                                                                                                                                               After update app become slow, not evn allow to login and after long time if you login then course video not playing.   \n",
       "\n",
       "   score  ID  scores_TextBlob  pred_TextBlob  label  \n",
       "0      5   1            0.910              1      1  \n",
       "1      1   2            0.165              1      0  \n",
       "2      5   3            0.700              1      1  \n",
       "3      5   4            1.000              1      1  \n",
       "4      1   5           -0.175              0      0  "
      ]
     },
     "execution_count": 127,
     "metadata": {},
     "output_type": "execute_result"
    }
   ],
   "source": [
    "# Predict sentiment label for each review\n",
    "reviews_df1['label'] = reviews_df1['score'].apply(lambda x: 1 if x >=3 else 0)\n",
    "reviews_df1.head()"
   ]
  },
  {
   "cell_type": "markdown",
   "id": "d264d7cd",
   "metadata": {},
   "source": [
    "#### After getting predictions from TextBlob, let's check the prediction accuracy. "
   ]
  },
  {
   "cell_type": "code",
   "execution_count": 128,
   "id": "99ac1121",
   "metadata": {},
   "outputs": [
    {
     "data": {
      "text/plain": [
       "0.83156"
      ]
     },
     "execution_count": 128,
     "metadata": {},
     "output_type": "execute_result"
    }
   ],
   "source": [
    "# Compare Actual and Predicted\n",
    "accuracy_score(reviews_df1['label'],reviews_df1['pred_TextBlob'])"
   ]
  },
  {
   "cell_type": "markdown",
   "id": "f373a381",
   "metadata": {},
   "source": [
    "#### Comparing the actual label with the TextBlob prediction, we get an accuracy score of 0.83214, which means that TextBlob predicted the review sentiment 83.2% of the time. "
   ]
  },
  {
   "cell_type": "markdown",
   "id": "7ea54b8b",
   "metadata": {},
   "source": [
    "# VADER For Sentiment Analysis"
   ]
  },
  {
   "cell_type": "markdown",
   "id": "34c9cff2",
   "metadata": {},
   "source": [
    "#### we will apply VADER to the Udemy on line course review dataset and see how it performs.\n",
    "\n",
    "We first get the sentiment compound score for each review and save the values into a column called 'scores_VADER'. Then check if the compound score is positive. If the score is greater than or equal to zero, the predicted sentiment for the review is positive (labeled as 1). Otherwise, the predicted sentiment for the review is negative (labeled as 0)."
   ]
  },
  {
   "cell_type": "code",
   "execution_count": 129,
   "id": "2f0d9f65",
   "metadata": {
    "scrolled": true
   },
   "outputs": [
    {
     "data": {
      "text/html": [
       "<div>\n",
       "<style scoped>\n",
       "    .dataframe tbody tr th:only-of-type {\n",
       "        vertical-align: middle;\n",
       "    }\n",
       "\n",
       "    .dataframe tbody tr th {\n",
       "        vertical-align: top;\n",
       "    }\n",
       "\n",
       "    .dataframe thead th {\n",
       "        text-align: right;\n",
       "    }\n",
       "</style>\n",
       "<table border=\"1\" class=\"dataframe\">\n",
       "  <thead>\n",
       "    <tr style=\"text-align: right;\">\n",
       "      <th></th>\n",
       "      <th>content</th>\n",
       "      <th>score</th>\n",
       "      <th>ID</th>\n",
       "      <th>scores_TextBlob</th>\n",
       "      <th>pred_TextBlob</th>\n",
       "      <th>label</th>\n",
       "      <th>scores_VADER</th>\n",
       "      <th>pred_VADER</th>\n",
       "    </tr>\n",
       "  </thead>\n",
       "  <tbody>\n",
       "    <tr>\n",
       "      <th>0</th>\n",
       "      <td>Very Good</td>\n",
       "      <td>5</td>\n",
       "      <td>1</td>\n",
       "      <td>0.910</td>\n",
       "      <td>1</td>\n",
       "      <td>1</td>\n",
       "      <td>0.4927</td>\n",
       "      <td>1</td>\n",
       "    </tr>\n",
       "    <tr>\n",
       "      <th>1</th>\n",
       "      <td>Absolutely rubbish &amp; fraudulent. I wanted to buy a course through the app. I did that and the payment was also successful. I did receive an email confirmation. Soon after that when I checked, I could find the course under My learning. I switched between the options to check out for other courses and then came back to My learning where the course was not there anymore. I sent multiple emails to the udemy mail id but no response at all. Also, there is no contact no. seen anywhere on their site.</td>\n",
       "      <td>1</td>\n",
       "      <td>2</td>\n",
       "      <td>0.165</td>\n",
       "      <td>1</td>\n",
       "      <td>0</td>\n",
       "      <td>-0.6632</td>\n",
       "      <td>0</td>\n",
       "    </tr>\n",
       "    <tr>\n",
       "      <th>2</th>\n",
       "      <td>Good</td>\n",
       "      <td>5</td>\n",
       "      <td>3</td>\n",
       "      <td>0.700</td>\n",
       "      <td>1</td>\n",
       "      <td>1</td>\n",
       "      <td>0.4404</td>\n",
       "      <td>1</td>\n",
       "    </tr>\n",
       "    <tr>\n",
       "      <th>3</th>\n",
       "      <td>Best</td>\n",
       "      <td>5</td>\n",
       "      <td>4</td>\n",
       "      <td>1.000</td>\n",
       "      <td>1</td>\n",
       "      <td>1</td>\n",
       "      <td>0.6369</td>\n",
       "      <td>1</td>\n",
       "    </tr>\n",
       "    <tr>\n",
       "      <th>4</th>\n",
       "      <td>After update app become slow, not evn allow to login and after long time if you login then course video not playing.</td>\n",
       "      <td>1</td>\n",
       "      <td>5</td>\n",
       "      <td>-0.175</td>\n",
       "      <td>0</td>\n",
       "      <td>0</td>\n",
       "      <td>-0.3089</td>\n",
       "      <td>0</td>\n",
       "    </tr>\n",
       "  </tbody>\n",
       "</table>\n",
       "</div>"
      ],
      "text/plain": [
       "                                                                                                                                                                                                                                                                                                                                                                                                                                                                                                             content  \\\n",
       "0                                                                                                                                                                                                                                                                                                                                                                                                                                                                                                          Very Good   \n",
       "1  Absolutely rubbish & fraudulent. I wanted to buy a course through the app. I did that and the payment was also successful. I did receive an email confirmation. Soon after that when I checked, I could find the course under My learning. I switched between the options to check out for other courses and then came back to My learning where the course was not there anymore. I sent multiple emails to the udemy mail id but no response at all. Also, there is no contact no. seen anywhere on their site.   \n",
       "2                                                                                                                                                                                                                                                                                                                                                                                                                                                                                                               Good   \n",
       "3                                                                                                                                                                                                                                                                                                                                                                                                                                                                                                               Best   \n",
       "4                                                                                                                                                                                                                                                                                                                                                                                               After update app become slow, not evn allow to login and after long time if you login then course video not playing.   \n",
       "\n",
       "   score  ID  scores_TextBlob  pred_TextBlob  label  scores_VADER  pred_VADER  \n",
       "0      5   1            0.910              1      1        0.4927           1  \n",
       "1      1   2            0.165              1      0       -0.6632           0  \n",
       "2      5   3            0.700              1      1        0.4404           1  \n",
       "3      5   4            1.000              1      1        0.6369           1  \n",
       "4      1   5           -0.175              0      0       -0.3089           0  "
      ]
     },
     "execution_count": 129,
     "metadata": {},
     "output_type": "execute_result"
    }
   ],
   "source": [
    "# Get sentiment score for each review\n",
    "vader_sentiment = SentimentIntensityAnalyzer()\n",
    "reviews_df1['scores_VADER'] = reviews_df1['content'].apply(lambda s: vader_sentiment.polarity_scores(s)['compound'])\n",
    "\n",
    "# Predict sentiment label for each review\n",
    "reviews_df1['pred_VADER'] = reviews_df1['scores_VADER'].apply(lambda x: 1 if x >=0 else 0)\n",
    "reviews_df1.head()"
   ]
  },
  {
   "cell_type": "markdown",
   "id": "7f377233",
   "metadata": {},
   "source": [
    "#### After getting predictions from VADER, let's check the prediction accuracy"
   ]
  },
  {
   "cell_type": "code",
   "execution_count": 130,
   "id": "557e2864",
   "metadata": {},
   "outputs": [
    {
     "data": {
      "text/plain": [
       "0.8415"
      ]
     },
     "execution_count": 130,
     "metadata": {},
     "output_type": "execute_result"
    }
   ],
   "source": [
    "# Compare Actual and Predicted\n",
    "accuracy_score(reviews_df1['label'],reviews_df1['pred_VADER'])"
   ]
  },
  {
   "cell_type": "markdown",
   "id": "e1a53c4d",
   "metadata": {},
   "source": [
    "#### Comparing the actual label with the VADER prediction, we get an accuracy score of 0.84, which means that VADER predicted the review sentiment 84.1% of the time. \n",
    "TextBlob has a prediction accuracy of 83.2% for the same dataset, so VADER has an 1% improvement over the TextBlob prediction."
   ]
  },
  {
   "cell_type": "markdown",
   "id": "8480fa29",
   "metadata": {},
   "source": [
    "# Flair For Sentiment Analysis"
   ]
  },
  {
   "cell_type": "code",
   "execution_count": 131,
   "id": "d50e8dba",
   "metadata": {},
   "outputs": [],
   "source": [
    "# Define a function to get Flair sentiment prediction score\n",
    "def score_flair(text):\n",
    "    sentence = Sentence(text)\n",
    "    classifier.predict(sentence)\n",
    "    score = sentence.labels[0].score\n",
    "    value = sentence.labels[0].value\n",
    "    return score, value"
   ]
  },
  {
   "cell_type": "code",
   "execution_count": 132,
   "id": "bdb802d7",
   "metadata": {},
   "outputs": [],
   "source": [
    "# Get sentiment score for each review\n",
    "reviews_df1['scores_flair'] = reviews_df1['content'].apply(lambda s: score_flair(s)[0])\n",
    "\n",
    "# Predict sentiment label for each review\n",
    "reviews_df1['pred_flair'] = reviews_df1['content'].apply(lambda s: score_flair(s)[1])"
   ]
  },
  {
   "cell_type": "markdown",
   "id": "f916d41c",
   "metadata": {},
   "source": [
    "#### We can see that the summary statistics show that most flair scores are close to 1, which means that the flair sentiment model is overall very confident about the predictions."
   ]
  },
  {
   "cell_type": "code",
   "execution_count": 133,
   "id": "c82abd31",
   "metadata": {
    "scrolled": true
   },
   "outputs": [
    {
     "data": {
      "text/plain": [
       "count    50000.000000\n",
       "mean         0.971870\n",
       "std          0.069966\n",
       "min          0.500020\n",
       "25%          0.982882\n",
       "50%          0.994698\n",
       "75%          0.999409\n",
       "max          0.999999\n",
       "Name: scores_flair, dtype: float64"
      ]
     },
     "execution_count": 133,
     "metadata": {},
     "output_type": "execute_result"
    }
   ],
   "source": [
    "# Check the distribution of the score\n",
    "reviews_df1['scores_flair'].describe()"
   ]
  },
  {
   "cell_type": "markdown",
   "id": "55cede08",
   "metadata": {},
   "source": [
    "#### The distribution of the labels is very balanced."
   ]
  },
  {
   "cell_type": "code",
   "execution_count": 648,
   "id": "b45af4e8",
   "metadata": {},
   "outputs": [
    {
     "data": {
      "text/plain": [
       "POSITIVE    32692\n",
       "NEGATIVE    17308\n",
       "Name: pred_flair, dtype: int64"
      ]
     },
     "execution_count": 648,
     "metadata": {},
     "output_type": "execute_result"
    }
   ],
   "source": [
    "# Check the counts of labels\n",
    "reviews_df1['pred_flair'].value_counts()"
   ]
  },
  {
   "cell_type": "code",
   "execution_count": 649,
   "id": "640bb437",
   "metadata": {
    "scrolled": false
   },
   "outputs": [
    {
     "data": {
      "text/html": [
       "<div>\n",
       "<style scoped>\n",
       "    .dataframe tbody tr th:only-of-type {\n",
       "        vertical-align: middle;\n",
       "    }\n",
       "\n",
       "    .dataframe tbody tr th {\n",
       "        vertical-align: top;\n",
       "    }\n",
       "\n",
       "    .dataframe thead th {\n",
       "        text-align: right;\n",
       "    }\n",
       "</style>\n",
       "<table border=\"1\" class=\"dataframe\">\n",
       "  <thead>\n",
       "    <tr style=\"text-align: right;\">\n",
       "      <th></th>\n",
       "      <th>content</th>\n",
       "      <th>score</th>\n",
       "      <th>ID</th>\n",
       "      <th>scores_TextBlob</th>\n",
       "      <th>pred_TextBlob</th>\n",
       "      <th>label</th>\n",
       "      <th>scores_VADER</th>\n",
       "      <th>pred_VADER</th>\n",
       "      <th>scores_flair</th>\n",
       "      <th>pred_flair</th>\n",
       "    </tr>\n",
       "  </thead>\n",
       "  <tbody>\n",
       "    <tr>\n",
       "      <th>0</th>\n",
       "      <td>it's very useful app 👍🙂. you can learn everything.</td>\n",
       "      <td>5</td>\n",
       "      <td>1</td>\n",
       "      <td>0.390000</td>\n",
       "      <td>1</td>\n",
       "      <td>1</td>\n",
       "      <td>0.7096</td>\n",
       "      <td>1</td>\n",
       "      <td>0.989366</td>\n",
       "      <td>POSITIVE</td>\n",
       "    </tr>\n",
       "    <tr>\n",
       "      <th>1</th>\n",
       "      <td>After the recent update, I noticed that when a lecture ends, the next lecture does not start automatically and also manually I am unable to play the next lecture and also selecting any random lecture from my course does not play the lecture. I am stuck in this crucial time. Please fix this defect asap.</td>\n",
       "      <td>2</td>\n",
       "      <td>2</td>\n",
       "      <td>-0.166667</td>\n",
       "      <td>0</td>\n",
       "      <td>0</td>\n",
       "      <td>-0.1867</td>\n",
       "      <td>0</td>\n",
       "      <td>0.999986</td>\n",
       "      <td>NEGATIVE</td>\n",
       "    </tr>\n",
       "    <tr>\n",
       "      <th>2</th>\n",
       "      <td>very helpful for the beginners</td>\n",
       "      <td>5</td>\n",
       "      <td>3</td>\n",
       "      <td>0.200000</td>\n",
       "      <td>1</td>\n",
       "      <td>1</td>\n",
       "      <td>0.4754</td>\n",
       "      <td>1</td>\n",
       "      <td>0.990698</td>\n",
       "      <td>POSITIVE</td>\n",
       "    </tr>\n",
       "    <tr>\n",
       "      <th>3</th>\n",
       "      <td>Genuinely love it, thanks!</td>\n",
       "      <td>5</td>\n",
       "      <td>4</td>\n",
       "      <td>0.375000</td>\n",
       "      <td>1</td>\n",
       "      <td>1</td>\n",
       "      <td>0.8122</td>\n",
       "      <td>1</td>\n",
       "      <td>0.998615</td>\n",
       "      <td>POSITIVE</td>\n",
       "    </tr>\n",
       "    <tr>\n",
       "      <th>4</th>\n",
       "      <td>Udemy has deleted all my courses and all my progress. Update, I found that I had change my account email to an email that I did not recall I have finally regained access Please make it possible to log into your account using the username in the future</td>\n",
       "      <td>5</td>\n",
       "      <td>5</td>\n",
       "      <td>0.000000</td>\n",
       "      <td>1</td>\n",
       "      <td>1</td>\n",
       "      <td>0.6249</td>\n",
       "      <td>1</td>\n",
       "      <td>0.999974</td>\n",
       "      <td>NEGATIVE</td>\n",
       "    </tr>\n",
       "  </tbody>\n",
       "</table>\n",
       "</div>"
      ],
      "text/plain": [
       "                                                                                                                                                                                                                                                                                                           content  \\\n",
       "0                                                                                                                                                                                                                                                               it's very useful app 👍🙂. you can learn everything.   \n",
       "1  After the recent update, I noticed that when a lecture ends, the next lecture does not start automatically and also manually I am unable to play the next lecture and also selecting any random lecture from my course does not play the lecture. I am stuck in this crucial time. Please fix this defect asap.   \n",
       "2                                                                                                                                                                                                                                                                                   very helpful for the beginners   \n",
       "3                                                                                                                                                                                                                                                                                       Genuinely love it, thanks!   \n",
       "4                                                      Udemy has deleted all my courses and all my progress. Update, I found that I had change my account email to an email that I did not recall I have finally regained access Please make it possible to log into your account using the username in the future   \n",
       "\n",
       "   score  ID  scores_TextBlob  pred_TextBlob  label  scores_VADER  pred_VADER  \\\n",
       "0      5   1         0.390000              1      1        0.7096           1   \n",
       "1      2   2        -0.166667              0      0       -0.1867           0   \n",
       "2      5   3         0.200000              1      1        0.4754           1   \n",
       "3      5   4         0.375000              1      1        0.8122           1   \n",
       "4      5   5         0.000000              1      1        0.6249           1   \n",
       "\n",
       "   scores_flair pred_flair  \n",
       "0      0.989366   POSITIVE  \n",
       "1      0.999986   NEGATIVE  \n",
       "2      0.990698   POSITIVE  \n",
       "3      0.998615   POSITIVE  \n",
       "4      0.999974   NEGATIVE  "
      ]
     },
     "execution_count": 649,
     "metadata": {},
     "output_type": "execute_result"
    }
   ],
   "source": [
    "# Check sample records\n",
    "reviews_df1.head()"
   ]
  },
  {
   "cell_type": "code",
   "execution_count": 134,
   "id": "06eaae0e",
   "metadata": {},
   "outputs": [
    {
     "data": {
      "image/png": "[encoded data removed]",
      "text/plain": [
       "<Figure size 1080x360 with 3 Axes>"
      ]
     },
     "metadata": {},
     "output_type": "display_data"
    }
   ],
   "source": [
    "fig,axs=plt.subplots(1,3,figsize=(15,5))\n",
    "sns.barplot(data=reviews_df1,x='score',y='pred_TextBlob',ax=axs[0])\n",
    "sns.barplot(data=reviews_df1,x='score',y='pred_VADER',ax=axs[1])\n",
    "sns.barplot(data=reviews_df1,x='score',y='pred_flair',ax=axs[2])\n",
    "axs[0].set_title('pred_TextBlob')\n",
    "axs[1].set_title('pred_VADER')\n",
    "axs[2].set_title('pred_flair')\n",
    "plt.tight_layout()\n",
    "plt.show()"
   ]
  },
  {
   "cell_type": "markdown",
   "id": "35abde4a",
   "metadata": {},
   "source": [
    "#### Before checking the prediction accuracy, we need to map the 'NEGATIVE' value to 0 and the 'POSITIVE' value to 1 because the Amazon review dataset has true labels of 0 and 1."
   ]
  },
  {
   "cell_type": "code",
   "execution_count": 135,
   "id": "f0695852",
   "metadata": {},
   "outputs": [],
   "source": [
    "# Change the label of flair prediction to 0 if negative and 1 if positive\n",
    "mapping = {'NEGATIVE': 0, 'POSITIVE': 1}\n",
    "reviews_df1['pred_flair'] = reviews_df1['pred_flair'].map(mapping)"
   ]
  },
  {
   "cell_type": "code",
   "execution_count": 136,
   "id": "7832c555",
   "metadata": {
    "scrolled": true
   },
   "outputs": [
    {
     "data": {
      "text/plain": [
       "1    32665\n",
       "0    17335\n",
       "Name: pred_flair, dtype: int64"
      ]
     },
     "execution_count": 136,
     "metadata": {},
     "output_type": "execute_result"
    }
   ],
   "source": [
    "# Check counts\n",
    "reviews_df1['pred_flair'].value_counts()"
   ]
  },
  {
   "cell_type": "markdown",
   "id": "7e5fdbc6",
   "metadata": {},
   "source": [
    "#### After comparing the flair prediction with the actual sentiment label, we can see that flair predicts the sentiment correctly 94.8% of the time! The prediction accuracy is an 18% increase from VADER and a 26% increase from TextBlob!\n",
    "\n"
   ]
  },
  {
   "cell_type": "markdown",
   "id": "967355ec",
   "metadata": {},
   "source": [
    "# <div class=\"alert alert-success\">Conclusion</div>"
   ]
  },
  {
   "cell_type": "markdown",
   "id": "6d2b1e63",
   "metadata": {},
   "source": [
    "##### In this above analysis we compared TextBlob vs. VADER vs. Flair for sentiment analysis.\n",
    "\n",
    "* Methodology\n",
    " * VADER and TextBlob are lexicon and rule-based. \n",
    " * Flair is model-based.\n",
    "* Meaning of score\n",
    " * VADER and TextBlob have sentiment scores ranging from -1 to 1, where -1 means very negative, 1 means very positive, and 0 means neutral.\n",
    " * Flair has a score ranging from 0 to 1, where 0 means very unconfident about the prediction and 1 means very confident about the prediction. \n",
    "* Speed Performance\n",
    " * Flair is slower than TextBlob and VADER because the computation algorithm is more complicated.\n",
    "* Accuracy Performance\n",
    " * Based on the results of this project, flair has the best prediction accuracy, VADER is the second-best, and TextBlob is the third."
   ]
  }
 ],
 "metadata": {
  "kernelspec": {
   "display_name": "Python 3 (ipykernel)",
   "language": "python",
   "name": "python3"
  },
  "language_info": {
   "codemirror_mode": {
    "name": "ipython",
    "version": 3
   },
   "file_extension": ".py",
   "mimetype": "text/x-python",
   "name": "python",
   "nbconvert_exporter": "python",
   "pygments_lexer": "ipython3",
   "version": "3.9.12"
  }
 },
 "nbformat": 4,
 "nbformat_minor": 5
}
